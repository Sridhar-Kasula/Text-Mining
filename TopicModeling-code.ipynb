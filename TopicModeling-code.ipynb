{
 "cells": [
  {
   "cell_type": "code",
   "execution_count": 24,
   "id": "752a7203",
   "metadata": {},
   "outputs": [],
   "source": [
    "#######################################################\n",
    "#######################################################\n",
    "############    COPYRIGHT - DATA SOCIETY   ############\n",
    "#######################################################\n",
    "#######################################################\n",
    "\n",
    "## Topic Modeling In N L P: Topic Modeling - 2 ##\n",
    "\n",
    "## NOTE: To run individual pieces of code, select the line of code and\n",
    "##       press ctrl + enter for PCs or command + enter for Macs"
   ]
  },
  {
   "cell_type": "code",
   "execution_count": 25,
   "id": "6990064c-218f-4a24-a3f7-b4d4dd16f872",
   "metadata": {},
   "outputs": [
    {
     "name": "stdout",
     "output_type": "stream",
     "text": [
      "Requirement already satisfied: pyLDAvis in /usr/local/python/3.10.13/lib/python3.10/site-packages (3.4.1)\n",
      "Requirement already satisfied: numpy>=1.24.2 in /home/codespace/.local/lib/python3.10/site-packages (from pyLDAvis) (1.26.4)\n",
      "Requirement already satisfied: scipy in /usr/local/python/3.10.13/lib/python3.10/site-packages (from pyLDAvis) (1.12.0)\n",
      "Requirement already satisfied: pandas>=2.0.0 in /home/codespace/.local/lib/python3.10/site-packages (from pyLDAvis) (2.2.1)\n",
      "Requirement already satisfied: joblib>=1.2.0 in /home/codespace/.local/lib/python3.10/site-packages (from pyLDAvis) (1.3.2)\n",
      "Requirement already satisfied: jinja2 in /home/codespace/.local/lib/python3.10/site-packages (from pyLDAvis) (3.1.3)\n",
      "Requirement already satisfied: numexpr in /usr/local/python/3.10.13/lib/python3.10/site-packages (from pyLDAvis) (2.10.0)\n",
      "Requirement already satisfied: funcy in /usr/local/python/3.10.13/lib/python3.10/site-packages (from pyLDAvis) (2.0)\n",
      "Requirement already satisfied: scikit-learn>=1.0.0 in /home/codespace/.local/lib/python3.10/site-packages (from pyLDAvis) (1.4.1.post1)\n",
      "Requirement already satisfied: gensim in /usr/local/python/3.10.13/lib/python3.10/site-packages (from pyLDAvis) (4.3.2)\n",
      "Requirement already satisfied: setuptools in /usr/local/python/3.10.13/lib/python3.10/site-packages (from pyLDAvis) (68.2.2)\n",
      "Requirement already satisfied: python-dateutil>=2.8.2 in /home/codespace/.local/lib/python3.10/site-packages (from pandas>=2.0.0->pyLDAvis) (2.9.0.post0)\n",
      "Requirement already satisfied: pytz>=2020.1 in /home/codespace/.local/lib/python3.10/site-packages (from pandas>=2.0.0->pyLDAvis) (2024.1)\n",
      "Requirement already satisfied: tzdata>=2022.7 in /home/codespace/.local/lib/python3.10/site-packages (from pandas>=2.0.0->pyLDAvis) (2024.1)\n",
      "Requirement already satisfied: threadpoolctl>=2.0.0 in /home/codespace/.local/lib/python3.10/site-packages (from scikit-learn>=1.0.0->pyLDAvis) (3.4.0)\n",
      "Requirement already satisfied: smart-open>=1.8.1 in /usr/local/python/3.10.13/lib/python3.10/site-packages (from gensim->pyLDAvis) (7.0.4)\n",
      "Requirement already satisfied: MarkupSafe>=2.0 in /home/codespace/.local/lib/python3.10/site-packages (from jinja2->pyLDAvis) (2.1.5)\n",
      "Requirement already satisfied: six>=1.5 in /home/codespace/.local/lib/python3.10/site-packages (from python-dateutil>=2.8.2->pandas>=2.0.0->pyLDAvis) (1.16.0)\n",
      "Requirement already satisfied: wrapt in /usr/local/python/3.10.13/lib/python3.10/site-packages (from smart-open>=1.8.1->gensim->pyLDAvis) (1.16.0)\n",
      "Note: you may need to restart the kernel to use updated packages.\n"
     ]
    }
   ],
   "source": [
    "%pip install pyLDAvis"
   ]
  },
  {
   "cell_type": "code",
   "execution_count": 26,
   "id": "5de701d7",
   "metadata": {},
   "outputs": [
    {
     "name": "stderr",
     "output_type": "stream",
     "text": [
      "[nltk_data] Downloading package punkt to /home/codespace/nltk_data...\n",
      "[nltk_data]   Package punkt is already up-to-date!\n",
      "[nltk_data] Downloading package stopwords to\n",
      "[nltk_data]     /home/codespace/nltk_data...\n",
      "[nltk_data]   Package stopwords is already up-to-date!\n"
     ]
    },
    {
     "data": {
      "text/plain": [
       "True"
      ]
     },
     "execution_count": 26,
     "metadata": {},
     "output_type": "execute_result"
    }
   ],
   "source": [
    "# =================================================-\n",
    "#### Slide 2/21: Load packages  ####\n",
    "\n",
    "# Builtin packages.\n",
    "from pathlib import Path\n",
    "from pprint import pprint\n",
    "\n",
    "# 3rd party packages.\n",
    "import gensim\n",
    "import matplotlib.pyplot as plt\n",
    "import nltk\n",
    "import numpy as np\n",
    "import pandas as pd\n",
    "import pyLDAvis\n",
    "import pyLDAvis.gensim\n",
    "from gensim import corpora, models\n",
    "from gensim.models.coherencemodel import CoherenceModel\n",
    "from nltk.corpus import stopwords\n",
    "from nltk.stem.porter import PorterStemmer\n",
    "from nltk.tokenize import word_tokenize\n",
    "from sklearn.feature_extraction.text import CountVectorizer\n",
    "\n",
    "nltk.download([\"punkt\", \"stopwords\"])"
   ]
  },
  {
   "cell_type": "code",
   "execution_count": 27,
   "id": "1d6849cb",
   "metadata": {},
   "outputs": [],
   "source": [
    "# =================================================-\n",
    "#### Slide 3/21: Directory settings  ####\n",
    "\n",
    "# Set 'main_dir' to location of the project folder\n",
    "# Path(\"data\").mkdir(exist_ok=True)\n",
    "Path(\"plot\").mkdir(exist_ok=True)"
   ]
  },
  {
   "cell_type": "code",
   "execution_count": 28,
   "id": "9a8cf0b6",
   "metadata": {},
   "outputs": [
    {
     "data": {
      "text/html": [
       "<div>\n",
       "<style scoped>\n",
       "    .dataframe tbody tr th:only-of-type {\n",
       "        vertical-align: middle;\n",
       "    }\n",
       "\n",
       "    .dataframe tbody tr th {\n",
       "        vertical-align: top;\n",
       "    }\n",
       "\n",
       "    .dataframe thead th {\n",
       "        text-align: right;\n",
       "    }\n",
       "</style>\n",
       "<table border=\"1\" class=\"dataframe\">\n",
       "  <thead>\n",
       "    <tr style=\"text-align: right;\">\n",
       "      <th></th>\n",
       "      <th>web_url</th>\n",
       "      <th>headline</th>\n",
       "      <th>snippet</th>\n",
       "      <th>word_count</th>\n",
       "      <th>source</th>\n",
       "      <th>type_of_material</th>\n",
       "      <th>date</th>\n",
       "      <th>id</th>\n",
       "    </tr>\n",
       "  </thead>\n",
       "  <tbody>\n",
       "    <tr>\n",
       "      <th>0</th>\n",
       "      <td>https://www.nytimes.com/reuters/2019/01/01/spo...</td>\n",
       "      <td>Kyrgios, Murray Power Into Second Round in Bri...</td>\n",
       "      <td>Nick Kyrgios started his Brisbane Open title d...</td>\n",
       "      <td>435</td>\n",
       "      <td>Reuters</td>\n",
       "      <td>News</td>\n",
       "      <td>2019-01-01</td>\n",
       "      <td>8</td>\n",
       "    </tr>\n",
       "    <tr>\n",
       "      <th>1</th>\n",
       "      <td>https://www.nytimes.com/reuters/2019/01/01/wor...</td>\n",
       "      <td>UK Police Treating Manchester Stabbing Attack ...</td>\n",
       "      <td>British police confirmed on Tuesday they were ...</td>\n",
       "      <td>81</td>\n",
       "      <td>Reuters</td>\n",
       "      <td>News</td>\n",
       "      <td>2019-01-01</td>\n",
       "      <td>9</td>\n",
       "    </tr>\n",
       "    <tr>\n",
       "      <th>2</th>\n",
       "      <td>https://www.nytimes.com/aponline/2019/01/01/sp...</td>\n",
       "      <td>Former NFL Player Wiley Talks Playoffs on Podc...</td>\n",
       "      <td>Marcellus Wiley is still on the fence about le...</td>\n",
       "      <td>272</td>\n",
       "      <td>AP</td>\n",
       "      <td>News</td>\n",
       "      <td>2019-01-01</td>\n",
       "      <td>10</td>\n",
       "    </tr>\n",
       "    <tr>\n",
       "      <th>3</th>\n",
       "      <td>https://www.nytimes.com/2019/01/09/arts/design...</td>\n",
       "      <td>After the Quake, Dana Schutz Gets Back to Work</td>\n",
       "      <td>Still reckoning with the fallout from her Emme...</td>\n",
       "      <td>1540</td>\n",
       "      <td>The New York Times</td>\n",
       "      <td>News</td>\n",
       "      <td>2019-01-09</td>\n",
       "      <td>11</td>\n",
       "    </tr>\n",
       "    <tr>\n",
       "      <th>4</th>\n",
       "      <td>https://www.nytimes.com/aponline/2019/01/10/sp...</td>\n",
       "      <td>Ogunbowale Helps Irish Beat Cardinals in 1-2 S...</td>\n",
       "      <td>As far as Arike Ogunbowale and coach Muffet Mc...</td>\n",
       "      <td>1059</td>\n",
       "      <td>AP</td>\n",
       "      <td>News</td>\n",
       "      <td>2019-01-11</td>\n",
       "      <td>12</td>\n",
       "    </tr>\n",
       "  </tbody>\n",
       "</table>\n",
       "</div>"
      ],
      "text/plain": [
       "                                             web_url  \\\n",
       "0  https://www.nytimes.com/reuters/2019/01/01/spo...   \n",
       "1  https://www.nytimes.com/reuters/2019/01/01/wor...   \n",
       "2  https://www.nytimes.com/aponline/2019/01/01/sp...   \n",
       "3  https://www.nytimes.com/2019/01/09/arts/design...   \n",
       "4  https://www.nytimes.com/aponline/2019/01/10/sp...   \n",
       "\n",
       "                                            headline  \\\n",
       "0  Kyrgios, Murray Power Into Second Round in Bri...   \n",
       "1  UK Police Treating Manchester Stabbing Attack ...   \n",
       "2  Former NFL Player Wiley Talks Playoffs on Podc...   \n",
       "3    After the Quake, Dana Schutz Gets Back to Work    \n",
       "4  Ogunbowale Helps Irish Beat Cardinals in 1-2 S...   \n",
       "\n",
       "                                             snippet  word_count  \\\n",
       "0  Nick Kyrgios started his Brisbane Open title d...         435   \n",
       "1  British police confirmed on Tuesday they were ...          81   \n",
       "2  Marcellus Wiley is still on the fence about le...         272   \n",
       "3  Still reckoning with the fallout from her Emme...        1540   \n",
       "4  As far as Arike Ogunbowale and coach Muffet Mc...        1059   \n",
       "\n",
       "               source type_of_material        date  id  \n",
       "0             Reuters             News  2019-01-01   8  \n",
       "1             Reuters             News  2019-01-01   9  \n",
       "2                  AP             News  2019-01-01  10  \n",
       "3  The New York Times             News  2019-01-09  11  \n",
       "4                  AP             News  2019-01-11  12  "
      ]
     },
     "execution_count": 28,
     "metadata": {},
     "output_type": "execute_result"
    }
   ],
   "source": [
    "# =================================================-\n",
    "#### Slide 5/21: Load data  ####\n",
    "\n",
    "# Let's load and prepare the dataset for creating Document-Term Matrix\n",
    "df = pd.read_csv(\"data/NYT_article_data.csv\")\n",
    "df.head()"
   ]
  },
  {
   "cell_type": "code",
   "execution_count": 29,
   "id": "e8007064",
   "metadata": {
    "jupyter": {
     "source_hidden": true
    }
   },
   "outputs": [
    {
     "name": "stdout",
     "output_type": "stream",
     "text": [
      "0\n",
      "0\n"
     ]
    }
   ],
   "source": [
    "# =================================================-\n",
    "#### Slide 6/21: Check for NAs  ####\n",
    "\n",
    "# Print total number of NAs.\n",
    "print(df[\"snippet\"].isna().sum())\n",
    "# Drop NAs if any.\n",
    "df = df.dropna(subset=[\"snippet\"]).reset_index(drop=True)\n",
    "print(df[\"snippet\"].isna().sum())\n",
    "# Isolate the `snippet` column.\n",
    "df_text = df[\"snippet\"]"
   ]
  },
  {
   "cell_type": "code",
   "execution_count": 30,
   "id": "5de6d069",
   "metadata": {
    "jupyter": {
     "source_hidden": true
    }
   },
   "outputs": [],
   "source": [
    "# =================================================-\n",
    "#### Slide 7/21: Tokenization: split each document into words  ####\n",
    "\n",
    "# Tokenize each document into a large list of tokenized documents.\n",
    "df_tokenized = [word_tokenize(df_text[i]) for i in range(0, len(df_text))]"
   ]
  },
  {
   "cell_type": "code",
   "execution_count": 31,
   "id": "4d5a4436",
   "metadata": {
    "jupyter": {
     "source_hidden": true
    }
   },
   "outputs": [
    {
     "name": "stdout",
     "output_type": "stream",
     "text": [
      "['Nick', 'Kyrgios', 'started', 'his', 'Brisbane', 'Open', 'title', 'defense', 'with', 'a', 'battling', '7-6', '(', '5', ')', '5-7', '7-6', '(', '5', ')', 'victory', 'over', 'American', 'Ryan', 'Harrison', 'in', 'the', 'opening', 'round', 'on', 'Tuesday', '.']\n",
      "['nick', 'kyrgios', 'started', 'his', 'brisbane', 'open', 'title', 'defense', 'with', 'a']\n"
     ]
    }
   ],
   "source": [
    "# =================================================-\n",
    "#### Slide 9/21: Convert characters to lowercase  ####\n",
    "\n",
    "# Let's take a look at the first tokenized document\n",
    "document_words = df_tokenized[0]\n",
    "print(document_words)\n",
    "# 1. Convert to lowercase.\n",
    "document_words = [word.lower() for word in document_words]\n",
    "print(document_words[:10])"
   ]
  },
  {
   "cell_type": "code",
   "execution_count": 32,
   "id": "014c5ac9",
   "metadata": {
    "jupyter": {
     "source_hidden": true
    }
   },
   "outputs": [
    {
     "name": "stdout",
     "output_type": "stream",
     "text": [
      "['i', 'me', 'my', 'myself', 'we', 'our', 'ours', 'ourselves', 'you', \"you're\"]\n",
      "['nick', 'kyrgios', 'started', 'brisbane', 'open', 'title', 'defense', 'battling', '7-6', '(']\n"
     ]
    }
   ],
   "source": [
    "# =================================================-\n",
    "#### Slide 10/21: Remove stop words  ####\n",
    "\n",
    "# 2. Remove stop words.\n",
    "# Get common English stop words.\n",
    "stop_words = stopwords.words(\"english\")\n",
    "print(stop_words[:10])\n",
    "# Remove stop words.\n",
    "document_words = [word for word in document_words if not word in stop_words]\n",
    "print(document_words[:10])"
   ]
  },
  {
   "cell_type": "code",
   "execution_count": 33,
   "id": "1da90673",
   "metadata": {
    "jupyter": {
     "source_hidden": true
    }
   },
   "outputs": [
    {
     "name": "stdout",
     "output_type": "stream",
     "text": [
      "['nick', 'kyrgios', 'started', 'brisbane', 'open', 'title', 'defense', 'battling', 'victory', 'american']\n"
     ]
    }
   ],
   "source": [
    "# =================================================-\n",
    "#### Slide 11/21: Remove non-alphabetical characters  ####\n",
    "\n",
    "# 3. Remove punctuation and any non-alphabetical characters.\n",
    "document_words = [word for word in document_words if word.isalpha()]\n",
    "print(document_words[:10])"
   ]
  },
  {
   "cell_type": "code",
   "execution_count": 34,
   "id": "f06335e4",
   "metadata": {
    "jupyter": {
     "source_hidden": true
    }
   },
   "outputs": [
    {
     "name": "stdout",
     "output_type": "stream",
     "text": [
      "['nick', 'kyrgio', 'start', 'brisban', 'open', 'titl', 'defens', 'battl', 'victori', 'american']\n"
     ]
    }
   ],
   "source": [
    "# =================================================-\n",
    "#### Slide 14/21: Stem words  ####\n",
    "\n",
    "# 4. Stem words.\n",
    "document_words = [PorterStemmer().stem(word) for word in document_words]\n",
    "print(document_words[:10])"
   ]
  },
  {
   "cell_type": "code",
   "execution_count": 35,
   "id": "1bfd255a",
   "metadata": {
    "jupyter": {
     "source_hidden": true
    }
   },
   "outputs": [],
   "source": [
    "# =================================================-\n",
    "#### Slide 16/21: Clean the entire corpus  ####\n",
    "\n",
    "# Create a list for clean documents.\n",
    "df_clean = [None] * len(df_tokenized)\n",
    "# Create a list of word counts for each clean document.\n",
    "word_counts_per_document = [None] * len(df_tokenized)\n",
    "\n",
    "# Process words in all documents.\n",
    "for i in range(len(df_tokenized)):\n",
    "    # 1. Convert to lowercase.\n",
    "    df_clean[i] = [document.lower() for document in df_tokenized[i]]\n",
    "\n",
    "    # 2. Remove stop words.\n",
    "    df_clean[i] = [word for word in df_clean[i] if not word in stop_words]\n",
    "\n",
    "    # 3. Remove punctuation and any non-alphabetical characters.\n",
    "    df_clean[i] = [word for word in df_clean[i] if word.isalpha()]\n",
    "\n",
    "    # 4. Stem words.\n",
    "    df_clean[i] = [PorterStemmer().stem(word) for word in df_clean[i]]\n",
    "\n",
    "    # Record the word count per document.\n",
    "    word_counts_per_document[i] = len(df_clean[i])"
   ]
  },
  {
   "cell_type": "code",
   "execution_count": 36,
   "id": "4115e062",
   "metadata": {
    "jupyter": {
     "source_hidden": true
    }
   },
   "outputs": [
    {
     "name": "stdout",
     "output_type": "stream",
     "text": [
      "[['nick', 'kyrgio', 'start', 'brisban', 'open', 'titl', 'defens', 'battl', 'victori', 'american', 'ryan', 'harrison', 'open', 'round', 'tuesday'], ['british', 'polic', 'confirm', 'tuesday', 'treat', 'stab', 'attack', 'injur', 'three', 'peopl', 'manchest', 'victoria', 'train', 'station', 'terrorist', 'investig', 'search', 'address', 'cheetham', 'hill', 'area', 'citi']]\n"
     ]
    }
   ],
   "source": [
    "# =================================================-\n",
    "#### Slide 17/21: Clean the entire corpus (cont'd)  ####\n",
    "\n",
    "# Convert word counts list and documents list to NumPy arrays.\n",
    "word_counts_array = np.array(word_counts_per_document)\n",
    "df_array = np.array(df_clean, dtype=object)\n",
    "\n",
    "# Find indices of all documents where there are greater than or equal to 5 words.\n",
    "valid_documents = np.where(word_counts_array >= 5)[0]\n",
    "\n",
    "# Subset the df_array to keep only those where there are at least 5 words.\n",
    "df_array = df_array[valid_documents]\n",
    "\n",
    "# Convert the array back to a list.\n",
    "df_clean = df_array.tolist()  # <- the processed documents\n",
    "\n",
    "print(df_clean[0:2])\n",
    "\n",
    "# Convert word counts list and documents list to NumPy arrays.\n",
    "word_counts_array = np.array(word_counts_per_document)\n",
    "df_array = np.array(df_clean, dtype=object)"
   ]
  },
  {
   "cell_type": "code",
   "execution_count": 37,
   "id": "de4dbdea",
   "metadata": {
    "jupyter": {
     "source_hidden": true
    }
   },
   "outputs": [
    {
     "data": {
      "text/plain": [
       "array([list(['nick', 'kyrgio', 'start', 'brisban', 'open', 'titl', 'defens', 'battl', 'victori', 'american', 'ryan', 'harrison', 'open', 'round', 'tuesday']),\n",
       "       list(['british', 'polic', 'confirm', 'tuesday', 'treat', 'stab', 'attack', 'injur', 'three', 'peopl', 'manchest', 'victoria', 'train', 'station', 'terrorist', 'investig', 'search', 'address', 'cheetham', 'hill', 'area', 'citi']),\n",
       "       list(['marcellu', 'wiley', 'still', 'fenc', 'let', 'young', 'son', 'play', 'footbal', 'former', 'nfl', 'defens', 'end', 'fox', 'sport', 'person', 'tell', 'podcaston', 'sport', 'like', 'nfl', 'tri', 'make', 'footbal', 'safer', 'game', 'de']),\n",
       "       list(['still', 'reckon', 'fallout', 'emmett', 'till', 'paint', 'chasten', 'artist', 'reveal', 'controversi', 'chang', 'even', 'move', 'forward', 'new', 'galleri', 'show']),\n",
       "       list(['far', 'arik', 'ogunbowal', 'coach', 'muffet', 'mcgraw', 'concern', 'notr', 'dame', 'victori', 'louisvil', 'thursday', 'night', 'anoth', 'atlant', 'coast', 'confer', 'game', 'januari'])],\n",
       "      dtype=object)"
      ]
     },
     "execution_count": 37,
     "metadata": {},
     "output_type": "execute_result"
    }
   ],
   "source": [
    "# =================================================-\n",
    "#### Slide 18/21: Clean corpus  ####\n",
    "\n",
    "# Print the first 5 documents of clean corpus\n",
    "df_array[:5]\n",
    "\n",
    "\n",
    "#######################################################\n",
    "####  CONGRATULATIONS ON COMPLETING THIS MODULE!   ####\n",
    "#######################################################"
   ]
  },
  {
   "cell_type": "code",
   "execution_count": 38,
   "id": "21af0d19",
   "metadata": {},
   "outputs": [],
   "source": [
    "#######################################################\n",
    "#######################################################\n",
    "############    COPYRIGHT - DATA SOCIETY   ############\n",
    "#######################################################\n",
    "#######################################################\n",
    "\n",
    "## Topic Modeling In N L P: Topic Modeling - 3 ##\n",
    "\n",
    "## NOTE: To run individual pieces of code, select the line of code and\n",
    "##       press ctrl + enter for PCs or command + enter for Macs"
   ]
  },
  {
   "cell_type": "code",
   "execution_count": 39,
   "id": "ea8b4e94",
   "metadata": {
    "jupyter": {
     "source_hidden": true
    },
    "scrolled": true
   },
   "outputs": [
    {
     "name": "stdout",
     "output_type": "stream",
     "text": [
      "0 american\n",
      "1 battl\n",
      "2 brisban\n",
      "3 defens\n",
      "4 harrison\n",
      "5 kyrgio\n",
      "6 nick\n",
      "7 open\n",
      "8 round\n",
      "9 ryan\n",
      "10 start\n"
     ]
    }
   ],
   "source": [
    "# =================================================-\n",
    "#### Slide 2/24: Create a dictionary of counts   ####\n",
    "\n",
    "# Set the seed.\n",
    "np.random.seed(1)\n",
    "dictionary = gensim.corpora.Dictionary(df_clean)\n",
    "\n",
    "# The loop below iterates through the first 10 items of the dictionary and prints out the key and value.\n",
    "count = 0\n",
    "for k, v in dictionary.iteritems():\n",
    "    print(k, v)\n",
    "    count += 1\n",
    "    if count > 10:\n",
    "        break"
   ]
  },
  {
   "cell_type": "code",
   "execution_count": 40,
   "id": "30768927",
   "metadata": {
    "jupyter": {
     "source_hidden": true
    }
   },
   "outputs": [
    {
     "data": {
      "text/plain": [
       "200"
      ]
     },
     "execution_count": 40,
     "metadata": {},
     "output_type": "execute_result"
    }
   ],
   "source": [
    "# =================================================-\n",
    "#### Slide 3/24: Create a dictionary of counts   ####\n",
    "\n",
    "dictionary.filter_extremes(no_below=4, no_above=0.5, keep_n=200)\n",
    "\n",
    "# How many words are left in the dictionary?\n",
    "len(dictionary)"
   ]
  },
  {
   "cell_type": "code",
   "execution_count": 41,
   "id": "fd048080",
   "metadata": {
    "jupyter": {
     "source_hidden": true
    }
   },
   "outputs": [
    {
     "name": "stdout",
     "output_type": "stream",
     "text": [
      "[(0, 1), (1, 1), (2, 2), (3, 1), (4, 1), (5, 1), (6, 1)]\n"
     ]
    }
   ],
   "source": [
    "# =================================================-\n",
    "#### Slide 4/24: Document to bag-of-words  ####\n",
    "\n",
    "# We use a list comprehension to transform each doc within our df_clean object.\n",
    "bow_corpus = [dictionary.doc2bow(doc) for doc in df_clean]\n",
    "\n",
    "# Let's look at the first document.\n",
    "print(bow_corpus[0])"
   ]
  },
  {
   "cell_type": "code",
   "execution_count": 42,
   "id": "756ce2db",
   "metadata": {
    "jupyter": {
     "source_hidden": true
    }
   },
   "outputs": [
    {
     "name": "stdout",
     "output_type": "stream",
     "text": [
      "Word 0 (\"american\") appears 1 time.\n",
      "Word 1 (\"defens\") appears 1 time.\n",
      "Word 2 (\"open\") appears 2 time.\n",
      "Word 3 (\"round\") appears 1 time.\n",
      "Word 4 (\"start\") appears 1 time.\n",
      "Word 5 (\"tuesday\") appears 1 time.\n",
      "Word 6 (\"victori\") appears 1 time.\n"
     ]
    }
   ],
   "source": [
    "# =================================================-\n",
    "#### Slide 5/24: Document to bag-of-words (cont'd)  ####\n",
    "\n",
    "# Isolate the first document.\n",
    "bow_doc_1 = bow_corpus[0]\n",
    "\n",
    "# Iterate through each dictionary item using the index.\n",
    "# Print out each actual word and how many times it appears.\n",
    "for i in range(len(bow_doc_1)):\n",
    "    print(\n",
    "        'Word {} (\"{}\") appears {} time.'.format(\n",
    "            bow_doc_1[i][0], dictionary[bow_doc_1[i][0]], bow_doc_1[i][1]\n",
    "        )\n",
    "    )"
   ]
  },
  {
   "cell_type": "code",
   "execution_count": 43,
   "id": "47155750",
   "metadata": {
    "jupyter": {
     "source_hidden": true
    }
   },
   "outputs": [
    {
     "name": "stdout",
     "output_type": "stream",
     "text": [
      "[(0, 0.31942373876087665),\n",
      " (1, 0.3549009519669791),\n",
      " (2, 0.6118718565633235),\n",
      " (3, 0.3549009519669791),\n",
      " (4, 0.3059359282816618),\n",
      " (5, 0.22829905152454918),\n",
      " (6, 0.3549009519669791)]\n"
     ]
    }
   ],
   "source": [
    "# =================================================-\n",
    "#### Slide 7/24: Transform counts with TfidfModel (cont'd)  ####\n",
    "\n",
    "# This is the transformation.\n",
    "tfidf = models.TfidfModel(bow_corpus)\n",
    "\n",
    "# Apply the transformation to the entire corpus.\n",
    "corpus_tfidf = tfidf[bow_corpus]\n",
    "\n",
    "# Preview TF-IDF scores for the first document.\n",
    "for doc in corpus_tfidf:\n",
    "    pprint(doc)\n",
    "    break"
   ]
  },
  {
   "cell_type": "code",
   "execution_count": 45,
   "id": "81baf2a4",
   "metadata": {},
   "outputs": [
    {
     "data": {
      "text/plain": [
       "<gensim.models.ldamulticore.LdaMulticore at 0x7fd5e849e2c0>"
      ]
     },
     "execution_count": 45,
     "metadata": {},
     "output_type": "execute_result"
    }
   ],
   "source": [
    "# =================================================-\n",
    "#### Slide 11/24: Running LdaMulticore  ####\n",
    "\n",
    "lda_model_tfidf = gensim.models.LdaMulticore(\n",
    "    corpus_tfidf, num_topics=5, id2word=dictionary, workers=4, passes=2\n",
    ")\n",
    "lda_model_tfidf"
   ]
  },
  {
   "cell_type": "code",
   "execution_count": 46,
   "id": "032c7257",
   "metadata": {},
   "outputs": [
    {
     "name": "stdout",
     "output_type": "stream",
     "text": [
      "Topic: 0 Word: 0.024*\"feder\" + 0.017*\"presid\" + 0.017*\"hous\" + 0.016*\"trump\" + 0.015*\"donald\" + 0.015*\"border\" + 0.014*\"friday\" + 0.014*\"said\" + 0.013*\"democrat\" + 0.013*\"america\"\n",
      "Topic: 1 Word: 0.021*\"like\" + 0.018*\"court\" + 0.018*\"young\" + 0.018*\"school\" + 0.017*\"minist\" + 0.017*\"week\" + 0.015*\"accus\" + 0.015*\"weekend\" + 0.013*\"world\" + 0.013*\"lawyer\"\n",
      "Topic: 2 Word: 0.021*\"close\" + 0.018*\"said\" + 0.017*\"saturday\" + 0.015*\"nation\" + 0.015*\"year\" + 0.015*\"defend\" + 0.014*\"end\" + 0.013*\"govern\" + 0.013*\"former\" + 0.013*\"peopl\"\n",
      "Topic: 3 Word: 0.024*\"move\" + 0.016*\"polic\" + 0.016*\"made\" + 0.016*\"first\" + 0.016*\"talk\" + 0.015*\"new\" + 0.015*\"world\" + 0.014*\"offici\" + 0.014*\"thursday\" + 0.014*\"long\"\n",
      "Topic: 4 Word: 0.027*\"time\" + 0.023*\"local\" + 0.022*\"latest\" + 0.019*\"say\" + 0.016*\"new\" + 0.015*\"meet\" + 0.014*\"anoth\" + 0.014*\"sunday\" + 0.013*\"day\" + 0.013*\"said\"\n"
     ]
    }
   ],
   "source": [
    "# =================================================-\n",
    "#### Slide 12/24: LDA output  ####\n",
    "\n",
    "for idx, topic in lda_model_tfidf.print_topics(-1):\n",
    "    print(f\"Topic: {idx} Word: {topic}\")"
   ]
  },
  {
   "cell_type": "code",
   "execution_count": 47,
   "id": "c8859293",
   "metadata": {},
   "outputs": [
    {
     "name": "stdout",
     "output_type": "stream",
     "text": [
      "['nick', 'kyrgio', 'start', 'brisban', 'open', 'titl', 'defens', 'battl', 'victori', 'american', 'ryan', 'harrison', 'open', 'round', 'tuesday']\n",
      "\n",
      "Score: 0.7703465223312378\t \n",
      "Topic: 0.027*\"time\" + 0.023*\"local\" + 0.022*\"latest\" + 0.019*\"say\" + 0.016*\"new\" + 0.015*\"meet\" + 0.014*\"anoth\" + 0.014*\"sunday\" + 0.013*\"day\" + 0.013*\"said\"\n",
      "\n",
      "Score: 0.05767034366726875\t \n",
      "Topic: 0.021*\"close\" + 0.018*\"said\" + 0.017*\"saturday\" + 0.015*\"nation\" + 0.015*\"year\" + 0.015*\"defend\" + 0.014*\"end\" + 0.013*\"govern\" + 0.013*\"former\" + 0.013*\"peopl\"\n",
      "\n",
      "Score: 0.057407017797231674\t \n",
      "Topic: 0.024*\"feder\" + 0.017*\"presid\" + 0.017*\"hous\" + 0.016*\"trump\" + 0.015*\"donald\" + 0.015*\"border\" + 0.014*\"friday\" + 0.014*\"said\" + 0.013*\"democrat\" + 0.013*\"america\"\n",
      "\n",
      "Score: 0.05739441514015198\t \n",
      "Topic: 0.021*\"like\" + 0.018*\"court\" + 0.018*\"young\" + 0.018*\"school\" + 0.017*\"minist\" + 0.017*\"week\" + 0.015*\"accus\" + 0.015*\"weekend\" + 0.013*\"world\" + 0.013*\"lawyer\"\n",
      "\n",
      "Score: 0.05718167871236801\t \n",
      "Topic: 0.024*\"move\" + 0.016*\"polic\" + 0.016*\"made\" + 0.016*\"first\" + 0.016*\"talk\" + 0.015*\"new\" + 0.015*\"world\" + 0.014*\"offici\" + 0.014*\"thursday\" + 0.014*\"long\"\n"
     ]
    }
   ],
   "source": [
    "# =================================================-\n",
    "#### Slide 13/24: Classify our documents within topics  ####\n",
    "\n",
    "# Let's look at our first document as an example:\n",
    "print(df_clean[0])\n",
    "for index, score in sorted(\n",
    "    lda_model_tfidf[corpus_tfidf[0]], key=lambda tup: -1 * tup[1]\n",
    "):\n",
    "    print(\n",
    "        f\"\\nScore: {score}\\t \"\n",
    "        f\"\\nTopic: {lda_model_tfidf.print_topic(index, 10)}\"\n",
    "    )"
   ]
  },
  {
   "cell_type": "code",
   "execution_count": 48,
   "id": "0e892019",
   "metadata": {},
   "outputs": [
    {
     "name": "stdout",
     "output_type": "stream",
     "text": [
      "Coherence Score:  0.47838567181010366\n"
     ]
    }
   ],
   "source": [
    "# =================================================-\n",
    "#### Slide 17/24: Calculate topic coherence  ####\n",
    "\n",
    "# Compute Coherence Score using c_v.\n",
    "coherence_model_lda = CoherenceModel(\n",
    "    model=lda_model_tfidf,\n",
    "    texts=df_clean,\n",
    "    dictionary=dictionary,\n",
    "    coherence=\"c_v\",\n",
    ")\n",
    "coherence_lda = coherence_model_lda.get_coherence()\n",
    "print(\"Coherence Score: \", coherence_lda)"
   ]
  },
  {
   "cell_type": "code",
   "execution_count": 49,
   "id": "d36aa59b",
   "metadata": {},
   "outputs": [],
   "source": [
    "# =================================================-\n",
    "#### Slide 19/24: Convenience function  ####\n",
    "\n",
    "\n",
    "def compute_coherence_values(dictionary, corpus, texts, limit, start=2, step=3):\n",
    "    coherence_values = []\n",
    "    model_list = []\n",
    "    for num_topics in range(start, limit, step):\n",
    "        model = gensim.models.LdaMulticore(\n",
    "            corpus=corpus, id2word=dictionary, num_topics=num_topics\n",
    "        )\n",
    "        model_list.append(model)\n",
    "        coherencemodel = CoherenceModel(\n",
    "            model=model, texts=texts, dictionary=dictionary, coherence=\"c_v\"\n",
    "        )\n",
    "        coherence_values.append(coherencemodel.get_coherence())\n",
    "\n",
    "    return model_list, coherence_values"
   ]
  },
  {
   "cell_type": "code",
   "execution_count": 52,
   "id": "8275bd05-0d47-43ae-b8e7-b703422c5af3",
   "metadata": {},
   "outputs": [
    {
     "data": {
      "text/plain": [
       "[0.37620120592727946,\n",
       " 0.5314841221673658,\n",
       " 0.5441072081718875,\n",
       " 0.5449137189642284,\n",
       " 0.5229440288409858,\n",
       " 0.5068545172205432,\n",
       " 0.48399987993979315]"
      ]
     },
     "execution_count": 52,
     "metadata": {},
     "output_type": "execute_result"
    }
   ],
   "source": [
    "coherence_values"
   ]
  },
  {
   "cell_type": "code",
   "execution_count": 57,
   "id": "2f03c3b1",
   "metadata": {},
   "outputs": [
    {
     "data": {
      "image/png": "[encoded data removed]",
      "text/plain": [
       "<Figure size 640x480 with 1 Axes>"
      ]
     },
     "metadata": {},
     "output_type": "display_data"
    }
   ],
   "source": [
    "# =================================================-\n",
    "#### Slide 20/24: Run compute_coherence_values function  ####\n",
    "\n",
    "np.random.seed(1)\n",
    "model_list, coherence_values = compute_coherence_values(\n",
    "    dictionary=dictionary,\n",
    "    corpus=corpus_tfidf,\n",
    "    texts=df_clean,\n",
    "    start=2,\n",
    "    limit=40,\n",
    "    step=1,\n",
    ")\n",
    "# Plot graph of topic list.\n",
    "# Show graph.\n",
    "\n",
    "limit = 40\n",
    "start = 2\n",
    "step = 1\n",
    "x = range(start, limit, step)\n",
    "plt.plot(x, coherence_values)\n",
    "plt.xlabel(\"Num Topics\")\n",
    "plt.ylabel(\"Coherence score\")\n",
    "plt.legend((\"coherence_values\"), loc=\"best\")\n",
    "plt.show()\n",
    "\n",
    "\n",
    "#######################################################\n",
    "####  CONGRATULATIONS ON COMPLETING THIS MODULE!   ####\n",
    "#######################################################"
   ]
  },
  {
   "cell_type": "code",
   "execution_count": 59,
   "id": "04eba082-fea0-4356-85de-0ac994b7d5f6",
   "metadata": {
    "scrolled": true
   },
   "outputs": [
    {
     "data": {
      "text/plain": [
       "6"
      ]
     },
     "execution_count": 59,
     "metadata": {},
     "output_type": "execute_result"
    }
   ],
   "source": [
    "list(x)[np.argmax(coherence_values[:10])]"
   ]
  },
  {
   "cell_type": "code",
   "execution_count": 26,
   "id": "533e99ce",
   "metadata": {
    "execution": {
     "iopub.execute_input": "2024-04-10T07:53:15.088659Z",
     "iopub.status.busy": "2024-04-10T07:53:15.086879Z",
     "iopub.status.idle": "2024-04-10T07:53:15.098633Z",
     "shell.execute_reply": "2024-04-10T07:53:15.096097Z"
    }
   },
   "outputs": [],
   "source": [
    "#######################################################\n",
    "#######################################################\n",
    "############    COPYRIGHT - DATA SOCIETY   ############\n",
    "#######################################################\n",
    "#######################################################\n",
    "\n",
    "## Topic Modeling In N L P: Topic Modeling - 4 ##\n",
    "\n",
    "## NOTE: To run individual pieces of code, select the line of code and\n",
    "##       press ctrl + enter for PCs or command + enter for Macs"
   ]
  },
  {
   "cell_type": "code",
   "execution_count": 60,
   "id": "346ee593",
   "metadata": {},
   "outputs": [
    {
     "data": {
      "text/html": [
       "\n",
       "<link rel=\"stylesheet\" type=\"text/css\" href=\"https://cdn.jsdelivr.net/gh/bmabey/pyLDAvis@3.4.0/pyLDAvis/js/ldavis.v1.0.0.css\">\n",
       "\n",
       "\n",
       "<div id=\"ldavis_el786241405564273363203786316606\" style=\"background-color:white;\"></div>\n",
       "<script type=\"text/javascript\">\n",
       "\n",
       "var ldavis_el786241405564273363203786316606_data = {\"mdsDat\": {\"x\": [0.0737611314397452, -0.08744985486185766, -0.01242845042280024, 0.01986783270257054, 0.006249341142341968], \"y\": [-0.020537734470650066, -0.014989976624888138, -0.023762295610158427, -0.03391247390218022, 0.09320248060787682], \"topics\": [1, 2, 3, 4, 5], \"cluster\": [1, 1, 1, 1, 1], \"Freq\": [21.4588445166251, 20.576436382215626, 19.881539014540948, 19.168551452562742, 18.9146286340556]}, \"tinfo\": {\"Term\": [\"move\", \"feder\", \"close\", \"time\", \"school\", \"court\", \"young\", \"local\", \"minist\", \"made\", \"talk\", \"end\", \"defend\", \"hous\", \"polic\", \"weekend\", \"like\", \"long\", \"final\", \"health\", \"border\", \"former\", \"saturday\", \"meet\", \"wall\", \"week\", \"latest\", \"look\", \"call\", \"democrat\", \"shoot\", \"meet\", \"much\", \"maker\", \"anoth\", \"local\", \"time\", \"win\", \"team\", \"latest\", \"trade\", \"sunday\", \"use\", \"china\", \"american\", \"cup\", \"chines\", \"tenni\", \"say\", \"report\", \"charg\", \"forward\", \"face\", \"work\", \"mayor\", \"offic\", \"defens\", \"day\", \"recent\", \"top\", \"show\", \"head\", \"tuesday\", \"polic\", \"new\", \"two\", \"year\", \"said\", \"state\", \"one\", \"wall\", \"congress\", \"feder\", \"hous\", \"border\", \"white\", \"host\", \"america\", \"thousand\", \"decis\", \"democrat\", \"donald\", \"march\", \"know\", \"provid\", \"shutdown\", \"trump\", \"partial\", \"build\", \"help\", \"busi\", \"follow\", \"could\", \"full\", \"work\", \"intern\", \"way\", \"support\", \"candid\", \"one\", \"end\", \"presid\", \"suspect\", \"friday\", \"two\", \"monday\", \"said\", \"saturday\", \"new\", \"close\", \"defend\", \"job\", \"man\", \"januari\", \"former\", \"million\", \"nation\", \"arrest\", \"month\", \"price\", \"men\", \"sever\", \"hundr\", \"three\", \"suspect\", \"end\", \"dollar\", \"peopl\", \"saturday\", \"depart\", \"play\", \"call\", \"senat\", \"law\", \"search\", \"state\", \"next\", \"rais\", \"premier\", \"kill\", \"offici\", \"govern\", \"said\", \"year\", \"first\", \"presid\", \"friday\", \"new\", \"move\", \"long\", \"made\", \"season\", \"talk\", \"health\", \"key\", \"union\", \"look\", \"power\", \"handl\", \"final\", \"money\", \"lead\", \"expect\", \"night\", \"stock\", \"first\", \"south\", \"countri\", \"polic\", \"attack\", \"score\", \"thursday\", \"test\", \"head\", \"forc\", \"order\", \"search\", \"back\", \"world\", \"offici\", \"european\", \"new\", \"friday\", \"year\", \"leader\", \"tuesday\", \"show\", \"school\", \"court\", \"carolina\", \"weekend\", \"minist\", \"young\", \"lawyer\", \"elect\", \"coach\", \"like\", \"accus\", \"tri\", \"week\", \"race\", \"call\", \"warn\", \"plan\", \"washington\", \"support\", \"game\", \"set\", \"congression\", \"south\", \"depart\", \"data\", \"order\", \"port\", \"case\", \"ralli\", \"score\", \"critic\", \"world\", \"chang\", \"york\", \"north\", \"help\", \"final\", \"said\", \"time\", \"presid\", \"new\", \"govern\"], \"Freq\": [3.0, 3.0, 3.0, 5.0, 2.0, 2.0, 2.0, 4.0, 2.0, 2.0, 2.0, 3.0, 2.0, 2.0, 4.0, 2.0, 4.0, 2.0, 2.0, 2.0, 2.0, 2.0, 4.0, 2.0, 2.0, 3.0, 4.0, 2.0, 2.0, 2.0, 1.4619337914580388, 1.7366983193776222, 1.3931825166363323, 1.2393645253949763, 1.6264890754698058, 2.654179100205266, 3.073747694324775, 1.1595791006093135, 1.290834029933514, 2.472656139973178, 1.4148024451615209, 1.6223629732803795, 1.4232941569033382, 1.3905393172090719, 1.319595023170102, 1.1625092619903343, 1.024218923579534, 0.9575396906886894, 2.1316885210771286, 1.20244325774915, 1.0459831310848116, 0.8709569809738299, 0.8664510824573927, 1.2722849241548901, 0.7190309489392943, 0.8017297770386006, 0.8647656996811346, 1.5162609986862696, 0.890690270313588, 0.7904444688648362, 1.449672099758622, 1.1076667574902967, 1.4657899557621514, 1.379369506699678, 1.8138200094534607, 1.2206847598910213, 1.4601426466565532, 1.5030303182909324, 1.1630454137459887, 1.1208604105367617, 1.4253336596502397, 1.2655310694401753, 2.67201395192251, 1.837654594886961, 1.6577371360142878, 1.4039444969788466, 1.2504142083758336, 1.4304395078223484, 1.363736184933201, 1.0791893935257768, 1.4447659801207928, 1.691913619709784, 0.9146944630393287, 1.2363381057729501, 1.1359283290120434, 1.33900416852299, 1.7536979024596557, 1.125567063811391, 1.0360184754411326, 1.402534101432214, 1.0330484215668543, 1.14660036279162, 1.2878399887560197, 0.8184024719743035, 1.2467768080554815, 0.8304041994141276, 0.9931767924858999, 0.9471496805841275, 0.8103991608156069, 1.4248247582478524, 1.394070197775306, 1.8483680508737084, 0.9861433833283652, 1.5106159647321598, 1.2304980846875337, 1.2782591138574644, 1.4912250664687778, 1.2544171647757272, 1.2308955746361505, 2.1961604145773266, 1.5875580744846802, 1.2370235167952732, 1.3699258685639772, 0.9903647455349652, 1.3925733481460771, 1.3718339752541682, 1.6271009141317976, 1.0510998327451393, 1.0669824846045184, 0.9759115964196686, 0.9984815924380938, 1.109276779398873, 0.9736423926636494, 0.9769725100485092, 1.1766288249354417, 1.509113852631708, 0.7873263618152635, 1.3893374728564758, 1.7875055935027777, 0.6941590799089008, 0.7887578854410958, 0.9508818422831588, 0.7340047560796938, 0.6859662281360607, 0.6564718040264801, 1.3550168873896062, 0.6817686595825536, 0.764316109314177, 0.866588695748309, 1.0542279605346176, 1.3784250071464073, 1.4191310860446227, 1.923836642253892, 1.60003854727339, 1.0845352720056012, 1.3090678525956574, 1.162747240326744, 1.3198207179372914, 2.4460857078612563, 1.4167698655081267, 1.647741053785475, 1.1603828657789959, 1.5869618033661934, 1.370963237748557, 1.1156012914075102, 1.1493730225316865, 1.2662382330314854, 1.145290582274073, 0.8898844403071142, 1.309419640611893, 1.059187998562175, 0.9277883198875102, 1.1220475798630865, 1.2409481652637488, 0.834183124738565, 1.632322578048016, 0.9588576548148035, 0.9947724460960973, 1.675386225670349, 1.155651367608798, 0.9428400194520796, 1.4356768493175585, 1.0682195885670576, 1.165322035868801, 0.7247223448552393, 0.7869892770693269, 0.6404664729959577, 0.7853472432390785, 1.4924414261056247, 1.4664324428230562, 0.8307734084383792, 1.5579668115260514, 1.2242928773112565, 1.1487267209054493, 0.9736167128047869, 0.9778921881510603, 0.9516376102505214, 1.8177588696875562, 1.8543315802530072, 1.1510401623846318, 1.4689328163689166, 1.7162666483201479, 1.8471654440286926, 1.2648537113908045, 1.1691433549393624, 1.0796446815208351, 2.1615167643677724, 1.4995219297972455, 1.0678553042114034, 1.68197254586497, 0.9966048154507712, 1.1348830151990221, 1.1072820896044728, 1.1500174334810047, 0.781361975026235, 0.963546334573336, 0.7767086288537208, 1.0304014805740063, 0.6268439563336813, 0.8339951401134129, 0.6610233593437299, 0.7522300978844313, 0.790462527240115, 0.7203819634412705, 0.9415601484563062, 0.6936807204118286, 0.8281344955294918, 0.9352522416861039, 1.3448018506349195, 0.8707195953249957, 1.0394812124470696, 0.853552286468504, 0.9493970372820641, 0.8626576217336527, 1.2359673642141265, 1.1065615369986437, 1.0793386600249584, 1.1090908332665868, 0.8871671018582101], \"Total\": [3.0, 3.0, 3.0, 5.0, 2.0, 2.0, 2.0, 4.0, 2.0, 2.0, 2.0, 3.0, 2.0, 2.0, 4.0, 2.0, 4.0, 2.0, 2.0, 2.0, 2.0, 2.0, 4.0, 2.0, 2.0, 3.0, 4.0, 2.0, 2.0, 2.0, 2.270027858398695, 2.7165960932351463, 2.212916970068351, 2.044062082952112, 2.693539264094106, 4.531060743998248, 5.282639694366862, 2.0892548138930884, 2.368282513032987, 4.57092052337827, 2.7082896805050853, 3.164310680922301, 2.8613868834462455, 2.8173954745757794, 2.6785969013403683, 2.4864863434006366, 2.209009115010998, 2.1139264370186814, 4.715459671872548, 2.6780788682713434, 2.3572497765847165, 2.034686902856064, 2.0508715129935275, 3.0289270159772665, 1.727576699045052, 1.9440372689392262, 2.0975962046037093, 3.6792147139811107, 2.161388104006676, 2.0371509511807986, 3.950607441775497, 3.0445116186213497, 4.4094574277015, 4.1054528697128845, 7.03159394681954, 3.7305970657163647, 5.771506244650385, 6.9728656696571125, 3.903094129746333, 3.5390534955999158, 2.0082456403964373, 1.8475703770800487, 3.91043389438866, 2.8920082126578044, 2.639283506122741, 2.2618513851382382, 2.0437308119547075, 2.508925323519736, 2.4262886142626514, 1.9626040113155, 2.6573108063401913, 3.1203245931120653, 1.789122762487727, 2.4788967029565967, 2.2963987332193403, 2.7271402089346455, 3.5719319276172796, 2.3074507172553727, 2.1502019042138927, 3.0763287497460228, 2.3124314826867916, 2.5918479737343514, 3.020155549082648, 1.985171103346544, 3.0289270159772665, 2.0286857167584507, 2.4459827054234413, 2.351526346601512, 2.0128688138858437, 3.5390534955999158, 3.481773091580133, 5.3295973438323525, 2.6053504608776867, 5.058739830496429, 3.7305970657163647, 4.0409481559438385, 6.9728656696571125, 4.399710412335491, 7.03159394681954, 3.0117731206876877, 2.266566332527919, 1.9811091181327591, 2.2783966341769144, 1.7885741892411242, 2.633007199000882, 2.684851971904515, 3.196209391274932, 2.0747004759516696, 2.1438484273666765, 1.9611357131774398, 2.0117183880863694, 2.308309904727089, 2.030978491330538, 2.093256246924264, 2.6053504608776867, 3.481773091580133, 1.8394839622280938, 3.301600550020994, 4.399710412335491, 1.8001266471245656, 2.0746816549282014, 2.532462414277979, 1.980098109792077, 1.9029213312051607, 1.8256184161687328, 3.903094129746333, 1.9819639894512002, 2.233319697838272, 2.537893585988353, 3.206226338984155, 4.356833469358467, 4.731154767225693, 6.9728656696571125, 5.771506244650385, 3.7487572176825363, 5.3295973438323525, 5.058739830496429, 7.03159394681954, 3.5295188056390465, 2.102298652482891, 2.5705903739035505, 1.9660342688375747, 2.8480583753925077, 2.5524488912896546, 2.117882099033795, 2.2223786169171067, 2.4704343346734814, 2.262287962375474, 1.7691911764914472, 2.6191260050502523, 2.1335566494747455, 1.9205302356178429, 2.3247495473007125, 2.752499371011139, 1.8697153679756364, 3.7487572176825363, 2.2361515793729563, 2.3734265939588477, 4.1054528697128845, 2.837291384676549, 2.3831291895730056, 3.635149914436649, 2.7118916452620314, 3.0445116186213497, 2.0178672664592248, 2.1960389146191743, 1.8256184161687328, 2.311730587835447, 4.416482698444962, 4.356833469358467, 2.460796924805273, 7.03159394681954, 5.058739830496429, 5.771506244650385, 3.436185164817047, 4.4094574277015, 3.950607441775497, 2.4981310815862368, 2.7918040208049884, 1.737445457008818, 2.305283591911622, 2.70506883656667, 2.945148428619712, 2.287836343838553, 2.1873587469057174, 2.255151157593625, 4.535310630242266, 3.1506013170861595, 2.271286936975991, 3.6579279397069033, 2.193103500941583, 2.532462414277979, 2.6016878025795704, 2.750791854115454, 1.892867297334866, 2.351526346601512, 2.0350331436683566, 2.702837166273385, 1.6532730956434039, 2.2361515793729563, 1.8001266471245656, 2.0545515150488436, 2.1960389146191743, 2.0042652948169577, 2.6485170382578564, 1.9909565728629897, 2.3831291895730056, 2.7189196793939283, 4.416482698444962, 2.553237844815029, 3.2481841408958636, 2.5234129448974123, 3.0763287497460228, 2.6191260050502523, 6.9728656696571125, 5.282639694366862, 5.3295973438323525, 7.03159394681954, 4.731154767225693], \"Category\": [\"Default\", \"Default\", \"Default\", \"Default\", \"Default\", \"Default\", \"Default\", \"Default\", \"Default\", \"Default\", \"Default\", \"Default\", \"Default\", \"Default\", \"Default\", \"Default\", \"Default\", \"Default\", \"Default\", \"Default\", \"Default\", \"Default\", \"Default\", \"Default\", \"Default\", \"Default\", \"Default\", \"Default\", \"Default\", \"Default\", \"Topic1\", \"Topic1\", \"Topic1\", \"Topic1\", \"Topic1\", \"Topic1\", \"Topic1\", \"Topic1\", \"Topic1\", \"Topic1\", \"Topic1\", \"Topic1\", \"Topic1\", \"Topic1\", \"Topic1\", \"Topic1\", \"Topic1\", \"Topic1\", \"Topic1\", \"Topic1\", \"Topic1\", \"Topic1\", \"Topic1\", \"Topic1\", \"Topic1\", \"Topic1\", \"Topic1\", \"Topic1\", \"Topic1\", \"Topic1\", \"Topic1\", \"Topic1\", \"Topic1\", \"Topic1\", \"Topic1\", \"Topic1\", \"Topic1\", \"Topic1\", \"Topic1\", \"Topic1\", \"Topic2\", \"Topic2\", \"Topic2\", \"Topic2\", \"Topic2\", \"Topic2\", \"Topic2\", \"Topic2\", \"Topic2\", \"Topic2\", \"Topic2\", \"Topic2\", \"Topic2\", \"Topic2\", \"Topic2\", \"Topic2\", \"Topic2\", \"Topic2\", \"Topic2\", \"Topic2\", \"Topic2\", \"Topic2\", \"Topic2\", \"Topic2\", \"Topic2\", \"Topic2\", \"Topic2\", \"Topic2\", \"Topic2\", \"Topic2\", \"Topic2\", \"Topic2\", \"Topic2\", \"Topic2\", \"Topic2\", \"Topic2\", \"Topic2\", \"Topic2\", \"Topic2\", \"Topic3\", \"Topic3\", \"Topic3\", \"Topic3\", \"Topic3\", \"Topic3\", \"Topic3\", \"Topic3\", \"Topic3\", \"Topic3\", \"Topic3\", \"Topic3\", \"Topic3\", \"Topic3\", \"Topic3\", \"Topic3\", \"Topic3\", \"Topic3\", \"Topic3\", \"Topic3\", \"Topic3\", \"Topic3\", \"Topic3\", \"Topic3\", \"Topic3\", \"Topic3\", \"Topic3\", \"Topic3\", \"Topic3\", \"Topic3\", \"Topic3\", \"Topic3\", \"Topic3\", \"Topic3\", \"Topic3\", \"Topic3\", \"Topic3\", \"Topic3\", \"Topic3\", \"Topic4\", \"Topic4\", \"Topic4\", \"Topic4\", \"Topic4\", \"Topic4\", \"Topic4\", \"Topic4\", \"Topic4\", \"Topic4\", \"Topic4\", \"Topic4\", \"Topic4\", \"Topic4\", \"Topic4\", \"Topic4\", \"Topic4\", \"Topic4\", \"Topic4\", \"Topic4\", \"Topic4\", \"Topic4\", \"Topic4\", \"Topic4\", \"Topic4\", \"Topic4\", \"Topic4\", \"Topic4\", \"Topic4\", \"Topic4\", \"Topic4\", \"Topic4\", \"Topic4\", \"Topic4\", \"Topic4\", \"Topic4\", \"Topic4\", \"Topic4\", \"Topic4\", \"Topic5\", \"Topic5\", \"Topic5\", \"Topic5\", \"Topic5\", \"Topic5\", \"Topic5\", \"Topic5\", \"Topic5\", \"Topic5\", \"Topic5\", \"Topic5\", \"Topic5\", \"Topic5\", \"Topic5\", \"Topic5\", \"Topic5\", \"Topic5\", \"Topic5\", \"Topic5\", \"Topic5\", \"Topic5\", \"Topic5\", \"Topic5\", \"Topic5\", \"Topic5\", \"Topic5\", \"Topic5\", \"Topic5\", \"Topic5\", \"Topic5\", \"Topic5\", \"Topic5\", \"Topic5\", \"Topic5\", \"Topic5\", \"Topic5\", \"Topic5\", \"Topic5\", \"Topic5\", \"Topic5\", \"Topic5\"], \"logprob\": [30.0, 29.0, 28.0, 27.0, 26.0, 25.0, 24.0, 23.0, 22.0, 21.0, 20.0, 19.0, 18.0, 17.0, 16.0, 15.0, 14.0, 13.0, 12.0, 11.0, 10.0, 9.0, 8.0, 7.0, 6.0, 5.0, 4.0, 3.0, 2.0, 1.0, -4.3586, -4.1864, -4.4068, -4.5238, -4.2519, -3.7622, -3.6155, -4.5903, -4.4831, -3.8331, -4.3914, -4.2545, -4.3854, -4.4087, -4.461, -4.5878, -4.7144, -4.7817, -3.9814, -4.554, -4.6934, -4.8765, -4.8817, -4.4975, -5.0682, -4.9593, -4.8837, -4.3221, -4.8541, -4.9735, -4.367, -4.6361, -4.356, -4.4167, -4.1429, -4.5389, -4.3598, -4.3309, -4.5873, -4.6243, -4.342, -4.4609, -3.7135, -4.0879, -4.1909, -4.3571, -4.4729, -4.3384, -4.3861, -4.6202, -4.3284, -4.1705, -4.7855, -4.4842, -4.5689, -4.4044, -4.1346, -4.5781, -4.661, -4.3581, -4.6639, -4.5596, -4.4434, -4.8968, -4.4758, -4.8822, -4.7032, -4.7507, -4.9066, -4.3423, -4.3641, -4.0821, -4.7103, -4.2839, -4.4889, -4.4509, -4.2968, -4.4697, -4.4886, -3.8753, -4.1998, -4.4493, -4.3473, -4.6717, -4.3309, -4.3459, -4.1752, -4.6122, -4.5972, -4.6864, -4.6635, -4.5583, -4.6887, -4.6853, -4.4994, -4.2505, -4.9011, -4.3332, -4.0812, -5.0271, -4.8993, -4.7124, -4.9713, -5.0389, -5.0829, -4.3582, -5.0451, -4.9308, -4.8052, -4.6092, -4.3411, -4.312, -4.0077, -4.192, -4.5809, -4.3927, -4.5112, -4.3845, -3.731, -4.2771, -4.1261, -4.4767, -4.1637, -4.31, -4.5161, -4.4863, -4.3894, -4.4898, -4.7422, -4.3559, -4.568, -4.7004, -4.5103, -4.4096, -4.8068, -4.1355, -4.6675, -4.6307, -4.1094, -4.4808, -4.6844, -4.2639, -4.5595, -4.4725, -4.9475, -4.865, -5.0711, -4.8671, -4.2251, -4.2427, -4.8109, -4.1821, -4.4231, -4.4868, -4.6522, -4.6478, -4.6751, -4.0146, -3.9946, -4.4715, -4.2276, -4.072, -3.9985, -4.3772, -4.4559, -4.5355, -3.8413, -4.207, -4.5465, -4.0922, -4.6156, -4.4856, -4.5102, -4.4724, -4.8589, -4.6493, -4.8648, -4.5822, -5.0792, -4.7937, -5.0261, -4.8969, -4.8473, -4.9401, -4.6724, -4.9779, -4.8007, -4.6791, -4.3159, -4.7506, -4.5734, -4.7705, -4.6641, -4.7599, -4.4003, -4.5109, -4.5358, -4.5086, -4.7319], \"loglift\": [30.0, 29.0, 28.0, 27.0, 26.0, 25.0, 24.0, 23.0, 22.0, 21.0, 20.0, 19.0, 18.0, 17.0, 16.0, 15.0, 14.0, 13.0, 12.0, 11.0, 10.0, 9.0, 8.0, 7.0, 6.0, 5.0, 4.0, 3.0, 2.0, 1.0, 1.099, 1.0916, 1.0763, 1.0387, 1.0346, 1.0042, 0.9975, 0.9503, 0.9322, 0.9246, 0.8897, 0.871, 0.8407, 0.8329, 0.8311, 0.7787, 0.7704, 0.7471, 0.7451, 0.7383, 0.7265, 0.6905, 0.6774, 0.6716, 0.6625, 0.6533, 0.6529, 0.6526, 0.6525, 0.5923, 0.5365, 0.5279, 0.4377, 0.4483, 0.1841, 0.4219, 0.1646, 0.0045, 0.3283, 0.3893, 1.2382, 1.2026, 1.2002, 1.1276, 1.116, 1.1041, 1.0897, 1.0192, 1.0049, 0.983, 0.9717, 0.9689, 0.9101, 0.8854, 0.8771, 0.8697, 0.8696, 0.8632, 0.8508, 0.7956, 0.7752, 0.7655, 0.7287, 0.6949, 0.6934, 0.6878, 0.6797, 0.6717, 0.6712, 0.6712, 0.6657, 0.5221, 0.6095, 0.3724, 0.4719, 0.43, 0.0386, 0.3262, -0.1616, 1.2996, 1.2593, 1.1444, 1.1067, 1.0243, 0.9784, 0.9439, 0.9402, 0.9354, 0.9176, 0.9175, 0.9149, 0.8826, 0.8801, 0.8534, 0.8205, 0.7794, 0.7668, 0.7498, 0.7147, 0.6625, 0.6483, 0.6358, 0.623, 0.5951, 0.5926, 0.5574, 0.5482, 0.5431, 0.5409, 0.5031, 0.4646, 0.4113, 0.3277, 0.3325, 0.3751, 0.2114, 0.145, -0.0575, 1.2852, 1.2572, 1.2072, 1.1246, 1.0671, 1.0304, 1.0109, 0.9925, 0.9836, 0.9712, 0.9647, 0.9586, 0.9516, 0.9243, 0.9234, 0.8553, 0.8448, 0.8205, 0.8051, 0.7823, 0.7556, 0.7537, 0.7246, 0.7229, 0.7202, 0.6916, 0.6279, 0.6257, 0.6044, 0.5723, 0.567, 0.563, 0.566, 0.1449, 0.2331, 0.0376, 0.3908, 0.1458, 0.2285, 1.3473, 1.2561, 1.2535, 1.2146, 1.2103, 1.1987, 1.0726, 1.0388, 0.9286, 0.9242, 0.9228, 0.9105, 0.8883, 0.8765, 0.8626, 0.811, 0.7931, 0.7804, 0.773, 0.702, 0.7009, 0.6954, 0.679, 0.6634, 0.6605, 0.6434, 0.642, 0.631, 0.6109, 0.6082, 0.5981, 0.4761, 0.5894, 0.5259, 0.5813, 0.4896, 0.5547, -0.0649, 0.1021, 0.0683, -0.1816, -0.0087]}, \"token.table\": {\"Topic\": [1, 5, 2, 3, 1, 1, 3, 5, 4, 5, 2, 4, 5, 2, 1, 2, 1, 2, 3, 5, 2, 5, 5, 3, 5, 1, 5, 1, 4, 1, 2, 1, 3, 3, 5, 2, 2, 5, 2, 3, 3, 4, 5, 3, 4, 5, 1, 1, 5, 1, 2, 4, 2, 3, 1, 5, 2, 5, 3, 5, 3, 2, 5, 5, 2, 3, 3, 4, 4, 1, 2, 4, 5, 3, 4, 2, 5, 4, 3, 5, 1, 4, 1, 2, 3, 4, 5, 2, 3, 5, 1, 2, 3, 4, 5, 4, 1, 4, 4, 5, 2, 5, 2, 2, 2, 3, 2, 5, 3, 3, 4, 1, 3, 4, 2, 3, 1, 2, 5, 2, 3, 5, 4, 1, 2, 3, 4, 1, 2, 5, 1, 3, 5, 4, 3, 4, 4, 1, 3, 2, 1, 1, 3, 5, 1, 3, 5, 2, 3, 4, 5, 2, 4, 3, 2, 4, 1, 3, 4, 1, 2, 3, 4, 5, 3, 5, 4, 2, 5, 1, 1, 2, 3, 4, 1, 2, 4, 5, 2, 3, 1, 3, 4, 1, 5, 1, 3, 1, 3, 4, 2, 5, 4, 1, 2, 3, 2, 3, 4, 5, 3, 2, 5, 2, 3, 4, 5, 1, 4, 1, 2, 1, 2, 3, 4, 5, 2, 3, 4, 1, 3, 4, 5, 5, 4, 5, 3, 4, 4, 1, 3, 1, 3, 5, 1, 3, 1, 1, 2, 4, 5, 2, 4, 4, 5, 1, 3, 4, 4, 1, 4, 5, 2, 5, 2, 3, 1, 4, 1, 5, 1, 3, 2, 4, 2, 3, 4, 1, 2, 3, 4, 1, 5, 1, 4, 1, 4, 5, 2, 3, 5, 1, 3, 4, 5, 1, 2, 3, 3, 4, 1, 2, 2, 3, 5, 5, 1, 2, 4, 3, 5, 5, 2, 1, 1, 2, 1, 3, 4, 5, 1, 2, 3, 4, 5, 1, 2, 4, 5, 1, 5], \"Freq\": [0.3173997276573388, 0.3173997276573388, 0.3985770284294927, 0.3985770284294927, 0.3733297830291675, 0.7425174849539986, 0.4819972866402789, 0.4819972866402789, 0.35244881981481785, 0.35244881981481785, 0.43257635870810296, 0.43257635870810296, 0.43257635870810296, 0.7577814188435236, 0.4650726045959842, 0.4650726045959842, 0.4324452453994917, 0.4324452453994917, 0.39487259292063626, 0.39487259292063626, 0.4968033649791115, 0.4968033649791115, 0.5755576360489598, 0.3775697817136871, 0.3775697817136871, 0.39165955574046635, 0.39165955574046635, 0.42422318157935834, 0.42422318157935834, 0.35493774623549146, 0.35493774623549146, 0.45269165853805055, 0.45269165853805055, 0.6640606446289465, 0.4434292560091879, 0.5412513712091593, 0.6048607472262956, 0.6048607472262956, 0.331108773620532, 0.331108773620532, 0.421331758287924, 0.421331758287924, 0.7163826633587699, 0.3677931376858139, 0.3677931376858139, 0.3677931376858139, 0.40217393618673675, 0.4867242279764529, 0.4867242279764529, 0.5435942600468379, 0.27179713002341893, 0.27179713002341893, 0.5095271354967409, 0.8823920003123775, 0.47673617915843153, 0.47673617915843153, 0.3763203000620241, 0.3763203000620241, 0.5555164696869251, 0.5555164696869251, 0.5436307249935138, 0.6409589580567623, 0.32047947902838114, 0.45717237806309574, 0.28720998574498435, 0.5744199714899687, 0.4063724194060149, 0.4063724194060149, 0.43015386374033665, 0.48759758652084606, 0.7671782930034691, 0.38180675464707675, 0.38180675464707675, 0.2667550715962863, 0.5335101431925726, 0.38582509859140907, 0.38582509859140907, 0.4955727349473842, 0.3797938723370976, 0.3797938723370976, 0.49147610799298547, 0.49147610799298547, 0.1976776892085923, 0.3953553784171846, 0.1976776892085923, 0.1976776892085923, 0.1976776892085923, 0.5037349165088233, 0.49139248818198467, 0.49139248818198467, 0.21136488853151408, 0.21136488853151408, 0.21136488853151408, 0.21136488853151408, 0.21136488853151408, 0.5652300403075373, 0.32845990597757396, 0.32845990597757396, 0.3917806164160797, 0.3917806164160797, 0.32506278793596377, 0.32506278793596377, 0.4893012299616696, 0.6915609683424675, 0.49237350580944766, 0.49237350580944766, 0.4929299751751872, 0.4929299751751872, 0.559104568328972, 0.5047677540056567, 0.47216981552288145, 0.3118931398701051, 0.3118931398701051, 0.3118931398701051, 0.40340527251792835, 0.40340527251792835, 0.43754862719027166, 0.21877431359513583, 0.21877431359513583, 0.5255077987730994, 0.5255077987730994, 0.43709420155560197, 0.5206895374278216, 0.29102040548890007, 0.29102040548890007, 0.29102040548890007, 0.29102040548890007, 0.22049206361562543, 0.22049206361562543, 0.44098412723125086, 0.6620966192019694, 0.2206988730673231, 0.2206988730673231, 0.4756698097194534, 0.4047871202098438, 0.4047871202098438, 0.77803138932747, 0.4892219313396597, 0.4389051427655644, 0.5589331380533815, 0.5788455010725528, 0.7362154443865946, 0.4970874680681533, 0.4970874680681533, 0.37246001286642416, 0.37246001286642416, 0.7393527192226435, 0.24746667401042946, 0.24746667401042946, 0.24746667401042946, 0.24746667401042946, 0.46870093664782103, 0.46870093664782103, 0.46645088674870366, 0.2833247405856908, 0.5666494811713816, 0.4518922370454382, 0.6257412313034417, 0.31287061565172086, 0.28443053099000687, 0.14221526549500343, 0.14221526549500343, 0.28443053099000687, 0.14221526549500343, 0.5045500348757078, 0.5045500348757078, 0.36330616839801383, 0.39628868593311206, 0.39628868593311206, 0.51439343060828, 0.22952449457455337, 0.22952449457455337, 0.22952449457455337, 0.22952449457455337, 0.2825614253198755, 0.2825614253198755, 0.4553653368084394, 0.4553653368084394, 0.4333787033984687, 0.4333787033984687, 0.30288339999023844, 0.30288339999023844, 0.30288339999023844, 0.3635316857958199, 0.3635316857958199, 0.48200165920617205, 0.48200165920617205, 0.24357848737645724, 0.24357848737645724, 0.4871569747529145, 0.49893594554872855, 0.49893594554872855, 0.4420303766059774, 0.3940275532122288, 0.3940275532122288, 0.3940275532122288, 0.37526287090233734, 0.18763143545116867, 0.18763143545116867, 0.18763143545116867, 0.5099086173795673, 0.43546444506093757, 0.4559748318174048, 0.4477639278281313, 0.4477639278281313, 0.4477639278281313, 0.5022711261662544, 0.46266563517502884, 0.46266563517502884, 0.3734019979200552, 0.3734019979200552, 0.28682611923862705, 0.14341305961931353, 0.28682611923862705, 0.14341305961931353, 0.14341305961931353, 0.22728768629778334, 0.4545753725955667, 0.22728768629778334, 0.4241368051411589, 0.21206840257057946, 0.21206840257057946, 0.21206840257057946, 0.8005985013124537, 0.4196163617043245, 0.4196163617043245, 0.5477595926637361, 0.5477595926637361, 0.5086381330429474, 0.5050254808358998, 0.5050254808358998, 0.3699815928529572, 0.3699815928529572, 0.3699815928529572, 0.4332173933630587, 0.4332173933630587, 0.44052322807413125, 0.2531256306120297, 0.2531256306120297, 0.2531256306120297, 0.2531256306120297, 0.3666844838867485, 0.3666844838867485, 0.44719687575044087, 0.44719687575044087, 0.2562069903410173, 0.2562069903410173, 0.2562069903410173, 0.5348407662085551, 0.6320491891197803, 0.3160245945598901, 0.3160245945598901, 0.42525570740265206, 0.42525570740265206, 0.38382552175461315, 0.38382552175461315, 0.3511163986806219, 0.7022327973612438, 0.4222469213435734, 0.4222469213435734, 0.4730533581908, 0.4730533581908, 0.3687462962420008, 0.3687462962420008, 0.4121521216073051, 0.4777245984429067, 0.4777245984429067, 0.275091818367269, 0.275091818367269, 0.275091818367269, 0.275091818367269, 0.5678979021035728, 0.18929930070119091, 0.490881640076975, 0.490881640076975, 0.36923672057617707, 0.36923672057617707, 0.44027902583343687, 0.5599210848718876, 0.2799605424359438, 0.2799605424359438, 0.22678527152064284, 0.22678527152064284, 0.22678527152064284, 0.22678527152064284, 0.2680536070726727, 0.2680536070726727, 0.2680536070726727, 0.44996833230298283, 0.44996833230298283, 0.3494808778866013, 0.3494808778866013, 0.49794705382883103, 0.384365871650127, 0.384365871650127, 0.5282990526636431, 0.40883363475249224, 0.40883363475249224, 0.40883363475249224, 0.27337881349300897, 0.5467576269860179, 0.4337861092269194, 0.442115696270152, 0.4786395576787562, 0.33014991603465743, 0.33014991603465743, 0.22642452564166024, 0.22642452564166024, 0.22642452564166024, 0.22642452564166024, 0.17326499489226077, 0.17326499489226077, 0.34652998978452154, 0.17326499489226077, 0.17326499489226077, 0.3078643194545601, 0.3078643194545601, 0.3078643194545601, 0.3078643194545601, 0.3395414608929116, 0.6790829217858232], \"Term\": [\"accus\", \"accus\", \"america\", \"america\", \"american\", \"anoth\", \"arrest\", \"arrest\", \"attack\", \"attack\", \"back\", \"back\", \"back\", \"border\", \"build\", \"build\", \"busi\", \"busi\", \"call\", \"call\", \"candid\", \"candid\", \"carolina\", \"case\", \"case\", \"chang\", \"chang\", \"charg\", \"charg\", \"china\", \"china\", \"chines\", \"chines\", \"close\", \"coach\", \"congress\", \"congression\", \"congression\", \"could\", \"could\", \"countri\", \"countri\", \"court\", \"critic\", \"critic\", \"critic\", \"cup\", \"data\", \"data\", \"day\", \"day\", \"day\", \"decis\", \"defend\", \"defens\", \"defens\", \"democrat\", \"democrat\", \"depart\", \"depart\", \"dollar\", \"donald\", \"donald\", \"elect\", \"end\", \"end\", \"european\", \"european\", \"expect\", \"face\", \"feder\", \"final\", \"final\", \"first\", \"first\", \"follow\", \"follow\", \"forc\", \"former\", \"former\", \"forward\", \"forward\", \"friday\", \"friday\", \"friday\", \"friday\", \"friday\", \"full\", \"game\", \"game\", \"govern\", \"govern\", \"govern\", \"govern\", \"govern\", \"handl\", \"head\", \"head\", \"health\", \"health\", \"help\", \"help\", \"host\", \"hous\", \"hundr\", \"hundr\", \"intern\", \"intern\", \"januari\", \"job\", \"key\", \"kill\", \"kill\", \"kill\", \"know\", \"know\", \"latest\", \"latest\", \"latest\", \"law\", \"law\", \"lawyer\", \"lead\", \"leader\", \"leader\", \"leader\", \"leader\", \"like\", \"like\", \"like\", \"local\", \"local\", \"local\", \"long\", \"look\", \"look\", \"made\", \"maker\", \"man\", \"march\", \"mayor\", \"meet\", \"men\", \"men\", \"million\", \"million\", \"minist\", \"monday\", \"monday\", \"monday\", \"monday\", \"money\", \"money\", \"month\", \"move\", \"move\", \"much\", \"nation\", \"nation\", \"new\", \"new\", \"new\", \"new\", \"new\", \"next\", \"next\", \"night\", \"north\", \"north\", \"offic\", \"offici\", \"offici\", \"offici\", \"offici\", \"one\", \"one\", \"order\", \"order\", \"partial\", \"partial\", \"peopl\", \"peopl\", \"peopl\", \"plan\", \"plan\", \"play\", \"play\", \"polic\", \"polic\", \"polic\", \"port\", \"port\", \"power\", \"premier\", \"premier\", \"premier\", \"presid\", \"presid\", \"presid\", \"presid\", \"price\", \"provid\", \"race\", \"rais\", \"rais\", \"rais\", \"ralli\", \"recent\", \"recent\", \"report\", \"report\", \"said\", \"said\", \"said\", \"said\", \"said\", \"saturday\", \"saturday\", \"saturday\", \"say\", \"say\", \"say\", \"say\", \"school\", \"score\", \"score\", \"search\", \"search\", \"season\", \"senat\", \"senat\", \"set\", \"set\", \"set\", \"sever\", \"sever\", \"shoot\", \"show\", \"show\", \"show\", \"show\", \"shutdown\", \"shutdown\", \"south\", \"south\", \"state\", \"state\", \"state\", \"stock\", \"sunday\", \"sunday\", \"sunday\", \"support\", \"support\", \"suspect\", \"suspect\", \"talk\", \"talk\", \"team\", \"team\", \"tenni\", \"tenni\", \"test\", \"test\", \"thousand\", \"three\", \"three\", \"thursday\", \"thursday\", \"thursday\", \"thursday\", \"time\", \"time\", \"top\", \"top\", \"trade\", \"trade\", \"tri\", \"trump\", \"trump\", \"trump\", \"tuesday\", \"tuesday\", \"tuesday\", \"tuesday\", \"two\", \"two\", \"two\", \"union\", \"union\", \"use\", \"use\", \"wall\", \"warn\", \"warn\", \"washington\", \"way\", \"way\", \"way\", \"week\", \"week\", \"weekend\", \"white\", \"win\", \"work\", \"work\", \"world\", \"world\", \"world\", \"world\", \"year\", \"year\", \"year\", \"year\", \"year\", \"york\", \"york\", \"york\", \"york\", \"young\", \"young\"]}, \"R\": 30, \"lambda.step\": 0.01, \"plot.opts\": {\"xlab\": \"PC1\", \"ylab\": \"PC2\"}, \"topic.order\": [5, 1, 3, 4, 2]};\n",
       "\n",
       "function LDAvis_load_lib(url, callback){\n",
       "  var s = document.createElement('script');\n",
       "  s.src = url;\n",
       "  s.async = true;\n",
       "  s.onreadystatechange = s.onload = callback;\n",
       "  s.onerror = function(){console.warn(\"failed to load library \" + url);};\n",
       "  document.getElementsByTagName(\"head\")[0].appendChild(s);\n",
       "}\n",
       "\n",
       "if(typeof(LDAvis) !== \"undefined\"){\n",
       "   // already loaded: just create the visualization\n",
       "   !function(LDAvis){\n",
       "       new LDAvis(\"#\" + \"ldavis_el786241405564273363203786316606\", ldavis_el786241405564273363203786316606_data);\n",
       "   }(LDAvis);\n",
       "}else if(typeof define === \"function\" && define.amd){\n",
       "   // require.js is available: use it to load d3/LDAvis\n",
       "   require.config({paths: {d3: \"https://d3js.org/d3.v5\"}});\n",
       "   require([\"d3\"], function(d3){\n",
       "      window.d3 = d3;\n",
       "      LDAvis_load_lib(\"https://cdn.jsdelivr.net/gh/bmabey/pyLDAvis@3.4.0/pyLDAvis/js/ldavis.v3.0.0.js\", function(){\n",
       "        new LDAvis(\"#\" + \"ldavis_el786241405564273363203786316606\", ldavis_el786241405564273363203786316606_data);\n",
       "      });\n",
       "    });\n",
       "}else{\n",
       "    // require.js not available: dynamically load d3 & LDAvis\n",
       "    LDAvis_load_lib(\"https://d3js.org/d3.v5.js\", function(){\n",
       "         LDAvis_load_lib(\"https://cdn.jsdelivr.net/gh/bmabey/pyLDAvis@3.4.0/pyLDAvis/js/ldavis.v3.0.0.js\", function(){\n",
       "                 new LDAvis(\"#\" + \"ldavis_el786241405564273363203786316606\", ldavis_el786241405564273363203786316606_data);\n",
       "            })\n",
       "         });\n",
       "}\n",
       "</script>"
      ],
      "text/plain": [
       "<IPython.core.display.HTML object>"
      ]
     },
     "execution_count": 60,
     "metadata": {},
     "output_type": "execute_result"
    }
   ],
   "source": [
    "# =================================================-\n",
    "#### Slide 5/29: Visualize topics generated with LDA  ####\n",
    "\n",
    "# Prepare LDA vis object by providing:\n",
    "vis = pyLDAvis.gensim.prepare(\n",
    "    lda_model_tfidf, corpus_tfidf, dictionary\n",
    ")\n",
    "# The function takes `vis` object that we prepared above as the main argument.\n",
    "pyLDAvis.display(vis)"
   ]
  },
  {
   "cell_type": "code",
   "execution_count": 28,
   "id": "db0a53a0",
   "metadata": {
    "execution": {
     "iopub.execute_input": "2024-04-10T07:53:25.832373Z",
     "iopub.status.busy": "2024-04-10T07:53:25.830842Z",
     "iopub.status.idle": "2024-04-10T07:53:25.857324Z",
     "shell.execute_reply": "2024-04-10T07:53:25.854797Z"
    }
   },
   "outputs": [
    {
     "name": "stdout",
     "output_type": "stream",
     "text": [
      "[(0, 0.31942373876087665), (1, 0.3549009519669791), (2, 0.6118718565633235), (3, 0.3549009519669791), (4, 0.3059359282816618), (5, 0.22829905152454918), (6, 0.3549009519669791)]\n",
      "[(0, 0.061035324), (1, 0.057895817), (2, 0.05766566), (3, 0.76453054), (4, 0.05887262)]\n"
     ]
    }
   ],
   "source": [
    "# =================================================-\n",
    "#### Slide 16/29: Get topic probabilities for a document  ####\n",
    "\n",
    "# Select the index of the document in corpus.\n",
    "doc_num = 0\n",
    "# Extract the vector of tf_idf weights for the document.\n",
    "doc_vec = corpus_tfidf[doc_num]\n",
    "print(doc_vec)\n",
    "# Extract topic probabilities for that document.\n",
    "doc_topics = lda_model_tfidf.get_document_topics(doc_vec)\n",
    "print(doc_topics)\n",
    "topic, prob = sorted(doc_topics, key=lambda x: x[1], reverse=True)[0]"
   ]
  },
  {
   "cell_type": "code",
   "execution_count": 29,
   "id": "ea6bb4b4",
   "metadata": {
    "execution": {
     "iopub.execute_input": "2024-04-10T07:53:25.868759Z",
     "iopub.status.busy": "2024-04-10T07:53:25.867274Z",
     "iopub.status.idle": "2024-04-10T07:53:25.893364Z",
     "shell.execute_reply": "2024-04-10T07:53:25.889479Z"
    }
   },
   "outputs": [
    {
     "name": "stdout",
     "output_type": "stream",
     "text": [
      "(0, 3, 0.76453054)\n"
     ]
    }
   ],
   "source": [
    "# =================================================-\n",
    "#### Slide 17/29: Get topic probabilities for a document (cont'd)  ####\n",
    "\n",
    "# Initialize maximum probability score.\n",
    "max_prob = 0\n",
    "# Initialize best topic.\n",
    "best_topic = 0\n",
    "\n",
    "# Loop over all topics for the document.\n",
    "for topic in doc_topics:\n",
    "\n",
    "    if max_prob <= topic[1]:  # <- if current topic's probability is as high as max\n",
    "        max_prob = topic[1]  # <- make current topic's probability the new max\n",
    "        best_topic = topic[0]  # <- make current topic best\n",
    "\n",
    "# Create a tuple with information we just got.\n",
    "doc_topic_pair = (doc_num, best_topic, max_prob)\n",
    "print(doc_topic_pair)"
   ]
  },
  {
   "cell_type": "code",
   "execution_count": 30,
   "id": "d790550b",
   "metadata": {
    "execution": {
     "iopub.execute_input": "2024-04-10T07:53:25.904927Z",
     "iopub.status.busy": "2024-04-10T07:53:25.903226Z",
     "iopub.status.idle": "2024-04-10T07:53:25.921219Z",
     "shell.execute_reply": "2024-04-10T07:53:25.918776Z"
    }
   },
   "outputs": [],
   "source": [
    "# =================================================-\n",
    "#### Slide 18/29: Get topic probabilities for a document (cont'd)  ####\n",
    "\n",
    "\n",
    "# Put it all together into a function that returns a tuple\n",
    "# with the index of the document, the best fit topic, and its probability.\n",
    "def GetDocTopicPair(doc_num, corpus, lda_model_tfidf):\n",
    "    # Extract the vector of tf_idf weights for the document.\n",
    "    doc_vec = corpus[doc_num]\n",
    "    # Extract topic probabilities for that document.\n",
    "    doc_topics = lda_model_tfidf.get_document_topics(doc_vec)\n",
    "    max_prob = 0\n",
    "    best_topic = 0\n",
    "    for topic in doc_topics:\n",
    "        if max_prob <= topic[1]:\n",
    "            max_prob = topic[1]\n",
    "            best_topic = topic[0]\n",
    "    doc_topic_pair = (doc_num, best_topic, max_prob)\n",
    "    return doc_topic_pair"
   ]
  },
  {
   "cell_type": "code",
   "execution_count": 31,
   "id": "0fbff4f4",
   "metadata": {
    "execution": {
     "iopub.execute_input": "2024-04-10T07:53:25.931033Z",
     "iopub.status.busy": "2024-04-10T07:53:25.930137Z",
     "iopub.status.idle": "2024-04-10T07:53:26.343726Z",
     "shell.execute_reply": "2024-04-10T07:53:26.339679Z"
    }
   },
   "outputs": [
    {
     "name": "stdout",
     "output_type": "stream",
     "text": [
      "[(0, 3, 0.76459086), (1, 3, 0.78746593), (2, 4, 0.79796255), (3, 4, 0.759788), (4, 4, 0.60179013), (5, 0, 0.69887763), (6, 0, 0.59798664), (7, 1, 0.72208107), (8, 0, 0.7621713), (9, 1, 0.7704533)]\n"
     ]
    }
   ],
   "source": [
    "# =================================================-\n",
    "#### Slide 19/29: Get topic probabilities for all documents  ####\n",
    "\n",
    "# Create an empty list of the same length as the number of documents.\n",
    "doc_topic_pairs = [None] * dictionary.num_docs\n",
    "\n",
    "# Loop through a range of document indices.\n",
    "for i in range(dictionary.num_docs):\n",
    "    # For each document index, get the document-topic tuple.\n",
    "    doc_topic_pairs[i] = GetDocTopicPair(i, corpus_tfidf, lda_model_tfidf)\n",
    "\n",
    "print(doc_topic_pairs[:10])"
   ]
  },
  {
   "cell_type": "code",
   "execution_count": 32,
   "id": "c379eff3",
   "metadata": {
    "execution": {
     "iopub.execute_input": "2024-04-10T07:53:26.356223Z",
     "iopub.status.busy": "2024-04-10T07:53:26.354695Z",
     "iopub.status.idle": "2024-04-10T07:53:26.381986Z",
     "shell.execute_reply": "2024-04-10T07:53:26.379554Z"
    }
   },
   "outputs": [
    {
     "name": "stdout",
     "output_type": "stream",
     "text": [
      "   doc_id  best_topic  best_probability\n",
      "0       0           3          0.764591\n",
      "1       1           3          0.787466\n",
      "2       2           4          0.797963\n",
      "3       3           4          0.759788\n",
      "4       4           4          0.601790\n"
     ]
    }
   ],
   "source": [
    "# =================================================-\n",
    "#### Slide 20/29: Create a data frame with doc-topic assignments  ####\n",
    "\n",
    "# Make a dataframe out of a list of tuples.\n",
    "doc_topic_pairs_df = pd.DataFrame(doc_topic_pairs)\n",
    "\n",
    "# Assign column names to the dataframe.\n",
    "doc_topic_pairs_df.columns = [\"doc_id\", \"best_topic\", \"best_probability\"]\n",
    "print(doc_topic_pairs_df.head())"
   ]
  },
  {
   "cell_type": "code",
   "execution_count": 33,
   "id": "dd895d7f",
   "metadata": {
    "execution": {
     "iopub.execute_input": "2024-04-10T07:53:26.392831Z",
     "iopub.status.busy": "2024-04-10T07:53:26.391407Z",
     "iopub.status.idle": "2024-04-10T07:53:26.413603Z",
     "shell.execute_reply": "2024-04-10T07:53:26.411235Z"
    }
   },
   "outputs": [
    {
     "name": "stdout",
     "output_type": "stream",
     "text": [
      "   doc_id  best_topic  best_probability\n",
      "0       0           3          0.764591\n",
      "1       1           3          0.787466\n",
      "2       2           4          0.797963\n",
      "3       3           4          0.759788\n",
      "4       4           4          0.601790\n",
      "5       5           0          0.698878\n",
      "6       6           0          0.597987\n",
      "7       7           1          0.722081\n",
      "8       8           0          0.762171\n",
      "9       9           1          0.770453\n"
     ]
    }
   ],
   "source": [
    "# =================================================-\n",
    "#### Slide 21/29: Matching document ids to original data  ####\n",
    "\n",
    "# Find indices of documents that we kept.\n",
    "valid_documents = np.where(word_counts_array >= 5)[0]\n",
    "# Now assign the index of the original document to be the index of the dataframe.\n",
    "doc_topic_pairs_df.index = valid_documents\n",
    "print(doc_topic_pairs_df.iloc[0:10,])"
   ]
  },
  {
   "cell_type": "code",
   "execution_count": 34,
   "id": "dbe755f6",
   "metadata": {
    "execution": {
     "iopub.execute_input": "2024-04-10T07:53:26.423207Z",
     "iopub.status.busy": "2024-04-10T07:53:26.422305Z",
     "iopub.status.idle": "2024-04-10T07:53:26.454596Z",
     "shell.execute_reply": "2024-04-10T07:53:26.452222Z"
    }
   },
   "outputs": [
    {
     "name": "stdout",
     "output_type": "stream",
     "text": [
      "     doc_id  best_topic  best_probability\n",
      "221     219           2          0.806243\n",
      "145     143           2          0.804119\n",
      "68       68           2          0.802445\n",
      "164     162           2          0.800099\n",
      "97       97           2          0.798324\n",
      "(39, 3)\n"
     ]
    }
   ],
   "source": [
    "# =================================================-\n",
    "#### Slide 22/29: Inspect documents for a given topic  ####\n",
    "\n",
    "# Filter and sort all documents assigned to topic 3 by probability in descending order.\n",
    "topic3_docs = doc_topic_pairs_df.query(\"best_topic==2\")\n",
    "topic3_docs = topic3_docs.sort_values(by=\"best_probability\", ascending=False)\n",
    "print(topic3_docs.head())\n",
    "# Let's see how many documents were assigned to that topic.\n",
    "print(topic3_docs.shape)"
   ]
  },
  {
   "cell_type": "code",
   "execution_count": 35,
   "id": "ed2e1851",
   "metadata": {
    "execution": {
     "iopub.execute_input": "2024-04-10T07:53:26.464215Z",
     "iopub.status.busy": "2024-04-10T07:53:26.463300Z",
     "iopub.status.idle": "2024-04-10T07:53:26.487471Z",
     "shell.execute_reply": "2024-04-10T07:53:26.485065Z"
    }
   },
   "outputs": [
    {
     "name": "stdout",
     "output_type": "stream",
     "text": [
      "                                               snippet\n",
      "221  Job openings are outnumbering unemployed worke...\n",
      "145  India's central bank, having changed leadershi...\n",
      "68   Greece's public order minister strongly critic...\n",
      "164  Britain is testing how its motorway and ferry ...\n",
      "97   India's Supreme Court is likely to name a pane...\n",
      "125  Global stocks soared Friday and reversed the b...\n",
      "203  SoftBank Group Corp will inject another $2 bil...\n",
      "41   China's population is set to reach a peak of 1...\n",
      "142  Thousands of demonstrators marched in Hong Kon...\n",
      "80   An executive at a San Diego television station...\n"
     ]
    }
   ],
   "source": [
    "# =================================================-\n",
    "#### Slide 23/29: Inspect documents for a given topic (cont'd)  ####\n",
    "\n",
    "# Let's get the top 10 documents that were assigned to that topic.\n",
    "top_10 = topic3_docs.index[0:10,]\n",
    "# Inspect the top 10 documents in topic 3.\n",
    "df_topic3 = df.loc[top_10, :]\n",
    "print(df_topic3[[\"snippet\"]])"
   ]
  },
  {
   "cell_type": "code",
   "execution_count": 36,
   "id": "56e708ff",
   "metadata": {
    "execution": {
     "iopub.execute_input": "2024-04-10T07:53:26.497974Z",
     "iopub.status.busy": "2024-04-10T07:53:26.496504Z",
     "iopub.status.idle": "2024-04-10T07:53:26.519682Z",
     "shell.execute_reply": "2024-04-10T07:53:26.517484Z"
    }
   },
   "outputs": [],
   "source": [
    "# =================================================-\n",
    "#### Slide 24/29: Save LDA visualization to HTML file  ####\n",
    "\n",
    "# Save the plot as a self-contained HTML file.\n",
    "pyLDAvis.save_html(vis, str(plot_dir) + \"/df_LDAvis.html\")"
   ]
  },
  {
   "cell_type": "code",
   "execution_count": 37,
   "id": "65282278",
   "metadata": {
    "execution": {
     "iopub.execute_input": "2024-04-10T07:53:26.531382Z",
     "iopub.status.busy": "2024-04-10T07:53:26.530251Z",
     "iopub.status.idle": "2024-04-10T07:53:26.542291Z",
     "shell.execute_reply": "2024-04-10T07:53:26.538247Z"
    }
   },
   "outputs": [],
   "source": [
    "# =================================================-\n",
    "#### Slide 26/29: Exercise  ####\n",
    "\n",
    "\n",
    "#######################################################\n",
    "####  CONGRATULATIONS ON COMPLETING THIS MODULE!   ####\n",
    "#######################################################"
   ]
  }
 ],
 "metadata": {
  "kernelspec": {
   "display_name": "Python 3 (ipykernel)",
   "language": "python",
   "name": "python3"
  },
  "language": "python",
  "language_info": {
   "codemirror_mode": {
    "name": "ipython",
    "version": 3
   },
   "file_extension": ".py",
   "mimetype": "text/x-python",
   "name": "python",
   "nbconvert_exporter": "python",
   "pygments_lexer": "ipython3",
   "version": "3.10.13"
  }
 },
 "nbformat": 4,
 "nbformat_minor": 5
}
