{
 "cells": [
  {
   "cell_type": "code",
   "execution_count": 1,
   "id": "752a7203",
   "metadata": {},
   "outputs": [],
   "source": [
    "#######################################################\n",
    "#######################################################\n",
    "############    COPYRIGHT - DATA SOCIETY   ############\n",
    "#######################################################\n",
    "#######################################################\n",
    "\n",
    "## Topic Modeling In N L P: Topic Modeling - 2 ##\n",
    "\n",
    "## NOTE: To run individual pieces of code, select the line of code and\n",
    "##       press ctrl + enter for PCs or command + enter for Macs"
   ]
  },
  {
   "cell_type": "code",
   "execution_count": 2,
   "id": "74b7d530",
   "metadata": {},
   "outputs": [
    {
     "name": "stdout",
     "output_type": "stream",
     "text": [
      "Requirement already satisfied: pyLDAvis in /home/codespace/.local/lib/python3.10/site-packages (from -r requirements.txt (line 1)) (3.4.1)\n",
      "Requirement already satisfied: gensim in /home/codespace/.local/lib/python3.10/site-packages (from -r requirements.txt (line 2)) (4.3.2)\n",
      "Requirement already satisfied: scipy==1.12 in /home/codespace/.local/lib/python3.10/site-packages (from -r requirements.txt (line 3)) (1.12.0)\n",
      "Requirement already satisfied: wordcloud in /home/codespace/.local/lib/python3.10/site-packages (from -r requirements.txt (line 4)) (1.9.3)\n",
      "Requirement already satisfied: nltk in /home/codespace/.local/lib/python3.10/site-packages (from -r requirements.txt (line 5)) (3.8.1)\n",
      "Requirement already satisfied: numpy<1.29.0,>=1.22.4 in /home/codespace/.local/lib/python3.10/site-packages (from scipy==1.12->-r requirements.txt (line 3)) (1.26.4)\n",
      "Requirement already satisfied: pandas>=2.0.0 in /home/codespace/.local/lib/python3.10/site-packages (from pyLDAvis->-r requirements.txt (line 1)) (2.2.1)\n",
      "Requirement already satisfied: joblib>=1.2.0 in /home/codespace/.local/lib/python3.10/site-packages (from pyLDAvis->-r requirements.txt (line 1)) (1.3.2)\n",
      "Requirement already satisfied: jinja2 in /home/codespace/.local/lib/python3.10/site-packages (from pyLDAvis->-r requirements.txt (line 1)) (3.1.3)\n",
      "Requirement already satisfied: numexpr in /home/codespace/.local/lib/python3.10/site-packages (from pyLDAvis->-r requirements.txt (line 1)) (2.10.0)\n",
      "Requirement already satisfied: funcy in /home/codespace/.local/lib/python3.10/site-packages (from pyLDAvis->-r requirements.txt (line 1)) (2.0)\n",
      "Requirement already satisfied: scikit-learn>=1.0.0 in /home/codespace/.local/lib/python3.10/site-packages (from pyLDAvis->-r requirements.txt (line 1)) (1.4.1.post1)\n",
      "Requirement already satisfied: setuptools in /home/codespace/.local/lib/python3.10/site-packages (from pyLDAvis->-r requirements.txt (line 1)) (69.5.1)\n",
      "Requirement already satisfied: smart-open>=1.8.1 in /home/codespace/.local/lib/python3.10/site-packages (from gensim->-r requirements.txt (line 2)) (7.0.4)\n",
      "Requirement already satisfied: pillow in /home/codespace/.local/lib/python3.10/site-packages (from wordcloud->-r requirements.txt (line 4)) (10.3.0)\n",
      "Requirement already satisfied: matplotlib in /home/codespace/.local/lib/python3.10/site-packages (from wordcloud->-r requirements.txt (line 4)) (3.8.3)\n",
      "Requirement already satisfied: click in /home/codespace/.local/lib/python3.10/site-packages (from nltk->-r requirements.txt (line 5)) (8.1.7)\n",
      "Requirement already satisfied: regex>=2021.8.3 in /home/codespace/.local/lib/python3.10/site-packages (from nltk->-r requirements.txt (line 5)) (2024.4.16)\n",
      "Requirement already satisfied: tqdm in /home/codespace/.local/lib/python3.10/site-packages (from nltk->-r requirements.txt (line 5)) (4.66.2)\n",
      "Requirement already satisfied: python-dateutil>=2.8.2 in /home/codespace/.local/lib/python3.10/site-packages (from pandas>=2.0.0->pyLDAvis->-r requirements.txt (line 1)) (2.9.0.post0)\n",
      "Requirement already satisfied: pytz>=2020.1 in /home/codespace/.local/lib/python3.10/site-packages (from pandas>=2.0.0->pyLDAvis->-r requirements.txt (line 1)) (2024.1)\n",
      "Requirement already satisfied: tzdata>=2022.7 in /home/codespace/.local/lib/python3.10/site-packages (from pandas>=2.0.0->pyLDAvis->-r requirements.txt (line 1)) (2024.1)\n",
      "Requirement already satisfied: threadpoolctl>=2.0.0 in /home/codespace/.local/lib/python3.10/site-packages (from scikit-learn>=1.0.0->pyLDAvis->-r requirements.txt (line 1)) (3.4.0)\n",
      "Requirement already satisfied: wrapt in /home/codespace/.local/lib/python3.10/site-packages (from smart-open>=1.8.1->gensim->-r requirements.txt (line 2)) (1.16.0)\n",
      "Requirement already satisfied: MarkupSafe>=2.0 in /home/codespace/.local/lib/python3.10/site-packages (from jinja2->pyLDAvis->-r requirements.txt (line 1)) (2.1.5)\n",
      "Requirement already satisfied: contourpy>=1.0.1 in /home/codespace/.local/lib/python3.10/site-packages (from matplotlib->wordcloud->-r requirements.txt (line 4)) (1.2.1)\n",
      "Requirement already satisfied: cycler>=0.10 in /home/codespace/.local/lib/python3.10/site-packages (from matplotlib->wordcloud->-r requirements.txt (line 4)) (0.12.1)\n",
      "Requirement already satisfied: fonttools>=4.22.0 in /home/codespace/.local/lib/python3.10/site-packages (from matplotlib->wordcloud->-r requirements.txt (line 4)) (4.50.0)\n",
      "Requirement already satisfied: kiwisolver>=1.3.1 in /home/codespace/.local/lib/python3.10/site-packages (from matplotlib->wordcloud->-r requirements.txt (line 4)) (1.4.5)\n",
      "Requirement already satisfied: packaging>=20.0 in /home/codespace/.local/lib/python3.10/site-packages (from matplotlib->wordcloud->-r requirements.txt (line 4)) (24.0)\n",
      "Requirement already satisfied: pyparsing>=2.3.1 in /home/codespace/.local/lib/python3.10/site-packages (from matplotlib->wordcloud->-r requirements.txt (line 4)) (3.1.2)\n",
      "Requirement already satisfied: six>=1.5 in /home/codespace/.local/lib/python3.10/site-packages (from python-dateutil>=2.8.2->pandas>=2.0.0->pyLDAvis->-r requirements.txt (line 1)) (1.16.0)\n",
      "Note: you may need to restart the kernel to use updated packages.\n"
     ]
    }
   ],
   "source": [
    "%pip install -r requirements.txt"
   ]
  },
  {
   "cell_type": "code",
   "execution_count": 3,
   "id": "5de701d7",
   "metadata": {},
   "outputs": [
    {
     "name": "stderr",
     "output_type": "stream",
     "text": [
      "[nltk_data] Downloading package punkt to /home/codespace/nltk_data...\n",
      "[nltk_data]   Package punkt is already up-to-date!\n",
      "[nltk_data] Downloading package stopwords to\n",
      "[nltk_data]     /home/codespace/nltk_data...\n",
      "[nltk_data]   Package stopwords is already up-to-date!\n"
     ]
    },
    {
     "data": {
      "text/plain": [
       "True"
      ]
     },
     "execution_count": 3,
     "metadata": {},
     "output_type": "execute_result"
    }
   ],
   "source": [
    "# =================================================-\n",
    "#### Slide 2/21: Load packages  ####\n",
    "\n",
    "# Builtin packages.\n",
    "from pathlib import Path\n",
    "from pprint import pprint\n",
    "\n",
    "# 3rd party packages.\n",
    "import gensim\n",
    "import matplotlib.pyplot as plt\n",
    "import nltk\n",
    "import numpy as np\n",
    "import pandas as pd\n",
    "import pyLDAvis\n",
    "import pyLDAvis.gensim\n",
    "from gensim import models\n",
    "from gensim.models.coherencemodel import CoherenceModel\n",
    "from nltk.corpus import stopwords\n",
    "from nltk.stem.porter import PorterStemmer\n",
    "from nltk.tokenize import word_tokenize\n",
    "from sklearn.feature_extraction.text import CountVectorizer, TfidfVectorizer\n",
    "\n",
    "nltk.download([\"punkt\", \"stopwords\"])"
   ]
  },
  {
   "cell_type": "code",
   "execution_count": 4,
   "id": "1d6849cb",
   "metadata": {},
   "outputs": [],
   "source": [
    "# =================================================-\n",
    "#### Slide 3/21: Directory settings  ####\n",
    "\n",
    "# Set 'main_dir' to location of the project folder\n",
    "# Path(\"data\").mkdir(exist_ok=True)\n",
    "Path(\"plot\").mkdir(exist_ok=True)"
   ]
  },
  {
   "cell_type": "code",
   "execution_count": 5,
   "id": "9a8cf0b6",
   "metadata": {},
   "outputs": [
    {
     "data": {
      "text/html": [
       "<div>\n",
       "<style scoped>\n",
       "    .dataframe tbody tr th:only-of-type {\n",
       "        vertical-align: middle;\n",
       "    }\n",
       "\n",
       "    .dataframe tbody tr th {\n",
       "        vertical-align: top;\n",
       "    }\n",
       "\n",
       "    .dataframe thead th {\n",
       "        text-align: right;\n",
       "    }\n",
       "</style>\n",
       "<table border=\"1\" class=\"dataframe\">\n",
       "  <thead>\n",
       "    <tr style=\"text-align: right;\">\n",
       "      <th></th>\n",
       "      <th>web_url</th>\n",
       "      <th>headline</th>\n",
       "      <th>snippet</th>\n",
       "      <th>word_count</th>\n",
       "      <th>source</th>\n",
       "      <th>type_of_material</th>\n",
       "      <th>date</th>\n",
       "      <th>id</th>\n",
       "    </tr>\n",
       "  </thead>\n",
       "  <tbody>\n",
       "    <tr>\n",
       "      <th>0</th>\n",
       "      <td>https://www.nytimes.com/reuters/2019/01/01/spo...</td>\n",
       "      <td>Kyrgios, Murray Power Into Second Round in Bri...</td>\n",
       "      <td>Nick Kyrgios started his Brisbane Open title d...</td>\n",
       "      <td>435</td>\n",
       "      <td>Reuters</td>\n",
       "      <td>News</td>\n",
       "      <td>2019-01-01</td>\n",
       "      <td>8</td>\n",
       "    </tr>\n",
       "    <tr>\n",
       "      <th>1</th>\n",
       "      <td>https://www.nytimes.com/reuters/2019/01/01/wor...</td>\n",
       "      <td>UK Police Treating Manchester Stabbing Attack ...</td>\n",
       "      <td>British police confirmed on Tuesday they were ...</td>\n",
       "      <td>81</td>\n",
       "      <td>Reuters</td>\n",
       "      <td>News</td>\n",
       "      <td>2019-01-01</td>\n",
       "      <td>9</td>\n",
       "    </tr>\n",
       "    <tr>\n",
       "      <th>2</th>\n",
       "      <td>https://www.nytimes.com/aponline/2019/01/01/sp...</td>\n",
       "      <td>Former NFL Player Wiley Talks Playoffs on Podc...</td>\n",
       "      <td>Marcellus Wiley is still on the fence about le...</td>\n",
       "      <td>272</td>\n",
       "      <td>AP</td>\n",
       "      <td>News</td>\n",
       "      <td>2019-01-01</td>\n",
       "      <td>10</td>\n",
       "    </tr>\n",
       "    <tr>\n",
       "      <th>3</th>\n",
       "      <td>https://www.nytimes.com/2019/01/09/arts/design...</td>\n",
       "      <td>After the Quake, Dana Schutz Gets Back to Work</td>\n",
       "      <td>Still reckoning with the fallout from her Emme...</td>\n",
       "      <td>1540</td>\n",
       "      <td>The New York Times</td>\n",
       "      <td>News</td>\n",
       "      <td>2019-01-09</td>\n",
       "      <td>11</td>\n",
       "    </tr>\n",
       "    <tr>\n",
       "      <th>4</th>\n",
       "      <td>https://www.nytimes.com/aponline/2019/01/10/sp...</td>\n",
       "      <td>Ogunbowale Helps Irish Beat Cardinals in 1-2 S...</td>\n",
       "      <td>As far as Arike Ogunbowale and coach Muffet Mc...</td>\n",
       "      <td>1059</td>\n",
       "      <td>AP</td>\n",
       "      <td>News</td>\n",
       "      <td>2019-01-11</td>\n",
       "      <td>12</td>\n",
       "    </tr>\n",
       "  </tbody>\n",
       "</table>\n",
       "</div>"
      ],
      "text/plain": [
       "                                             web_url  \\\n",
       "0  https://www.nytimes.com/reuters/2019/01/01/spo...   \n",
       "1  https://www.nytimes.com/reuters/2019/01/01/wor...   \n",
       "2  https://www.nytimes.com/aponline/2019/01/01/sp...   \n",
       "3  https://www.nytimes.com/2019/01/09/arts/design...   \n",
       "4  https://www.nytimes.com/aponline/2019/01/10/sp...   \n",
       "\n",
       "                                            headline  \\\n",
       "0  Kyrgios, Murray Power Into Second Round in Bri...   \n",
       "1  UK Police Treating Manchester Stabbing Attack ...   \n",
       "2  Former NFL Player Wiley Talks Playoffs on Podc...   \n",
       "3    After the Quake, Dana Schutz Gets Back to Work    \n",
       "4  Ogunbowale Helps Irish Beat Cardinals in 1-2 S...   \n",
       "\n",
       "                                             snippet  word_count  \\\n",
       "0  Nick Kyrgios started his Brisbane Open title d...         435   \n",
       "1  British police confirmed on Tuesday they were ...          81   \n",
       "2  Marcellus Wiley is still on the fence about le...         272   \n",
       "3  Still reckoning with the fallout from her Emme...        1540   \n",
       "4  As far as Arike Ogunbowale and coach Muffet Mc...        1059   \n",
       "\n",
       "               source type_of_material        date  id  \n",
       "0             Reuters             News  2019-01-01   8  \n",
       "1             Reuters             News  2019-01-01   9  \n",
       "2                  AP             News  2019-01-01  10  \n",
       "3  The New York Times             News  2019-01-09  11  \n",
       "4                  AP             News  2019-01-11  12  "
      ]
     },
     "execution_count": 5,
     "metadata": {},
     "output_type": "execute_result"
    }
   ],
   "source": [
    "# =================================================-\n",
    "#### Slide 5/21: Load data  ####\n",
    "\n",
    "# Let's load and prepare the dataset for creating Document-Term Matrix\n",
    "df = pd.read_csv(\"data/NYT_article_data.csv\")\n",
    "df.head()"
   ]
  },
  {
   "cell_type": "code",
   "execution_count": 6,
   "id": "e8007064",
   "metadata": {},
   "outputs": [
    {
     "name": "stdout",
     "output_type": "stream",
     "text": [
      "0\n",
      "0\n"
     ]
    }
   ],
   "source": [
    "# =================================================-\n",
    "#### Slide 6/21: Check for NAs  ####\n",
    "\n",
    "# Print total number of NAs.\n",
    "print(df[\"snippet\"].isna().sum())\n",
    "# Drop NAs if any.\n",
    "df = df.dropna(subset=[\"snippet\"]).reset_index(drop=True)\n",
    "print(df[\"snippet\"].isna().sum())\n",
    "# Isolate the `snippet` column.\n",
    "df_text = df[\"snippet\"]"
   ]
  },
  {
   "cell_type": "code",
   "execution_count": 7,
   "id": "d280f358-f07f-450a-b0b6-2006c1983c25",
   "metadata": {},
   "outputs": [],
   "source": [
    "uni = TfidfVectorizer()\n",
    "bi = TfidfVectorizer(ngram_range=(2,2))\n",
    "tri = TfidfVectorizer(ngram_range=(3,3))"
   ]
  },
  {
   "cell_type": "code",
   "execution_count": 8,
   "id": "3b8b1eaa-453b-411a-8086-0a33e13e3109",
   "metadata": {},
   "outputs": [],
   "source": [
    "uni_df = pd.DataFrame(uni.fit_transform(df_text).toarray(), columns=uni.get_feature_names_out())"
   ]
  },
  {
   "cell_type": "code",
   "execution_count": 9,
   "id": "69493908-45ff-4e83-93c0-2b43a1422a4f",
   "metadata": {},
   "outputs": [],
   "source": [
    "bi_df = pd.DataFrame(bi.fit_transform(df_text).toarray(), columns=bi.get_feature_names_out())\n",
    "tri_df = pd.DataFrame(tri.fit_transform(df_text).toarray(), columns=tri.get_feature_names_out())"
   ]
  },
  {
   "cell_type": "code",
   "execution_count": 10,
   "id": "0601dcce-8d5f-434d-a70d-456ec35322fb",
   "metadata": {},
   "outputs": [
    {
     "data": {
      "text/html": [
       "<div>\n",
       "<style scoped>\n",
       "    .dataframe tbody tr th:only-of-type {\n",
       "        vertical-align: middle;\n",
       "    }\n",
       "\n",
       "    .dataframe tbody tr th {\n",
       "        vertical-align: top;\n",
       "    }\n",
       "\n",
       "    .dataframe thead th {\n",
       "        text-align: right;\n",
       "    }\n",
       "</style>\n",
       "<table border=\"1\" class=\"dataframe\">\n",
       "  <thead>\n",
       "    <tr style=\"text-align: right;\">\n",
       "      <th></th>\n",
       "      <th>000 in january</th>\n",
       "      <th>10 billion according</th>\n",
       "      <th>10 others all</th>\n",
       "      <th>10 pointers and</th>\n",
       "      <th>10 year prison</th>\n",
       "      <th>100 million per</th>\n",
       "      <th>102 year old</th>\n",
       "      <th>106 100 victory</th>\n",
       "      <th>109 victory on</th>\n",
       "      <th>10th straight win</th>\n",
       "      <th>...</th>\n",
       "      <th>young women of</th>\n",
       "      <th>your daily look</th>\n",
       "      <th>your head we</th>\n",
       "      <th>your money lasts</th>\n",
       "      <th>your neighborhood or</th>\n",
       "      <th>your own adventure</th>\n",
       "      <th>yourself that you</th>\n",
       "      <th>yuan rather than</th>\n",
       "      <th>zimbabwe president has</th>\n",
       "      <th>zykera rice added</th>\n",
       "    </tr>\n",
       "  </thead>\n",
       "  <tbody>\n",
       "    <tr>\n",
       "      <th>0</th>\n",
       "      <td>0.0</td>\n",
       "      <td>0.0</td>\n",
       "      <td>0.0</td>\n",
       "      <td>0.0</td>\n",
       "      <td>0.0</td>\n",
       "      <td>0.0</td>\n",
       "      <td>0.0</td>\n",
       "      <td>0.0</td>\n",
       "      <td>0.0</td>\n",
       "      <td>0.0</td>\n",
       "      <td>...</td>\n",
       "      <td>0.0</td>\n",
       "      <td>0.0</td>\n",
       "      <td>0.0</td>\n",
       "      <td>0.0</td>\n",
       "      <td>0.0</td>\n",
       "      <td>0.0</td>\n",
       "      <td>0.0</td>\n",
       "      <td>0.0</td>\n",
       "      <td>0.000000</td>\n",
       "      <td>0.0</td>\n",
       "    </tr>\n",
       "    <tr>\n",
       "      <th>1</th>\n",
       "      <td>0.0</td>\n",
       "      <td>0.0</td>\n",
       "      <td>0.0</td>\n",
       "      <td>0.0</td>\n",
       "      <td>0.0</td>\n",
       "      <td>0.0</td>\n",
       "      <td>0.0</td>\n",
       "      <td>0.0</td>\n",
       "      <td>0.0</td>\n",
       "      <td>0.0</td>\n",
       "      <td>...</td>\n",
       "      <td>0.0</td>\n",
       "      <td>0.0</td>\n",
       "      <td>0.0</td>\n",
       "      <td>0.0</td>\n",
       "      <td>0.0</td>\n",
       "      <td>0.0</td>\n",
       "      <td>0.0</td>\n",
       "      <td>0.0</td>\n",
       "      <td>0.000000</td>\n",
       "      <td>0.0</td>\n",
       "    </tr>\n",
       "    <tr>\n",
       "      <th>2</th>\n",
       "      <td>0.0</td>\n",
       "      <td>0.0</td>\n",
       "      <td>0.0</td>\n",
       "      <td>0.0</td>\n",
       "      <td>0.0</td>\n",
       "      <td>0.0</td>\n",
       "      <td>0.0</td>\n",
       "      <td>0.0</td>\n",
       "      <td>0.0</td>\n",
       "      <td>0.0</td>\n",
       "      <td>...</td>\n",
       "      <td>0.0</td>\n",
       "      <td>0.0</td>\n",
       "      <td>0.0</td>\n",
       "      <td>0.0</td>\n",
       "      <td>0.0</td>\n",
       "      <td>0.0</td>\n",
       "      <td>0.0</td>\n",
       "      <td>0.0</td>\n",
       "      <td>0.000000</td>\n",
       "      <td>0.0</td>\n",
       "    </tr>\n",
       "    <tr>\n",
       "      <th>3</th>\n",
       "      <td>0.0</td>\n",
       "      <td>0.0</td>\n",
       "      <td>0.0</td>\n",
       "      <td>0.0</td>\n",
       "      <td>0.0</td>\n",
       "      <td>0.0</td>\n",
       "      <td>0.0</td>\n",
       "      <td>0.0</td>\n",
       "      <td>0.0</td>\n",
       "      <td>0.0</td>\n",
       "      <td>...</td>\n",
       "      <td>0.0</td>\n",
       "      <td>0.0</td>\n",
       "      <td>0.0</td>\n",
       "      <td>0.0</td>\n",
       "      <td>0.0</td>\n",
       "      <td>0.0</td>\n",
       "      <td>0.0</td>\n",
       "      <td>0.0</td>\n",
       "      <td>0.000000</td>\n",
       "      <td>0.0</td>\n",
       "    </tr>\n",
       "    <tr>\n",
       "      <th>4</th>\n",
       "      <td>0.0</td>\n",
       "      <td>0.0</td>\n",
       "      <td>0.0</td>\n",
       "      <td>0.0</td>\n",
       "      <td>0.0</td>\n",
       "      <td>0.0</td>\n",
       "      <td>0.0</td>\n",
       "      <td>0.0</td>\n",
       "      <td>0.0</td>\n",
       "      <td>0.0</td>\n",
       "      <td>...</td>\n",
       "      <td>0.0</td>\n",
       "      <td>0.0</td>\n",
       "      <td>0.0</td>\n",
       "      <td>0.0</td>\n",
       "      <td>0.0</td>\n",
       "      <td>0.0</td>\n",
       "      <td>0.0</td>\n",
       "      <td>0.0</td>\n",
       "      <td>0.000000</td>\n",
       "      <td>0.0</td>\n",
       "    </tr>\n",
       "    <tr>\n",
       "      <th>...</th>\n",
       "      <td>...</td>\n",
       "      <td>...</td>\n",
       "      <td>...</td>\n",
       "      <td>...</td>\n",
       "      <td>...</td>\n",
       "      <td>...</td>\n",
       "      <td>...</td>\n",
       "      <td>...</td>\n",
       "      <td>...</td>\n",
       "      <td>...</td>\n",
       "      <td>...</td>\n",
       "      <td>...</td>\n",
       "      <td>...</td>\n",
       "      <td>...</td>\n",
       "      <td>...</td>\n",
       "      <td>...</td>\n",
       "      <td>...</td>\n",
       "      <td>...</td>\n",
       "      <td>...</td>\n",
       "      <td>...</td>\n",
       "      <td>...</td>\n",
       "    </tr>\n",
       "    <tr>\n",
       "      <th>228</th>\n",
       "      <td>0.0</td>\n",
       "      <td>0.0</td>\n",
       "      <td>0.0</td>\n",
       "      <td>0.0</td>\n",
       "      <td>0.0</td>\n",
       "      <td>0.0</td>\n",
       "      <td>0.0</td>\n",
       "      <td>0.0</td>\n",
       "      <td>0.0</td>\n",
       "      <td>0.0</td>\n",
       "      <td>...</td>\n",
       "      <td>0.0</td>\n",
       "      <td>0.0</td>\n",
       "      <td>0.0</td>\n",
       "      <td>0.0</td>\n",
       "      <td>0.0</td>\n",
       "      <td>0.0</td>\n",
       "      <td>0.0</td>\n",
       "      <td>0.0</td>\n",
       "      <td>0.000000</td>\n",
       "      <td>0.0</td>\n",
       "    </tr>\n",
       "    <tr>\n",
       "      <th>229</th>\n",
       "      <td>0.0</td>\n",
       "      <td>0.0</td>\n",
       "      <td>0.0</td>\n",
       "      <td>0.0</td>\n",
       "      <td>0.0</td>\n",
       "      <td>0.0</td>\n",
       "      <td>0.0</td>\n",
       "      <td>0.0</td>\n",
       "      <td>0.0</td>\n",
       "      <td>0.0</td>\n",
       "      <td>...</td>\n",
       "      <td>0.0</td>\n",
       "      <td>0.0</td>\n",
       "      <td>0.0</td>\n",
       "      <td>0.0</td>\n",
       "      <td>0.0</td>\n",
       "      <td>0.0</td>\n",
       "      <td>0.0</td>\n",
       "      <td>0.0</td>\n",
       "      <td>0.000000</td>\n",
       "      <td>0.0</td>\n",
       "    </tr>\n",
       "    <tr>\n",
       "      <th>230</th>\n",
       "      <td>0.0</td>\n",
       "      <td>0.0</td>\n",
       "      <td>0.0</td>\n",
       "      <td>0.0</td>\n",
       "      <td>0.0</td>\n",
       "      <td>0.0</td>\n",
       "      <td>0.0</td>\n",
       "      <td>0.0</td>\n",
       "      <td>0.0</td>\n",
       "      <td>0.0</td>\n",
       "      <td>...</td>\n",
       "      <td>0.0</td>\n",
       "      <td>0.0</td>\n",
       "      <td>0.0</td>\n",
       "      <td>0.0</td>\n",
       "      <td>0.0</td>\n",
       "      <td>0.0</td>\n",
       "      <td>0.0</td>\n",
       "      <td>0.0</td>\n",
       "      <td>0.166982</td>\n",
       "      <td>0.0</td>\n",
       "    </tr>\n",
       "    <tr>\n",
       "      <th>231</th>\n",
       "      <td>0.0</td>\n",
       "      <td>0.0</td>\n",
       "      <td>0.0</td>\n",
       "      <td>0.0</td>\n",
       "      <td>0.0</td>\n",
       "      <td>0.0</td>\n",
       "      <td>0.0</td>\n",
       "      <td>0.0</td>\n",
       "      <td>0.0</td>\n",
       "      <td>0.0</td>\n",
       "      <td>...</td>\n",
       "      <td>0.0</td>\n",
       "      <td>0.0</td>\n",
       "      <td>0.0</td>\n",
       "      <td>0.0</td>\n",
       "      <td>0.0</td>\n",
       "      <td>0.0</td>\n",
       "      <td>0.0</td>\n",
       "      <td>0.0</td>\n",
       "      <td>0.000000</td>\n",
       "      <td>0.0</td>\n",
       "    </tr>\n",
       "    <tr>\n",
       "      <th>232</th>\n",
       "      <td>0.0</td>\n",
       "      <td>0.0</td>\n",
       "      <td>0.0</td>\n",
       "      <td>0.0</td>\n",
       "      <td>0.0</td>\n",
       "      <td>0.0</td>\n",
       "      <td>0.0</td>\n",
       "      <td>0.0</td>\n",
       "      <td>0.0</td>\n",
       "      <td>0.0</td>\n",
       "      <td>...</td>\n",
       "      <td>0.0</td>\n",
       "      <td>0.0</td>\n",
       "      <td>0.0</td>\n",
       "      <td>0.0</td>\n",
       "      <td>0.0</td>\n",
       "      <td>0.0</td>\n",
       "      <td>0.0</td>\n",
       "      <td>0.0</td>\n",
       "      <td>0.000000</td>\n",
       "      <td>0.0</td>\n",
       "    </tr>\n",
       "  </tbody>\n",
       "</table>\n",
       "<p>233 rows × 5679 columns</p>\n",
       "</div>"
      ],
      "text/plain": [
       "     000 in january  10 billion according  10 others all  10 pointers and  \\\n",
       "0               0.0                   0.0            0.0              0.0   \n",
       "1               0.0                   0.0            0.0              0.0   \n",
       "2               0.0                   0.0            0.0              0.0   \n",
       "3               0.0                   0.0            0.0              0.0   \n",
       "4               0.0                   0.0            0.0              0.0   \n",
       "..              ...                   ...            ...              ...   \n",
       "228             0.0                   0.0            0.0              0.0   \n",
       "229             0.0                   0.0            0.0              0.0   \n",
       "230             0.0                   0.0            0.0              0.0   \n",
       "231             0.0                   0.0            0.0              0.0   \n",
       "232             0.0                   0.0            0.0              0.0   \n",
       "\n",
       "     10 year prison  100 million per  102 year old  106 100 victory  \\\n",
       "0               0.0              0.0           0.0              0.0   \n",
       "1               0.0              0.0           0.0              0.0   \n",
       "2               0.0              0.0           0.0              0.0   \n",
       "3               0.0              0.0           0.0              0.0   \n",
       "4               0.0              0.0           0.0              0.0   \n",
       "..              ...              ...           ...              ...   \n",
       "228             0.0              0.0           0.0              0.0   \n",
       "229             0.0              0.0           0.0              0.0   \n",
       "230             0.0              0.0           0.0              0.0   \n",
       "231             0.0              0.0           0.0              0.0   \n",
       "232             0.0              0.0           0.0              0.0   \n",
       "\n",
       "     109 victory on  10th straight win  ...  young women of  your daily look  \\\n",
       "0               0.0                0.0  ...             0.0              0.0   \n",
       "1               0.0                0.0  ...             0.0              0.0   \n",
       "2               0.0                0.0  ...             0.0              0.0   \n",
       "3               0.0                0.0  ...             0.0              0.0   \n",
       "4               0.0                0.0  ...             0.0              0.0   \n",
       "..              ...                ...  ...             ...              ...   \n",
       "228             0.0                0.0  ...             0.0              0.0   \n",
       "229             0.0                0.0  ...             0.0              0.0   \n",
       "230             0.0                0.0  ...             0.0              0.0   \n",
       "231             0.0                0.0  ...             0.0              0.0   \n",
       "232             0.0                0.0  ...             0.0              0.0   \n",
       "\n",
       "     your head we  your money lasts  your neighborhood or  your own adventure  \\\n",
       "0             0.0               0.0                   0.0                 0.0   \n",
       "1             0.0               0.0                   0.0                 0.0   \n",
       "2             0.0               0.0                   0.0                 0.0   \n",
       "3             0.0               0.0                   0.0                 0.0   \n",
       "4             0.0               0.0                   0.0                 0.0   \n",
       "..            ...               ...                   ...                 ...   \n",
       "228           0.0               0.0                   0.0                 0.0   \n",
       "229           0.0               0.0                   0.0                 0.0   \n",
       "230           0.0               0.0                   0.0                 0.0   \n",
       "231           0.0               0.0                   0.0                 0.0   \n",
       "232           0.0               0.0                   0.0                 0.0   \n",
       "\n",
       "     yourself that you  yuan rather than  zimbabwe president has  \\\n",
       "0                  0.0               0.0                0.000000   \n",
       "1                  0.0               0.0                0.000000   \n",
       "2                  0.0               0.0                0.000000   \n",
       "3                  0.0               0.0                0.000000   \n",
       "4                  0.0               0.0                0.000000   \n",
       "..                 ...               ...                     ...   \n",
       "228                0.0               0.0                0.000000   \n",
       "229                0.0               0.0                0.000000   \n",
       "230                0.0               0.0                0.166982   \n",
       "231                0.0               0.0                0.000000   \n",
       "232                0.0               0.0                0.000000   \n",
       "\n",
       "     zykera rice added  \n",
       "0                  0.0  \n",
       "1                  0.0  \n",
       "2                  0.0  \n",
       "3                  0.0  \n",
       "4                  0.0  \n",
       "..                 ...  \n",
       "228                0.0  \n",
       "229                0.0  \n",
       "230                0.0  \n",
       "231                0.0  \n",
       "232                0.0  \n",
       "\n",
       "[233 rows x 5679 columns]"
      ]
     },
     "execution_count": 10,
     "metadata": {},
     "output_type": "execute_result"
    }
   ],
   "source": [
    "tri_df"
   ]
  },
  {
   "cell_type": "code",
   "execution_count": 11,
   "id": "5de6d069",
   "metadata": {},
   "outputs": [],
   "source": [
    "# =================================================-\n",
    "#### Slide 7/21: Tokenization: split each document into words  ####\n",
    "\n",
    "# Tokenize each document into a large list of tokenized documents.\n",
    "df_tokenized = [word_tokenize(df_text[i]) for i in range(0, len(df_text))]"
   ]
  },
  {
   "cell_type": "code",
   "execution_count": 12,
   "id": "4d5a4436",
   "metadata": {},
   "outputs": [
    {
     "name": "stdout",
     "output_type": "stream",
     "text": [
      "['Nick', 'Kyrgios', 'started', 'his', 'Brisbane', 'Open', 'title', 'defense', 'with', 'a', 'battling', '7-6', '(', '5', ')', '5-7', '7-6', '(', '5', ')', 'victory', 'over', 'American', 'Ryan', 'Harrison', 'in', 'the', 'opening', 'round', 'on', 'Tuesday', '.']\n",
      "['nick', 'kyrgios', 'started', 'his', 'brisbane', 'open', 'title', 'defense', 'with', 'a']\n"
     ]
    }
   ],
   "source": [
    "# =================================================-\n",
    "#### Slide 9/21: Convert characters to lowercase  ####\n",
    "\n",
    "# Let's take a look at the first tokenized document\n",
    "document_words = df_tokenized[0]\n",
    "print(document_words)\n",
    "# 1. Convert to lowercase.\n",
    "document_words = [word.lower() for word in document_words]\n",
    "print(document_words[:10])"
   ]
  },
  {
   "cell_type": "code",
   "execution_count": 13,
   "id": "014c5ac9",
   "metadata": {},
   "outputs": [
    {
     "name": "stdout",
     "output_type": "stream",
     "text": [
      "['i', 'me', 'my', 'myself', 'we', 'our', 'ours', 'ourselves', 'you', \"you're\"]\n",
      "['nick', 'kyrgios', 'started', 'brisbane', 'open', 'title', 'defense', 'battling', '7-6', '(']\n"
     ]
    }
   ],
   "source": [
    "# =================================================-\n",
    "#### Slide 10/21: Remove stop words  ####\n",
    "\n",
    "# 2. Remove stop words.\n",
    "# Get common English stop words.\n",
    "stop_words = stopwords.words(\"english\")\n",
    "print(stop_words[:10])\n",
    "# Remove stop words.\n",
    "document_words = [word for word in document_words if not word in stop_words]\n",
    "print(document_words[:10])"
   ]
  },
  {
   "cell_type": "code",
   "execution_count": 14,
   "id": "1da90673",
   "metadata": {},
   "outputs": [
    {
     "name": "stdout",
     "output_type": "stream",
     "text": [
      "['nick', 'kyrgios', 'started', 'brisbane', 'open', 'title', 'defense', 'battling', 'victory', 'american']\n"
     ]
    }
   ],
   "source": [
    "# =================================================-\n",
    "#### Slide 11/21: Remove non-alphabetical characters  ####\n",
    "\n",
    "# 3. Remove punctuation and any non-alphabetical characters.\n",
    "document_words = [word for word in document_words if word.isalpha()]\n",
    "print(document_words[:10])"
   ]
  },
  {
   "cell_type": "code",
   "execution_count": 15,
   "id": "f06335e4",
   "metadata": {},
   "outputs": [
    {
     "name": "stdout",
     "output_type": "stream",
     "text": [
      "['nick', 'kyrgio', 'start', 'brisban', 'open', 'titl', 'defens', 'battl', 'victori', 'american']\n"
     ]
    }
   ],
   "source": [
    "# =================================================-\n",
    "#### Slide 14/21: Stem words  ####\n",
    "\n",
    "# 4. Stem words.\n",
    "document_words = [PorterStemmer().stem(word) for word in document_words]\n",
    "print(document_words[:10])"
   ]
  },
  {
   "cell_type": "code",
   "execution_count": 16,
   "id": "1bfd255a",
   "metadata": {},
   "outputs": [],
   "source": [
    "# =================================================-\n",
    "#### Slide 16/21: Clean the entire corpus  ####\n",
    "\n",
    "# Create a list for clean documents.\n",
    "df_clean = [None] * len(df_tokenized)\n",
    "# Create a list of word counts for each clean document.\n",
    "word_counts_per_document = [None] * len(df_tokenized)\n",
    "\n",
    "# Process words in all documents.\n",
    "for i in range(len(df_tokenized)):\n",
    "    # 1. Convert to lowercase.\n",
    "    df_clean[i] = [document.lower() for document in df_tokenized[i]]\n",
    "\n",
    "    # 2. Remove stop words.\n",
    "    df_clean[i] = [word for word in df_clean[i] if not word in stop_words]\n",
    "\n",
    "    # 3. Remove punctuation and any non-alphabetical characters.\n",
    "    df_clean[i] = [word for word in df_clean[i] if word.isalpha()]\n",
    "\n",
    "    # 4. Stem words.\n",
    "    df_clean[i] = [PorterStemmer().stem(word) for word in df_clean[i]]\n",
    "\n",
    "    # Record the word count per document.\n",
    "    word_counts_per_document[i] = len(df_clean[i])"
   ]
  },
  {
   "cell_type": "code",
   "execution_count": 17,
   "id": "4115e062",
   "metadata": {},
   "outputs": [
    {
     "name": "stdout",
     "output_type": "stream",
     "text": [
      "[['nick', 'kyrgio', 'start', 'brisban', 'open', 'titl', 'defens', 'battl', 'victori', 'american', 'ryan', 'harrison', 'open', 'round', 'tuesday'], ['british', 'polic', 'confirm', 'tuesday', 'treat', 'stab', 'attack', 'injur', 'three', 'peopl', 'manchest', 'victoria', 'train', 'station', 'terrorist', 'investig', 'search', 'address', 'cheetham', 'hill', 'area', 'citi']]\n"
     ]
    }
   ],
   "source": [
    "# =================================================-\n",
    "#### Slide 17/21: Clean the entire corpus (cont'd)  ####\n",
    "\n",
    "# Convert word counts list and documents list to NumPy arrays.\n",
    "word_counts_array = np.array(word_counts_per_document)\n",
    "df_array = np.array(df_clean, dtype=object)\n",
    "\n",
    "# Find indices of all documents where there are greater than or equal to 5 words.\n",
    "valid_documents = np.where(word_counts_array >= 5)[0]\n",
    "\n",
    "# Subset the df_array to keep only those where there are at least 5 words.\n",
    "df_array = df_array[valid_documents]\n",
    "\n",
    "# Convert the array back to a list.\n",
    "df_clean = df_array.tolist()  # <- the processed documents\n",
    "\n",
    "print(df_clean[0:2])\n",
    "\n",
    "# Convert word counts list and documents list to NumPy arrays.\n",
    "word_counts_array = np.array(word_counts_per_document)\n",
    "df_array = np.array(df_clean, dtype=object)"
   ]
  },
  {
   "cell_type": "code",
   "execution_count": 18,
   "id": "de4dbdea",
   "metadata": {},
   "outputs": [
    {
     "data": {
      "text/plain": [
       "array([list(['nick', 'kyrgio', 'start', 'brisban', 'open', 'titl', 'defens', 'battl', 'victori', 'american', 'ryan', 'harrison', 'open', 'round', 'tuesday']),\n",
       "       list(['british', 'polic', 'confirm', 'tuesday', 'treat', 'stab', 'attack', 'injur', 'three', 'peopl', 'manchest', 'victoria', 'train', 'station', 'terrorist', 'investig', 'search', 'address', 'cheetham', 'hill', 'area', 'citi']),\n",
       "       list(['marcellu', 'wiley', 'still', 'fenc', 'let', 'young', 'son', 'play', 'footbal', 'former', 'nfl', 'defens', 'end', 'fox', 'sport', 'person', 'tell', 'podcaston', 'sport', 'like', 'nfl', 'tri', 'make', 'footbal', 'safer', 'game', 'de']),\n",
       "       list(['still', 'reckon', 'fallout', 'emmett', 'till', 'paint', 'chasten', 'artist', 'reveal', 'controversi', 'chang', 'even', 'move', 'forward', 'new', 'galleri', 'show']),\n",
       "       list(['far', 'arik', 'ogunbowal', 'coach', 'muffet', 'mcgraw', 'concern', 'notr', 'dame', 'victori', 'louisvil', 'thursday', 'night', 'anoth', 'atlant', 'coast', 'confer', 'game', 'januari'])],\n",
       "      dtype=object)"
      ]
     },
     "execution_count": 18,
     "metadata": {},
     "output_type": "execute_result"
    }
   ],
   "source": [
    "# =================================================-\n",
    "#### Slide 18/21: Clean corpus  ####\n",
    "\n",
    "# Print the first 5 documents of clean corpus\n",
    "df_array[:5]\n",
    "\n",
    "\n",
    "#######################################################\n",
    "####  CONGRATULATIONS ON COMPLETING THIS MODULE!   ####\n",
    "#######################################################"
   ]
  },
  {
   "cell_type": "code",
   "execution_count": 19,
   "id": "21af0d19",
   "metadata": {},
   "outputs": [],
   "source": [
    "#######################################################\n",
    "#######################################################\n",
    "############    COPYRIGHT - DATA SOCIETY   ############\n",
    "#######################################################\n",
    "#######################################################\n",
    "\n",
    "## Topic Modeling In N L P: Topic Modeling - 3 ##\n",
    "\n",
    "## NOTE: To run individual pieces of code, select the line of code and\n",
    "##       press ctrl + enter for PCs or command + enter for Macs"
   ]
  },
  {
   "cell_type": "code",
   "execution_count": 20,
   "id": "ea8b4e94",
   "metadata": {
    "scrolled": true
   },
   "outputs": [
    {
     "name": "stdout",
     "output_type": "stream",
     "text": [
      "0 american\n",
      "1 battl\n",
      "2 brisban\n",
      "3 defens\n",
      "4 harrison\n",
      "5 kyrgio\n",
      "6 nick\n",
      "7 open\n",
      "8 round\n",
      "9 ryan\n",
      "10 start\n"
     ]
    }
   ],
   "source": [
    "# =================================================-\n",
    "#### Slide 2/24: Create a dictionary of counts   ####\n",
    "\n",
    "# Set the seed.\n",
    "np.random.seed(1)\n",
    "dictionary = gensim.corpora.Dictionary(df_clean)\n",
    "\n",
    "# The loop below iterates through the first 10 items of the dictionary and prints out the key and value.\n",
    "count = 0\n",
    "for k, v in dictionary.iteritems():\n",
    "    print(k, v)\n",
    "    count += 1\n",
    "    if count > 10:\n",
    "        break"
   ]
  },
  {
   "cell_type": "code",
   "execution_count": 21,
   "id": "30768927",
   "metadata": {},
   "outputs": [
    {
     "data": {
      "text/plain": [
       "200"
      ]
     },
     "execution_count": 21,
     "metadata": {},
     "output_type": "execute_result"
    }
   ],
   "source": [
    "# =================================================-\n",
    "#### Slide 3/24: Create a dictionary of counts   ####\n",
    "\n",
    "dictionary.filter_extremes(no_below=4, no_above=0.5, keep_n=200)\n",
    "\n",
    "# How many words are left in the dictionary?\n",
    "len(dictionary)"
   ]
  },
  {
   "cell_type": "code",
   "execution_count": 22,
   "id": "fd048080",
   "metadata": {},
   "outputs": [
    {
     "name": "stdout",
     "output_type": "stream",
     "text": [
      "[(0, 1), (1, 1), (2, 2), (3, 1), (4, 1), (5, 1), (6, 1)]\n"
     ]
    }
   ],
   "source": [
    "# =================================================-\n",
    "#### Slide 4/24: Document to bag-of-words  ####\n",
    "\n",
    "# We use a list comprehension to transform each doc within our df_clean object.\n",
    "bow_corpus = [dictionary.doc2bow(doc) for doc in df_clean]\n",
    "\n",
    "# Let's look at the first document.\n",
    "print(bow_corpus[0])"
   ]
  },
  {
   "cell_type": "code",
   "execution_count": 23,
   "id": "756ce2db",
   "metadata": {},
   "outputs": [
    {
     "name": "stdout",
     "output_type": "stream",
     "text": [
      "Word 0 (\"american\") appears 1 time.\n",
      "Word 1 (\"defens\") appears 1 time.\n",
      "Word 2 (\"open\") appears 2 time.\n",
      "Word 3 (\"round\") appears 1 time.\n",
      "Word 4 (\"start\") appears 1 time.\n",
      "Word 5 (\"tuesday\") appears 1 time.\n",
      "Word 6 (\"victori\") appears 1 time.\n"
     ]
    }
   ],
   "source": [
    "# =================================================-\n",
    "#### Slide 5/24: Document to bag-of-words (cont'd)  ####\n",
    "\n",
    "# Isolate the first document.\n",
    "bow_doc_1 = bow_corpus[0]\n",
    "\n",
    "# Iterate through each dictionary item using the index.\n",
    "# Print out each actual word and how many times it appears.\n",
    "for i in range(len(bow_doc_1)):\n",
    "    print(\n",
    "        'Word {} (\"{}\") appears {} time.'.format(\n",
    "            bow_doc_1[i][0], dictionary[bow_doc_1[i][0]], bow_doc_1[i][1]\n",
    "        )\n",
    "    )"
   ]
  },
  {
   "cell_type": "markdown",
   "id": "ef464912-c453-44c5-99bb-d20f5cd14fc2",
   "metadata": {},
   "source": [
    "Compute TF-IDF by multiplying a local component (term frequency) with a global component\n",
    "\n",
    "(inverse document frequency), and normalizing the resulting documents to unit length.\n",
    "\n",
    "Formula for non-normalized weight of term `i` in document `j` in a corpus of `D` documents\n",
    "\n",
    "$weight_{i,j} = frequency_{i,j} * log_2 \\frac{D}{document\\_freq_{i}}$\n",
    "\n",
    "or, more generally\n",
    "\n",
    "$weight_{i,j} = wlocal(frequency_{i,j}) * wglobal(document\\_freq_{i}, D)$\n",
    "\n",
    "so you can plug in your own custom :math:`wlocal` and :math:`wglobal` functions."
   ]
  },
  {
   "cell_type": "markdown",
   "id": "e7edadf8-0ae2-4595-8aaf-ba78f2a0eadc",
   "metadata": {},
   "source": [
    "https://scikit-learn.org/stable/modules/feature_extraction.html#tfidf-term-weighting"
   ]
  },
  {
   "cell_type": "markdown",
   "id": "08e733aa-8f12-427f-b068-b0fdb835f994",
   "metadata": {},
   "source": [
    "${\\displaystyle \\mathrm {tfidf} (t,d,D)=\\mathrm {tf} (t,d)\\cdot \\mathrm {idf} (t,D)}$"
   ]
  },
  {
   "cell_type": "code",
   "execution_count": 24,
   "id": "47155750",
   "metadata": {},
   "outputs": [
    {
     "name": "stdout",
     "output_type": "stream",
     "text": [
      "[(0, 0.31942373876087665),\n",
      " (1, 0.3549009519669791),\n",
      " (2, 0.6118718565633235),\n",
      " (3, 0.3549009519669791),\n",
      " (4, 0.3059359282816618),\n",
      " (5, 0.22829905152454918),\n",
      " (6, 0.3549009519669791)]\n"
     ]
    }
   ],
   "source": [
    "# =================================================-\n",
    "#### Slide 7/24: Transform counts with TfidfModel (cont'd)  ####\n",
    "\n",
    "# This is the transformation.\n",
    "tfidf = models.TfidfModel(bow_corpus)\n",
    "\n",
    "# Apply the transformation to the entire corpus.\n",
    "corpus_tfidf = tfidf[bow_corpus]\n",
    "\n",
    "# Preview TF-IDF scores for the first document.\n",
    "for doc in corpus_tfidf:\n",
    "    pprint(doc)\n",
    "    break"
   ]
  },
  {
   "cell_type": "code",
   "execution_count": 25,
   "id": "81baf2a4",
   "metadata": {},
   "outputs": [
    {
     "name": "stdout",
     "output_type": "stream",
     "text": [
      "LdaMulticore<num_terms=200, num_topics=5, decay=0.5, chunksize=2000>\n"
     ]
    }
   ],
   "source": [
    "# =================================================-\n",
    "#### Slide 11/24: Running LdaMulticore  ####\n",
    "\n",
    "lda_model_tfidf = gensim.models.LdaMulticore(\n",
    "    corpus_tfidf, num_topics=5, id2word=dictionary, workers=4, passes=2\n",
    ")\n",
    "print(lda_model_tfidf)"
   ]
  },
  {
   "cell_type": "code",
   "execution_count": 26,
   "id": "032c7257",
   "metadata": {},
   "outputs": [
    {
     "name": "stdout",
     "output_type": "stream",
     "text": [
      "Topic: 0 Word: 0.020*\"offici\" + 0.020*\"like\" + 0.017*\"say\" + 0.017*\"week\" + 0.017*\"warn\" + 0.015*\"show\" + 0.015*\"state\" + 0.014*\"thursday\" + 0.014*\"help\" + 0.014*\"new\"\n",
      "Topic: 1 Word: 0.023*\"time\" + 0.023*\"latest\" + 0.022*\"world\" + 0.021*\"local\" + 0.020*\"new\" + 0.016*\"year\" + 0.015*\"meet\" + 0.013*\"york\" + 0.013*\"tenni\" + 0.013*\"leader\"\n",
      "Topic: 2 Word: 0.021*\"said\" + 0.020*\"friday\" + 0.018*\"billion\" + 0.018*\"know\" + 0.015*\"set\" + 0.015*\"say\" + 0.013*\"accus\" + 0.012*\"want\" + 0.012*\"govern\" + 0.012*\"court\"\n",
      "Topic: 3 Word: 0.020*\"investig\" + 0.020*\"saturday\" + 0.019*\"presid\" + 0.017*\"polic\" + 0.014*\"said\" + 0.014*\"expect\" + 0.013*\"citi\" + 0.013*\"suspect\" + 0.013*\"year\" + 0.013*\"first\"\n",
      "Topic: 4 Word: 0.022*\"young\" + 0.020*\"tuesday\" + 0.018*\"look\" + 0.018*\"said\" + 0.016*\"talk\" + 0.016*\"close\" + 0.015*\"move\" + 0.015*\"new\" + 0.015*\"south\" + 0.014*\"year\"\n"
     ]
    }
   ],
   "source": [
    "# =================================================-\n",
    "#### Slide 12/24: LDA output  ####\n",
    "\n",
    "for idx, topic in lda_model_tfidf.print_topics(-1):\n",
    "    print(f\"Topic: {idx} Word: {topic}\")"
   ]
  },
  {
   "cell_type": "code",
   "execution_count": 27,
   "id": "c8859293",
   "metadata": {},
   "outputs": [
    {
     "name": "stdout",
     "output_type": "stream",
     "text": [
      "['nick', 'kyrgio', 'start', 'brisban', 'open', 'titl', 'defens', 'battl', 'victori', 'american', 'ryan', 'harrison', 'open', 'round', 'tuesday']\n",
      "\n",
      "Score: 0.7646151185035706\t \n",
      "Topic: 0.020*\"investig\" + 0.020*\"saturday\" + 0.019*\"presid\" + 0.017*\"polic\" + 0.014*\"said\" + 0.014*\"expect\" + 0.013*\"citi\" + 0.013*\"suspect\" + 0.013*\"year\" + 0.013*\"first\"\n",
      "\n",
      "Score: 0.06096296012401581\t \n",
      "Topic: 0.020*\"offici\" + 0.020*\"like\" + 0.017*\"say\" + 0.017*\"week\" + 0.017*\"warn\" + 0.015*\"show\" + 0.015*\"state\" + 0.014*\"thursday\" + 0.014*\"help\" + 0.014*\"new\"\n",
      "\n",
      "Score: 0.058861661702394485\t \n",
      "Topic: 0.022*\"young\" + 0.020*\"tuesday\" + 0.018*\"look\" + 0.018*\"said\" + 0.016*\"talk\" + 0.016*\"close\" + 0.015*\"move\" + 0.015*\"new\" + 0.015*\"south\" + 0.014*\"year\"\n",
      "\n",
      "Score: 0.05789513513445854\t \n",
      "Topic: 0.023*\"time\" + 0.023*\"latest\" + 0.022*\"world\" + 0.021*\"local\" + 0.020*\"new\" + 0.016*\"year\" + 0.015*\"meet\" + 0.013*\"york\" + 0.013*\"tenni\" + 0.013*\"leader\"\n",
      "\n",
      "Score: 0.05766509845852852\t \n",
      "Topic: 0.021*\"said\" + 0.020*\"friday\" + 0.018*\"billion\" + 0.018*\"know\" + 0.015*\"set\" + 0.015*\"say\" + 0.013*\"accus\" + 0.012*\"want\" + 0.012*\"govern\" + 0.012*\"court\"\n"
     ]
    }
   ],
   "source": [
    "# =================================================-\n",
    "#### Slide 13/24: Classify our documents within topics  ####\n",
    "\n",
    "# Let's look at our first document as an example:\n",
    "print(df_clean[0])\n",
    "for index, score in sorted(\n",
    "    lda_model_tfidf[corpus_tfidf[0]], key=lambda tup: -1 * tup[1]\n",
    "):\n",
    "    print(\n",
    "        f\"\\nScore: {score}\\t \"\n",
    "        f\"\\nTopic: {lda_model_tfidf.print_topic(index, 10)}\"\n",
    "    )"
   ]
  },
  {
   "cell_type": "code",
   "execution_count": 28,
   "id": "0e892019",
   "metadata": {},
   "outputs": [
    {
     "name": "stdout",
     "output_type": "stream",
     "text": [
      "Coherence Score:  0.5082391247655911\n"
     ]
    }
   ],
   "source": [
    "# =================================================-\n",
    "#### Slide 17/24: Calculate topic coherence  ####\n",
    "\n",
    "# Compute Coherence Score using c_v.\n",
    "coherence_model_lda = CoherenceModel(\n",
    "    model=lda_model_tfidf,\n",
    "    texts=df_clean,\n",
    "    dictionary=dictionary,\n",
    "    coherence=\"c_v\",\n",
    ")\n",
    "coherence_lda = coherence_model_lda.get_coherence()\n",
    "print(\"Coherence Score: \", coherence_lda)"
   ]
  },
  {
   "cell_type": "code",
   "execution_count": 29,
   "id": "567ad999-ba33-440b-b8ff-bc65930cf245",
   "metadata": {},
   "outputs": [],
   "source": [
    "topic_range = range(2, 40, 1)\n",
    "np.random.seed(1)\n",
    "model_list, coherence_scores = zip(*[(\n",
    "        (model := models.LdaMulticore(corpus=corpus_tfidf, id2word=dictionary, num_topics=num_topics)),\n",
    "        CoherenceModel(model=model, texts=df_clean, dictionary=dictionary, coherence=\"c_v\").get_coherence()\n",
    "    ) for num_topics in topic_range])"
   ]
  },
  {
   "cell_type": "code",
   "execution_count": 30,
   "id": "d36aa59b",
   "metadata": {},
   "outputs": [],
   "source": [
    "# =================================================-\n",
    "#### Slide 19/24: Convenience function  ####\n",
    "\n",
    "\n",
    "# def compute_coherence_values(dictionary, corpus, texts, limit, start=2, step=3):\n",
    "#     coherence_values = []\n",
    "#     model_list = []\n",
    "#     for num_topics in range(start, limit, step):\n",
    "#         model = gensim.models.LdaMulticore(\n",
    "#             corpus=corpus, id2word=dictionary, num_topics=num_topics\n",
    "#         )\n",
    "#         model_list.append(model)\n",
    "#         coherencemodel = CoherenceModel(\n",
    "#             model=model, texts=texts, dictionary=dictionary, coherence=\"c_v\"\n",
    "#         )\n",
    "#         coherence_values.append(coherencemodel.get_coherence())\n",
    "\n",
    "#     return model_list, coherence_values"
   ]
  },
  {
   "cell_type": "code",
   "execution_count": 31,
   "id": "2f03c3b1",
   "metadata": {},
   "outputs": [
    {
     "data": {
      "image/png": "[encoded data removed]",
      "text/plain": [
       "<Figure size 640x480 with 1 Axes>"
      ]
     },
     "metadata": {},
     "output_type": "display_data"
    }
   ],
   "source": [
    "# =================================================-\n",
    "#### Slide 20/24: Run compute_coherence_values function  ####\n",
    "\n",
    "# np.random.seed(1)\n",
    "# model_list, coherence_values = compute_coherence_values(\n",
    "#     dictionary=dictionary,\n",
    "#     corpus=corpus_tfidf,\n",
    "#     texts=df_clean,\n",
    "#     start=2,\n",
    "#     limit=40,\n",
    "#     step=1,\n",
    "# )\n",
    "# Plot graph of topic list.\n",
    "# Show graph.\n",
    "\n",
    "plt.plot(topic_range, coherence_scores)\n",
    "plt.xlabel(\"Num Topics\")\n",
    "plt.ylabel(\"Coherence score\")\n",
    "plt.legend((\"coherence_values\"), loc=\"best\")\n",
    "plt.show()\n",
    "\n",
    "\n",
    "#######################################################\n",
    "####  CONGRATULATIONS ON COMPLETING THIS MODULE!   ####\n",
    "#######################################################"
   ]
  },
  {
   "cell_type": "code",
   "execution_count": 32,
   "id": "d624eacc-6e90-43c6-8542-013ea30521a3",
   "metadata": {},
   "outputs": [],
   "source": [
    "topic_coh_dict = {k: v for (k, v) in zip(topic_range, coherence_scores)}"
   ]
  },
  {
   "cell_type": "code",
   "execution_count": 33,
   "id": "cd421ead-769c-4e24-abc4-69be38248f0e",
   "metadata": {},
   "outputs": [
    {
     "data": {
      "text/plain": [
       "range(2, 40)"
      ]
     },
     "execution_count": 33,
     "metadata": {},
     "output_type": "execute_result"
    }
   ],
   "source": [
    "topic_range"
   ]
  },
  {
   "cell_type": "code",
   "execution_count": 34,
   "id": "4332b4a0-c68d-44d6-b209-f3cecec2b207",
   "metadata": {},
   "outputs": [],
   "source": [
    "chosen = [m for m in model_list if m.num_topics == 6]"
   ]
  },
  {
   "cell_type": "code",
   "execution_count": 35,
   "id": "bdba10ce-7e54-4a9b-a738-776e9dd963cf",
   "metadata": {},
   "outputs": [
    {
     "data": {
      "text/plain": [
       "6"
      ]
     },
     "execution_count": 35,
     "metadata": {},
     "output_type": "execute_result"
    }
   ],
   "source": [
    "chosen[0].num_topics"
   ]
  },
  {
   "cell_type": "code",
   "execution_count": 36,
   "id": "c9b4504c-e3c0-4267-bf06-86e5d5d9ed8e",
   "metadata": {},
   "outputs": [
    {
     "data": {
      "text/plain": [
       "[(22, 0.5532806986962565),\n",
       " (15, 0.5501038406970452),\n",
       " (13, 0.5452273655241963),\n",
       " (6, 0.5451710053541036),\n",
       " (19, 0.5432601382928554)]"
      ]
     },
     "execution_count": 36,
     "metadata": {},
     "output_type": "execute_result"
    }
   ],
   "source": [
    "sorted(topic_coh_dict.items(), reverse=True, key=lambda x: x[1])[:5]"
   ]
  },
  {
   "cell_type": "code",
   "execution_count": 37,
   "id": "751cfe00-5518-4aff-9c60-bb64fcd881bd",
   "metadata": {
    "scrolled": true
   },
   "outputs": [],
   "source": [
    "chosen = model_list[np.argmax(coherence_scores[:11])]"
   ]
  },
  {
   "cell_type": "code",
   "execution_count": 38,
   "id": "2714ab8b-1915-44fb-ae01-41d14be4d120",
   "metadata": {},
   "outputs": [
    {
     "data": {
      "text/plain": [
       "6"
      ]
     },
     "execution_count": 38,
     "metadata": {},
     "output_type": "execute_result"
    }
   ],
   "source": [
    "chosen.num_topics"
   ]
  },
  {
   "cell_type": "code",
   "execution_count": 39,
   "id": "533e99ce",
   "metadata": {},
   "outputs": [],
   "source": [
    "#######################################################\n",
    "#######################################################\n",
    "############    COPYRIGHT - DATA SOCIETY   ############\n",
    "#######################################################\n",
    "#######################################################\n",
    "\n",
    "## Topic Modeling In N L P: Topic Modeling - 4 ##\n",
    "\n",
    "## NOTE: To run individual pieces of code, select the line of code and\n",
    "##       press ctrl + enter for PCs or command + enter for Macs"
   ]
  },
  {
   "cell_type": "code",
   "execution_count": 40,
   "id": "346ee593",
   "metadata": {},
   "outputs": [
    {
     "data": {
      "text/html": [
       "\n",
       "<link rel=\"stylesheet\" type=\"text/css\" href=\"https://cdn.jsdelivr.net/gh/bmabey/pyLDAvis@3.4.0/pyLDAvis/js/ldavis.v1.0.0.css\">\n",
       "\n",
       "\n",
       "<div id=\"ldavis_el896591405847062967366292025055\" style=\"background-color:white;\"></div>\n",
       "<script type=\"text/javascript\">\n",
       "\n",
       "var ldavis_el896591405847062967366292025055_data = {\"mdsDat\": {\"x\": [0.07292615401641787, -0.030800638701778817, -0.009110953612908685, 0.04415804741518944, 0.0006956454143730777, -0.07786825453129298], \"y\": [0.003719516210377672, -0.06181191966464359, 0.04957603527916665, 0.025466630074798647, -0.05305051847663586, 0.03610025657693648], \"topics\": [1, 2, 3, 4, 5, 6], \"cluster\": [1, 1, 1, 1, 1, 1], \"Freq\": [18.152533598802513, 17.657743475909246, 16.5853348087587, 16.214329950641442, 15.932054833728602, 15.458003332159501]}, \"tinfo\": {\"Term\": [\"saturday\", \"talk\", \"young\", \"latest\", \"make\", \"former\", \"help\", \"nation\", \"day\", \"billion\", \"score\", \"want\", \"cup\", \"call\", \"govern\", \"leagu\", \"investig\", \"round\", \"time\", \"court\", \"premier\", \"could\", \"thursday\", \"protest\", \"team\", \"sunday\", \"power\", \"race\", \"coach\", \"test\", \"billion\", \"coach\", \"secur\", \"elect\", \"health\", \"investig\", \"leav\", \"wall\", \"face\", \"thursday\", \"defend\", \"congress\", \"man\", \"charg\", \"final\", \"provid\", \"state\", \"show\", \"lawyer\", \"forward\", \"weekend\", \"target\", \"use\", \"arrest\", \"way\", \"democrat\", \"trump\", \"donald\", \"friday\", \"includ\", \"said\", \"two\", \"polic\", \"leagu\", \"like\", \"presid\", \"new\", \"say\", \"nation\", \"score\", \"point\", \"want\", \"price\", \"trade\", \"bank\", \"set\", \"north\", \"key\", \"move\", \"minist\", \"china\", \"dollar\", \"search\", \"intern\", \"handl\", \"night\", \"hundr\", \"million\", \"govern\", \"sunday\", \"monday\", \"citi\", \"execut\", \"expect\", \"school\", \"york\", \"year\", \"stock\", \"support\", \"new\", \"latest\", \"like\", \"friday\", \"state\", \"said\", \"peopl\", \"head\", \"time\", \"tuesday\", \"feder\", \"round\", \"team\", \"premier\", \"south\", \"cup\", \"chang\", \"forc\", \"win\", \"leagu\", \"meet\", \"lead\", \"court\", \"defens\", \"report\", \"forward\", \"kill\", \"sunday\", \"warn\", \"expect\", \"america\", \"suspect\", \"india\", \"search\", \"test\", \"day\", \"next\", \"look\", \"young\", \"know\", \"host\", \"execut\", \"one\", \"offici\", \"time\", \"world\", \"feder\", \"new\", \"year\", \"first\", \"find\", \"power\", \"call\", \"partial\", \"candid\", \"busi\", \"nation\", \"much\", \"full\", \"countri\", \"polit\", \"school\", \"port\", \"unit\", \"top\", \"shutdown\", \"test\", \"hous\", \"handl\", \"back\", \"parti\", \"could\", \"month\", \"job\", \"weekend\", \"govern\", \"coach\", \"thousand\", \"york\", \"american\", \"tuesday\", \"donald\", \"trump\", \"presid\", \"say\", \"week\", \"said\", \"year\", \"new\", \"feder\", \"saturday\", \"protest\", \"need\", \"offic\", \"men\", \"shoot\", \"made\", \"play\", \"republican\", \"march\", \"rule\", \"senat\", \"appear\", \"charg\", \"group\", \"night\", \"court\", \"rais\", \"million\", \"host\", \"attack\", \"world\", \"parti\", \"citi\", \"india\", \"cup\", \"kill\", \"build\", \"lawyer\", \"last\", \"follow\", \"border\", \"could\", \"monday\", \"close\", \"time\", \"show\", \"year\", \"new\", \"said\", \"presid\", \"open\", \"talk\", \"former\", \"make\", \"young\", \"help\", \"race\", \"decis\", \"bring\", \"three\", \"latest\", \"local\", \"market\", \"day\", \"sever\", \"week\", \"look\", \"work\", \"full\", \"stock\", \"open\", \"fund\", \"meet\", \"made\", \"first\", \"time\", \"month\", \"head\", \"tenni\", \"last\", \"game\", \"investig\", \"minist\", \"offici\", \"polic\", \"follow\", \"one\", \"said\", \"new\", \"presid\", \"year\"], \"Freq\": [4.0, 2.0, 2.0, 4.0, 2.0, 2.0, 2.0, 3.0, 3.0, 2.0, 2.0, 2.0, 2.0, 2.0, 4.0, 3.0, 3.0, 1.0, 5.0, 2.0, 2.0, 3.0, 3.0, 2.0, 2.0, 3.0, 2.0, 2.0, 2.0, 2.0, 1.4978815072060057, 1.2060746642935147, 1.0116628682458089, 1.1027624044377489, 1.2413756974401746, 1.4342644920425276, 1.1236004592586084, 0.9334888178739356, 0.9322636482223698, 1.6265565429782718, 1.003659302586352, 0.8172052588457193, 1.02605852164512, 1.020062012851683, 1.0857970630019846, 0.938406867751338, 1.60743068344699, 1.610848053512421, 0.9422860616106409, 0.7921858580556311, 0.9342298420982479, 0.7482180007156921, 1.0572170016612104, 0.7775038036989823, 0.8791015280939287, 0.9572150940398652, 1.2765494612739259, 1.11058154660205, 1.7532289322072425, 0.9516165043640871, 2.2641876815205007, 1.2260385751490492, 1.2284033181886898, 1.0179587389449987, 1.2615133210071052, 1.3528222125185825, 1.3655874866151856, 1.0595415117568125, 0.9737428234534495, 1.4759275916169563, 1.166774108853418, 1.4015158265472403, 1.0540084193317352, 1.3913260297517545, 0.9225004694424822, 1.2749401011276473, 1.141005525516786, 0.9190439549070736, 1.5211852644958346, 1.1291366326003225, 1.1644894069409713, 0.729825459082375, 0.7037908452126532, 0.7759297718345378, 0.6757587040720953, 1.0233428079296891, 0.7267906447485873, 0.9727544557659163, 1.6975358848855409, 1.0465424915225734, 1.3223024664484995, 1.0230320814653369, 0.7154397168259558, 0.7039404299306994, 0.7770856497670199, 0.9739499953181088, 1.7175796242310195, 0.5432336043661016, 0.684514904043883, 2.069434225137148, 1.2494441585940563, 1.2819433100401896, 1.2132072715915225, 1.013971896629015, 1.4236780041940624, 0.8789957876228492, 0.82658965499898, 0.959747720885316, 0.8996708734136488, 0.8468534156476192, 1.180739722778849, 1.2974900676340464, 1.330639264021726, 1.1281768581884977, 1.2035073808814496, 1.2086495897435943, 0.9099407904034391, 0.8492465253640236, 1.2812882857504022, 1.0308873849245352, 0.7478742056969305, 1.0617174475824638, 0.786864944773137, 0.976790739149347, 0.7487457414321138, 1.1527571593062813, 1.0988887180663953, 0.9572744405826908, 0.8235699378822346, 0.8927491353697288, 0.9202280041472598, 0.670129196784612, 0.6225274987917322, 0.9125875518336025, 1.1076813771346905, 0.6126221884215849, 0.7386473412425467, 0.8457627672634793, 0.7211613640351979, 0.5583627567445477, 0.6465633573415992, 0.9359348905738053, 1.0723465980678293, 1.116617208850179, 0.9868211302756006, 0.7990551787517072, 0.8729575111150755, 0.8199546023919666, 0.7568531290075535, 1.0363860144732793, 1.236456139540814, 1.3776412026490146, 1.109365833677233, 0.971353771231684, 1.0773452748325416, 1.5323965175587262, 0.9654101533740016, 0.8468627580537436, 0.9582084942573137, 0.9291028639611755, 0.981586531546418, 0.7772501769665412, 0.9346068748656216, 0.7762018092507034, 1.0329317071666313, 1.037604098772563, 1.0715187139836213, 0.6519317250975423, 0.8461879919311187, 0.7257385810110684, 1.0414526695208115, 0.7194234518639008, 0.6655938698667839, 0.7513601573705846, 1.4085011605469393, 0.672270500964432, 0.6882638569662114, 0.9167930653075863, 0.7518031409683045, 1.167562060161928, 0.8741064101061083, 0.9769981540710881, 1.2384510128639035, 1.030214955490742, 0.893651393132329, 0.9343960757742928, 0.8873018543699482, 0.9127780742240783, 0.7908203483717554, 2.391489683789638, 1.2260914160742853, 0.9585084937061161, 0.8525791611517276, 0.884292140885228, 0.8982747900313638, 1.0120551285163837, 0.8007157085776747, 0.7401267568381429, 0.6866586447266502, 0.6881211102421635, 0.7402398010855743, 0.841210433111994, 0.855473599464719, 0.7863014215783134, 0.9610534507118839, 0.9704888140334912, 0.7631643213005539, 0.8976554560691953, 0.6315744975559636, 0.9092109322577258, 1.3828902649894608, 0.6567228532771936, 0.9740672055919487, 0.5947311575113575, 0.7259335815428771, 0.9493350833715688, 0.6333408237966658, 0.6917140371895291, 0.7088077335420575, 0.7439640995098642, 0.7693543430617269, 0.8574401427879615, 0.9842975914894825, 0.8344169557211009, 1.0512028016829864, 0.8758500818034557, 0.9990077210511297, 1.0045943661792616, 0.8338754334875977, 0.7986958424962097, 0.7486128960667123, 1.7061505607970757, 1.5203288286701149, 1.6037440778323793, 1.5079665685017616, 1.4854512972635274, 1.0573130934957444, 0.9158190584999498, 1.0069068188509591, 0.9302365089724399, 1.8038839270002587, 1.7843486587091728, 1.1216458999176369, 1.3940692922799536, 0.8370504831718129, 1.2692526966172362, 0.8375093637696672, 0.9946928690144662, 0.6748380696613682, 0.6010509586219149, 0.8891751648658539, 0.6034322400407287, 0.7778878439001237, 0.7486785264325914, 1.0772794964724708, 1.4585159949050215, 0.6194625174683468, 0.8350168304404165, 0.5680467744898317, 0.6618851741352286, 0.5645561164594688, 0.8177968895420124, 0.7153442655851816, 1.0155687554009372, 0.9262535142926169, 0.6560445829680834, 0.7069784131757602, 0.8131989626696746, 0.7834019990448433, 0.7325286426624058, 0.7255845766385194], \"Total\": [4.0, 2.0, 2.0, 4.0, 2.0, 2.0, 2.0, 3.0, 3.0, 2.0, 2.0, 2.0, 2.0, 2.0, 4.0, 3.0, 3.0, 1.0, 5.0, 2.0, 2.0, 3.0, 3.0, 2.0, 2.0, 3.0, 2.0, 2.0, 2.0, 2.0, 2.767800850701663, 2.354332214621905, 2.0689085769003857, 2.266038200626821, 2.5963578491519415, 3.0088024958134527, 2.3804296497401705, 2.0248246181166216, 2.0639197811091474, 3.7159676917307416, 2.308010199977793, 1.88340828083525, 2.366893398369094, 2.362053754527571, 2.654694364913307, 2.2963609495077995, 3.947686868082304, 3.963671256309938, 2.330696887308753, 2.0279834222020607, 2.3988891228250377, 1.9447301347927484, 2.8479440984354443, 2.148204554452795, 2.4824604303579045, 2.7191987716562007, 3.659141850537937, 3.191612641035174, 5.128447574839471, 2.8190806393743455, 7.025819636424426, 3.7314807033047614, 4.0775586916272655, 3.093661269465251, 4.566034376086369, 5.425172783037066, 7.008753662315591, 4.707860841153368, 3.349305580962802, 2.361732063457987, 2.0278463536122193, 2.5853394930045317, 1.952032322353302, 2.616036292909554, 1.835042893270589, 2.6622339696534967, 2.4946864029209244, 2.080521619497707, 3.485193319201997, 2.676389180087669, 2.761525315082754, 1.8389934791752078, 1.8214520858918366, 2.0316732184721116, 1.808928005514505, 2.74785570064569, 2.0118603932080035, 2.709451160373749, 4.797679168299584, 3.051706958033884, 4.003903188873812, 3.156192136780597, 2.3337565267874223, 2.3172566639671652, 2.575489153399341, 3.2485224071946073, 5.738798030699341, 1.8300428612665738, 2.3167707819299697, 7.008753662315591, 4.34778922043906, 4.566034376086369, 5.128447574839471, 3.947686868082304, 7.025819636424426, 3.2862912865358354, 2.965302065258929, 5.077571169118928, 4.406489056753499, 3.9011555050336484, 1.7938331487410306, 2.3173876077038282, 2.500783593469289, 2.253175094120477, 2.4234848835370695, 2.548713445896113, 2.009734807297575, 2.043530263165777, 3.093661269465251, 2.6139634791386084, 1.9000199984628725, 2.813605793486213, 2.0899196124115833, 2.608050119219886, 2.0279834222020607, 3.1857377955133956, 3.051706958033884, 2.6777110462359324, 2.3172566639671652, 2.5196056521073107, 2.641843473282473, 1.9469671961490516, 1.8214520858918366, 2.775668894213032, 3.544636866696367, 1.9825360672307535, 2.435923937571501, 2.8617516510331504, 2.495043398283969, 2.001621100691181, 2.3337565267874223, 3.488618841916448, 4.3414427841179215, 5.077571169118928, 4.434341191702007, 3.9011555050336484, 7.008753662315591, 5.738798030699341, 3.695302027087709, 1.89161256462712, 2.367556170675004, 2.655922305649903, 2.36955587819219, 2.076312558925339, 2.337420261034583, 3.349305580962802, 2.226192959267473, 2.0078631169351415, 2.452605077546149, 2.381862550407399, 2.575489153399341, 2.0418761481390266, 2.491692050741372, 2.074102922155756, 2.760851927315867, 2.775668894213032, 2.9476597990384663, 1.808928005514505, 2.3648864775088283, 2.111604674730609, 3.1160638697971415, 2.173544588713731, 2.057578618546199, 2.3988891228250377, 4.797679168299584, 2.354332214621905, 2.435525209250715, 3.2485224071946073, 2.6778057705934497, 4.406489056753499, 3.191612641035174, 3.659141850537937, 5.425172783037066, 4.707860841153368, 3.6893579793317164, 7.025819636424426, 5.738798030699341, 7.008753662315591, 3.9011555050336484, 4.423385175119934, 2.36820560251159, 2.117230693778157, 1.9092097413119218, 2.058719004032923, 2.2026070532979904, 2.5263361023832616, 2.0482416199463302, 1.9379525156404798, 1.8008529314778887, 1.8409996196475222, 1.9940789166827242, 2.302754945217812, 2.362053754527571, 2.206174355407146, 2.74785570064569, 2.813605793486213, 2.2842544230413386, 2.709451160373749, 2.001621100691181, 2.885297723962979, 4.434341191702007, 2.111604674730609, 3.156192136780597, 1.9469671961490516, 2.4234848835370695, 3.1857377955133956, 2.1285788268563253, 2.330696887308753, 2.393249241861712, 2.543704236981003, 2.651400617094238, 3.1160638697971415, 4.003903188873812, 3.109756185713252, 5.077571169118928, 3.963671256309938, 5.738798030699341, 7.008753662315591, 7.025819636424426, 5.425172783037066, 2.7995895791139285, 2.736321248310592, 2.6041904074870605, 2.938689601864463, 2.8617516510331504, 2.9822615120185656, 2.1540236747377763, 1.8855796634925337, 2.1898032371835203, 2.056847730893867, 4.34778922043906, 4.368147261860102, 2.823349577240066, 3.544636866696367, 2.2760864471194804, 3.6893579793317164, 2.435923937571501, 2.9134503930157596, 2.0078631169351415, 1.8300428612665738, 2.7995895791139285, 1.9266866603820225, 2.6139634791386084, 2.5263361023832616, 3.695302027087709, 5.077571169118928, 2.173544588713731, 2.965302065258929, 2.0510246210587235, 2.393249241861712, 2.0506788186391622, 3.0088024958134527, 2.676389180087669, 4.3414427841179215, 4.0775586916272655, 2.543704236981003, 3.488618841916448, 7.025819636424426, 7.008753662315591, 5.425172783037066, 5.738798030699341], \"Category\": [\"Default\", \"Default\", \"Default\", \"Default\", \"Default\", \"Default\", \"Default\", \"Default\", \"Default\", \"Default\", \"Default\", \"Default\", \"Default\", \"Default\", \"Default\", \"Default\", \"Default\", \"Default\", \"Default\", \"Default\", \"Default\", \"Default\", \"Default\", \"Default\", \"Default\", \"Default\", \"Default\", \"Default\", \"Default\", \"Default\", \"Topic1\", \"Topic1\", \"Topic1\", \"Topic1\", \"Topic1\", \"Topic1\", \"Topic1\", \"Topic1\", \"Topic1\", \"Topic1\", \"Topic1\", \"Topic1\", \"Topic1\", \"Topic1\", \"Topic1\", \"Topic1\", \"Topic1\", \"Topic1\", \"Topic1\", \"Topic1\", \"Topic1\", \"Topic1\", \"Topic1\", \"Topic1\", \"Topic1\", \"Topic1\", \"Topic1\", \"Topic1\", \"Topic1\", \"Topic1\", \"Topic1\", \"Topic1\", \"Topic1\", \"Topic1\", \"Topic1\", \"Topic1\", \"Topic1\", \"Topic1\", \"Topic1\", \"Topic2\", \"Topic2\", \"Topic2\", \"Topic2\", \"Topic2\", \"Topic2\", \"Topic2\", \"Topic2\", \"Topic2\", \"Topic2\", \"Topic2\", \"Topic2\", \"Topic2\", \"Topic2\", \"Topic2\", \"Topic2\", \"Topic2\", \"Topic2\", \"Topic2\", \"Topic2\", \"Topic2\", \"Topic2\", \"Topic2\", \"Topic2\", \"Topic2\", \"Topic2\", \"Topic2\", \"Topic2\", \"Topic2\", \"Topic2\", \"Topic2\", \"Topic2\", \"Topic2\", \"Topic2\", \"Topic2\", \"Topic2\", \"Topic2\", \"Topic2\", \"Topic2\", \"Topic2\", \"Topic2\", \"Topic3\", \"Topic3\", \"Topic3\", \"Topic3\", \"Topic3\", \"Topic3\", \"Topic3\", \"Topic3\", \"Topic3\", \"Topic3\", \"Topic3\", \"Topic3\", \"Topic3\", \"Topic3\", \"Topic3\", \"Topic3\", \"Topic3\", \"Topic3\", \"Topic3\", \"Topic3\", \"Topic3\", \"Topic3\", \"Topic3\", \"Topic3\", \"Topic3\", \"Topic3\", \"Topic3\", \"Topic3\", \"Topic3\", \"Topic3\", \"Topic3\", \"Topic3\", \"Topic3\", \"Topic3\", \"Topic3\", \"Topic3\", \"Topic3\", \"Topic3\", \"Topic3\", \"Topic4\", \"Topic4\", \"Topic4\", \"Topic4\", \"Topic4\", \"Topic4\", \"Topic4\", \"Topic4\", \"Topic4\", \"Topic4\", \"Topic4\", \"Topic4\", \"Topic4\", \"Topic4\", \"Topic4\", \"Topic4\", \"Topic4\", \"Topic4\", \"Topic4\", \"Topic4\", \"Topic4\", \"Topic4\", \"Topic4\", \"Topic4\", \"Topic4\", \"Topic4\", \"Topic4\", \"Topic4\", \"Topic4\", \"Topic4\", \"Topic4\", \"Topic4\", \"Topic4\", \"Topic4\", \"Topic4\", \"Topic4\", \"Topic4\", \"Topic4\", \"Topic4\", \"Topic4\", \"Topic5\", \"Topic5\", \"Topic5\", \"Topic5\", \"Topic5\", \"Topic5\", \"Topic5\", \"Topic5\", \"Topic5\", \"Topic5\", \"Topic5\", \"Topic5\", \"Topic5\", \"Topic5\", \"Topic5\", \"Topic5\", \"Topic5\", \"Topic5\", \"Topic5\", \"Topic5\", \"Topic5\", \"Topic5\", \"Topic5\", \"Topic5\", \"Topic5\", \"Topic5\", \"Topic5\", \"Topic5\", \"Topic5\", \"Topic5\", \"Topic5\", \"Topic5\", \"Topic5\", \"Topic5\", \"Topic5\", \"Topic5\", \"Topic5\", \"Topic5\", \"Topic5\", \"Topic5\", \"Topic5\", \"Topic5\", \"Topic6\", \"Topic6\", \"Topic6\", \"Topic6\", \"Topic6\", \"Topic6\", \"Topic6\", \"Topic6\", \"Topic6\", \"Topic6\", \"Topic6\", \"Topic6\", \"Topic6\", \"Topic6\", \"Topic6\", \"Topic6\", \"Topic6\", \"Topic6\", \"Topic6\", \"Topic6\", \"Topic6\", \"Topic6\", \"Topic6\", \"Topic6\", \"Topic6\", \"Topic6\", \"Topic6\", \"Topic6\", \"Topic6\", \"Topic6\", \"Topic6\", \"Topic6\", \"Topic6\", \"Topic6\", \"Topic6\", \"Topic6\", \"Topic6\", \"Topic6\", \"Topic6\", \"Topic6\"], \"logprob\": [30.0, 29.0, 28.0, 27.0, 26.0, 25.0, 24.0, 23.0, 22.0, 21.0, 20.0, 19.0, 18.0, 17.0, 16.0, 15.0, 14.0, 13.0, 12.0, 11.0, 10.0, 9.0, 8.0, 7.0, 6.0, 5.0, 4.0, 3.0, 2.0, 1.0, -4.167, -4.3837, -4.5594, -4.4732, -4.3548, -4.2104, -4.4545, -4.6399, -4.6412, -4.0846, -4.5674, -4.7729, -4.5453, -4.5512, -4.4887, -4.6346, -4.0964, -4.0943, -4.6305, -4.804, -4.6391, -4.8611, -4.5154, -4.8227, -4.6999, -4.6148, -4.3269, -4.4661, -4.0096, -4.6206, -3.7538, -4.3672, -4.3653, -4.5532, -4.3387, -4.2688, -4.2594, -4.5132, -4.5976, -4.1541, -4.3892, -4.2058, -4.4908, -4.2131, -4.6241, -4.3005, -4.4115, -4.6278, -4.1239, -4.4219, -4.3911, -4.8583, -4.8947, -4.7971, -4.9353, -4.5203, -4.8625, -4.571, -4.0142, -4.4979, -4.264, -4.5206, -4.8783, -4.8945, -4.7956, -4.5698, -4.0025, -5.1536, -4.9224, -3.8161, -4.3207, -4.295, -4.3501, -4.5295, -4.1902, -4.6724, -4.7338, -4.5845, -4.6491, -4.7096, -4.3146, -4.2203, -4.1951, -4.3601, -4.2955, -4.2912, -4.5751, -4.6441, -4.2329, -4.4503, -4.7713, -4.4209, -4.7204, -4.5042, -4.7701, -4.3386, -4.3864, -4.5244, -4.6748, -4.5942, -4.5639, -4.881, -4.9547, -4.5722, -4.3785, -4.9707, -4.7837, -4.6483, -4.8076, -5.0635, -4.9168, -4.547, -4.4109, -4.3704, -4.494, -4.7051, -4.6166, -4.6792, -4.7593, -4.4224, -4.2459, -4.1377, -4.3543, -4.4872, -4.3836, -4.0313, -4.4933, -4.6243, -4.5008, -4.5317, -4.4767, -4.7101, -4.5257, -4.7115, -4.4257, -4.4212, -4.389, -4.8859, -4.6251, -4.7787, -4.4175, -4.7874, -4.8652, -4.744, -4.1156, -4.8552, -4.8317, -4.545, -4.7434, -4.3032, -4.5927, -4.4814, -4.2443, -4.4284, -4.5706, -4.526, -4.5777, -4.5494, -4.6928, -3.5686, -4.2367, -4.4829, -4.6, -4.5635, -4.5478, -4.4286, -4.6628, -4.7415, -4.8165, -4.8143, -4.7413, -4.6135, -4.5967, -4.681, -4.4803, -4.4705, -4.7108, -4.5485, -4.9001, -4.5357, -4.1164, -4.861, -4.4668, -4.9602, -4.7609, -4.4925, -4.8973, -4.8091, -4.7847, -4.7363, -4.7028, -4.5944, -4.4564, -4.6216, -4.3906, -4.5731, -4.4415, -4.436, -4.6222, -4.6653, -4.7301, -3.8761, -3.9914, -3.938, -3.9996, -4.0146, -4.3546, -4.4983, -4.4035, -4.4827, -3.8204, -3.8313, -4.2956, -4.0781, -4.5882, -4.1719, -4.5877, -4.4157, -4.8036, -4.9194, -4.5278, -4.9155, -4.6615, -4.6998, -4.3359, -4.0329, -4.8893, -4.5907, -4.9759, -4.823, -4.9821, -4.6115, -4.7453, -4.3949, -4.487, -4.8319, -4.7571, -4.6171, -4.6545, -4.7216, -4.7311], \"loglift\": [30.0, 29.0, 28.0, 27.0, 26.0, 25.0, 24.0, 23.0, 22.0, 21.0, 20.0, 19.0, 18.0, 17.0, 16.0, 15.0, 14.0, 13.0, 12.0, 11.0, 10.0, 9.0, 8.0, 7.0, 6.0, 5.0, 4.0, 3.0, 2.0, 1.0, 1.0924, 1.0375, 0.9909, 0.9861, 0.9685, 0.9655, 0.9556, 0.9321, 0.9116, 0.8802, 0.8736, 0.8714, 0.8705, 0.8667, 0.8123, 0.8115, 0.8079, 0.806, 0.8007, 0.7664, 0.7633, 0.7512, 0.7154, 0.6901, 0.6683, 0.6623, 0.6533, 0.6507, 0.633, 0.6204, 0.574, 0.5933, 0.5066, 0.5948, 0.42, 0.3175, 0.0708, 0.215, 0.471, 1.2639, 1.1813, 1.1217, 1.1177, 1.1026, 1.0463, 0.9977, 0.9517, 0.917, 0.905, 0.871, 0.8705, 0.8098, 0.7831, 0.7714, 0.7493, 0.7462, 0.7158, 0.7096, 0.695, 0.6638, 0.6261, 0.6074, 0.5517, 0.5426, 0.5358, 0.5294, 0.5277, 0.5194, 0.5148, 0.5141, 0.487, 0.4637, 0.2925, 0.3747, 0.1376, 0.4153, 0.4566, 0.0681, 0.1452, 0.2065, 1.3784, 1.2166, 1.1657, 1.1049, 1.0967, 1.0506, 1.0043, 0.9186, 0.9152, 0.8662, 0.8643, 0.8221, 0.8198, 0.8146, 0.8003, 0.7801, 0.7752, 0.768, 0.7622, 0.7591, 0.742, 0.7301, 0.723, 0.6843, 0.6335, 0.6223, 0.6034, 0.5777, 0.5555, 0.5199, 0.5131, 0.4809, 0.3983, 0.2821, 0.294, 0.2111, -0.2864, -0.1491, 0.211, 1.2176, 1.1697, 1.1629, 1.0604, 1.0596, 1.0447, 1.0374, 0.9838, 0.956, 0.8794, 0.8779, 0.8547, 0.8534, 0.8387, 0.8364, 0.8361, 0.8353, 0.8073, 0.7987, 0.7915, 0.7513, 0.7233, 0.7136, 0.6907, 0.6584, 0.5937, 0.5659, 0.5555, 0.5542, 0.549, 0.4911, 0.5242, 0.4988, 0.3421, 0.2998, 0.4014, -0.1982, -0.0475, -0.2191, 0.2233, 1.2218, 1.1785, 1.0444, 1.0307, 0.9918, 0.9399, 0.9221, 0.8976, 0.8743, 0.8727, 0.8527, 0.8459, 0.8298, 0.8212, 0.8052, 0.7863, 0.7724, 0.7405, 0.7321, 0.6833, 0.682, 0.6716, 0.6689, 0.6612, 0.6509, 0.6313, 0.6262, 0.6246, 0.6221, 0.62, 0.6075, 0.5995, 0.5465, 0.4337, 0.5213, 0.2619, 0.3271, 0.0886, -0.1057, -0.2944, -0.079, 0.5178, 1.3947, 1.3288, 1.2614, 1.2264, 1.1701, 1.1554, 1.1449, 1.0901, 1.0736, 0.9873, 0.9718, 0.9439, 0.9338, 0.8667, 0.8, 0.7994, 0.7924, 0.7767, 0.7536, 0.7201, 0.7061, 0.655, 0.6508, 0.6344, 0.6196, 0.6118, 0.5998, 0.5832, 0.5817, 0.5772, 0.5644, 0.5476, 0.4143, 0.3849, 0.5119, 0.2708, -0.2893, -0.3242, -0.1353, -0.201]}, \"token.table\": {\"Topic\": [3, 4, 5, 1, 3, 4, 5, 1, 2, 2, 4, 5, 4, 2, 1, 2, 1, 5, 6, 1, 5, 3, 4, 3, 4, 4, 1, 3, 1, 5, 1, 2, 1, 2, 5, 1, 2, 4, 5, 1, 4, 1, 1, 4, 5, 1, 2, 4, 3, 5, 3, 5, 3, 6, 6, 1, 3, 4, 1, 3, 4, 2, 1, 4, 1, 2, 3, 2, 3, 1, 1, 2, 3, 4, 6, 1, 3, 4, 2, 3, 5, 6, 2, 5, 6, 3, 6, 1, 3, 1, 2, 3, 4, 4, 6, 6, 1, 6, 1, 2, 4, 6, 5, 2, 4, 1, 2, 6, 1, 5, 3, 6, 3, 5, 1, 4, 2, 1, 3, 5, 3, 5, 2, 1, 6, 1, 4, 2, 3, 5, 1, 3, 4, 5, 6, 2, 5, 6, 1, 5, 3, 1, 3, 1, 3, 1, 2, 3, 4, 6, 1, 2, 4, 6, 3, 6, 5, 6, 2, 6, 1, 3, 5, 1, 2, 6, 3, 6, 5, 2, 5, 2, 6, 1, 2, 3, 5, 4, 6, 2, 3, 6, 4, 1, 4, 5, 1, 2, 3, 4, 5, 6, 3, 2, 5, 2, 5, 2, 3, 4, 6, 3, 4, 5, 6, 3, 5, 6, 4, 5, 4, 2, 3, 6, 2, 5, 2, 1, 2, 5, 6, 4, 4, 4, 3, 1, 2, 3, 4, 5, 6, 2, 5, 1, 5, 1, 6, 4, 5, 2, 3, 5, 3, 5, 1, 2, 3, 4, 5, 6, 2, 4, 5, 1, 2, 3, 4, 6, 2, 4, 2, 2, 3, 1, 5, 2, 6, 2, 5, 1, 2, 5, 3, 4, 3, 1, 2, 5, 2, 6, 2, 3, 6, 2, 6, 3, 4, 6, 1, 3, 6, 3, 4, 4, 5, 6, 1, 2, 4, 2, 3, 5, 6, 3, 4, 2, 1, 4, 2, 3, 4, 5, 6, 1, 2, 3, 5, 1, 4, 1, 2, 5, 1, 2, 3, 1, 3, 4, 1, 4, 5, 1, 3, 4, 6, 1, 4, 3, 5, 6, 1, 2, 3, 4, 5, 1, 2, 3, 4, 5, 6, 2, 4, 5, 3, 6], \"Freq\": [0.3968875046631344, 0.3968875046631344, 0.3968875046631344, 0.3734400795537841, 0.3734400795537841, 0.3734400795537841, 0.43426244815008413, 0.46550501809857986, 0.46550501809857986, 0.3465846840327078, 0.3465846840327078, 0.3465846840327078, 0.4228532783752902, 0.5449463899002951, 0.3612976705843886, 0.3612976705843886, 0.37715914884863183, 0.37715914884863183, 0.45666203383925, 0.4697970248425749, 0.4697970248425749, 0.427822080894166, 0.427822080894166, 0.3765170381199462, 0.3765170381199462, 0.4816230560766735, 0.39235481792203036, 0.39235481792203036, 0.423360390542851, 0.423360390542851, 0.3621187155295128, 0.3621187155295128, 0.31683749171874803, 0.31683749171874803, 0.31683749171874803, 0.3215686183354727, 0.3215686183354727, 0.3215686183354727, 0.3215686183354727, 0.4247488921866515, 0.4247488921866515, 0.5309523220087585, 0.3209176839064922, 0.3209176839064922, 0.3209176839064922, 0.40772972752731473, 0.40772972752731473, 0.40772972752731473, 0.3554158163574666, 0.3554158163574666, 0.4126289405777117, 0.4126289405777117, 0.28211634579426154, 0.28211634579426154, 0.5303408916427146, 0.4332736484481835, 0.4784873035600101, 0.4784873035600101, 0.36775538825023935, 0.36775538825023935, 0.36775538825023935, 0.5437757182524117, 0.31332123050987104, 0.31332123050987104, 0.44129882705568896, 0.4284937132566135, 0.4284937132566135, 0.43154477255358953, 0.43154477255358953, 0.48451495506409725, 0.2563343088245786, 0.2563343088245786, 0.2563343088245786, 0.2563343088245786, 0.2563343088245786, 0.3766911977577715, 0.3766911977577715, 0.5286494807128345, 0.27061387477117976, 0.27061387477117976, 0.27061387477117976, 0.27061387477117976, 0.39312746563132306, 0.39312746563132306, 0.39312746563132306, 0.49757808660569874, 0.767992998611004, 0.4931006777728796, 0.4931006777728796, 0.38998156280511526, 0.19499078140255763, 0.19499078140255763, 0.19499078140255763, 0.49804191907585216, 0.49804191907585216, 0.5190257557509224, 0.4876434041795017, 0.4876434041795017, 0.20843411260332875, 0.4168682252066575, 0.20843411260332875, 0.20843411260332875, 0.45327333152481125, 0.5528135984138156, 0.5528135984138156, 0.33723377180215885, 0.33723377180215885, 0.33723377180215885, 0.38515492012267644, 0.38515492012267644, 0.3353159996096864, 0.3353159996096864, 0.49959505305708934, 0.49959505305708934, 0.339252175683979, 0.339252175683979, 0.49705238165430266, 0.35472557472564376, 0.35472557472564376, 0.35472557472564376, 0.5136193367705021, 0.5136193367705021, 0.4922051395411091, 0.33235813962246874, 0.33235813962246874, 0.4860081607508923, 0.4860081607508923, 0.48064869436032415, 0.31389902879274645, 0.31389902879274645, 0.40079463174379093, 0.40079463174379093, 0.40079463174379093, 0.41784197922574023, 0.41784197922574023, 0.23000195025531053, 0.23000195025531053, 0.46000390051062107, 0.42905622152981737, 0.42905622152981737, 0.5263102497915843, 0.3232415939877132, 0.3232415939877132, 0.42009223003467144, 0.42009223003467144, 0.21900842561266876, 0.21900842561266876, 0.21900842561266876, 0.21900842561266876, 0.21900842561266876, 0.22893001083808856, 0.22893001083808856, 0.22893001083808856, 0.4578600216761771, 0.4105218494617495, 0.4105218494617495, 0.3958301506504353, 0.3958301506504353, 0.34028772530639034, 0.6805754506127807, 0.42249473537297844, 0.42249473537297844, 0.555292429781781, 0.35418922547222753, 0.35418922547222753, 0.35418922547222753, 0.3825608153980539, 0.3825608153980539, 0.4857389464230195, 0.3690784372219713, 0.3690784372219713, 0.37363773827812424, 0.37363773827812424, 0.24975628850838238, 0.24975628850838238, 0.24975628850838238, 0.24975628850838238, 0.4600779782446442, 0.4600779782446442, 0.573856258985926, 0.286928129492963, 0.286928129492963, 0.4491973599310318, 0.29856935290823383, 0.5971387058164677, 0.4723150873160258, 0.14267871980959512, 0.28535743961919025, 0.14267871980959512, 0.14267871980959512, 0.14267871980959512, 0.14267871980959512, 0.5044044426373641, 0.3639201286170233, 0.3639201286170233, 0.400851986377583, 0.523776921079842, 0.2303381732124281, 0.2303381732124281, 0.2303381732124281, 0.2303381732124281, 0.28664639082516025, 0.28664639082516025, 0.28664639082516025, 0.28664639082516025, 0.35719521442014385, 0.35719521442014385, 0.35719521442014385, 0.4735734922198808, 0.4735734922198808, 0.42202001193697614, 0.30429438927007774, 0.30429438927007774, 0.30429438927007774, 0.48822365011126123, 0.48822365011126123, 0.49313400801727003, 0.24524478385887355, 0.24524478385887355, 0.24524478385887355, 0.24524478385887355, 0.4198395074598061, 0.4897456689091567, 0.42237646244097105, 0.3998746643297988, 0.18432592656342828, 0.18432592656342828, 0.18432592656342828, 0.18432592656342828, 0.18432592656342828, 0.18432592656342828, 0.5122865992272274, 0.4222606343551651, 0.4354716100769521, 0.4354716100769521, 0.46424745081863444, 0.46424745081863444, 0.43777960542090755, 0.43777960542090755, 0.3834282142933349, 0.3834282142933349, 0.5160085151361445, 0.5574654480556522, 0.543183164910952, 0.2846642959109378, 0.1423321479554689, 0.1423321479554689, 0.1423321479554689, 0.1423321479554689, 0.1423321479554689, 0.22607120122042873, 0.22607120122042873, 0.45214240244085746, 0.21241069643745297, 0.21241069643745297, 0.21241069643745297, 0.21241069643745297, 0.21241069643745297, 0.3882757567354218, 0.3882757567354218, 0.4234180563801238, 0.5490125201456345, 0.5490125201456345, 0.48334663559575364, 0.5014846662455882, 0.3756243859100615, 0.4393506236397823, 0.45400744472450855, 0.45400744472450855, 0.5045827140220356, 0.2522913570110178, 0.2522913570110178, 0.3622070383804364, 0.3622070383804364, 0.44381814915735535, 0.5066257955184663, 0.25331289775923316, 0.25331289775923316, 0.5464352891209878, 0.5464352891209878, 0.32768546054771513, 0.32768546054771513, 0.32768546054771513, 0.4316352777752821, 0.4316352777752821, 0.378523561336322, 0.378523561336322, 0.7309083322123827, 0.5142101632042488, 0.43152038816279203, 0.4875611875803848, 0.36027351896506504, 0.36027351896506504, 0.4105890574245578, 0.4105890574245578, 0.486180860634452, 0.5382178118638281, 0.26910890593191406, 0.26910890593191406, 0.19694455610624606, 0.19694455610624606, 0.19694455610624606, 0.19694455610624606, 0.48213615116101954, 0.48213615116101954, 0.38225769371410384, 0.2732881207797364, 0.2732881207797364, 0.22693804230998238, 0.22693804230998238, 0.22693804230998238, 0.22693804230998238, 0.22693804230998238, 0.26799013032932384, 0.26799013032932384, 0.26799013032932384, 0.26799013032932384, 0.4013337040195085, 0.4013337040195085, 0.3511304876206535, 0.3511304876206535, 0.3511304876206535, 0.4938699337477159, 0.38679639664571014, 0.38679639664571014, 0.37345329004251726, 0.37345329004251726, 0.37345329004251726, 0.402826158987689, 0.402826158987689, 0.402826158987689, 0.2710498698153271, 0.2710498698153271, 0.2710498698153271, 0.2710498698153271, 0.4168596165971839, 0.4168596165971839, 0.48934924920114936, 0.3432356364801131, 0.3432356364801131, 0.22551264252541106, 0.22551264252541106, 0.22551264252541106, 0.22551264252541106, 0.22551264252541106, 0.17425251675534886, 0.3485050335106977, 0.17425251675534886, 0.17425251675534886, 0.17425251675534886, 0.17425251675534886, 0.3078322617646927, 0.3078322617646927, 0.3078322617646927, 0.3494363319888292, 0.6988726639776583], \"Term\": [\"america\", \"america\", \"america\", \"american\", \"american\", \"american\", \"appear\", \"arrest\", \"arrest\", \"attack\", \"attack\", \"attack\", \"back\", \"bank\", \"billion\", \"billion\", \"border\", \"border\", \"bring\", \"build\", \"build\", \"busi\", \"busi\", \"call\", \"call\", \"candid\", \"chang\", \"chang\", \"charg\", \"charg\", \"china\", \"china\", \"citi\", \"citi\", \"citi\", \"close\", \"close\", \"close\", \"close\", \"coach\", \"coach\", \"congress\", \"could\", \"could\", \"could\", \"countri\", \"countri\", \"countri\", \"court\", \"court\", \"cup\", \"cup\", \"day\", \"day\", \"decis\", \"defend\", \"defens\", \"defens\", \"democrat\", \"democrat\", \"democrat\", \"dollar\", \"donald\", \"donald\", \"elect\", \"execut\", \"execut\", \"expect\", \"expect\", \"face\", \"feder\", \"feder\", \"feder\", \"feder\", \"feder\", \"final\", \"final\", \"find\", \"first\", \"first\", \"first\", \"first\", \"follow\", \"follow\", \"follow\", \"forc\", \"former\", \"forward\", \"forward\", \"friday\", \"friday\", \"friday\", \"friday\", \"full\", \"full\", \"fund\", \"game\", \"game\", \"govern\", \"govern\", \"govern\", \"govern\", \"group\", \"handl\", \"handl\", \"head\", \"head\", \"head\", \"health\", \"health\", \"help\", \"help\", \"host\", \"host\", \"hous\", \"hous\", \"hundr\", \"includ\", \"includ\", \"includ\", \"india\", \"india\", \"intern\", \"investig\", \"investig\", \"job\", \"job\", \"key\", \"kill\", \"kill\", \"know\", \"know\", \"know\", \"last\", \"last\", \"latest\", \"latest\", \"latest\", \"lawyer\", \"lawyer\", \"lead\", \"leagu\", \"leagu\", \"leav\", \"leav\", \"like\", \"like\", \"like\", \"like\", \"like\", \"local\", \"local\", \"local\", \"local\", \"look\", \"look\", \"made\", \"made\", \"make\", \"make\", \"man\", \"man\", \"march\", \"market\", \"market\", \"market\", \"meet\", \"meet\", \"men\", \"million\", \"million\", \"minist\", \"minist\", \"monday\", \"monday\", \"monday\", \"monday\", \"month\", \"month\", \"move\", \"move\", \"move\", \"much\", \"nation\", \"nation\", \"need\", \"new\", \"new\", \"new\", \"new\", \"new\", \"new\", \"next\", \"night\", \"night\", \"north\", \"offic\", \"offici\", \"offici\", \"offici\", \"offici\", \"one\", \"one\", \"one\", \"one\", \"open\", \"open\", \"open\", \"parti\", \"parti\", \"partial\", \"peopl\", \"peopl\", \"peopl\", \"play\", \"play\", \"point\", \"polic\", \"polic\", \"polic\", \"polic\", \"polit\", \"port\", \"power\", \"premier\", \"presid\", \"presid\", \"presid\", \"presid\", \"presid\", \"presid\", \"price\", \"protest\", \"provid\", \"provid\", \"race\", \"race\", \"rais\", \"rais\", \"report\", \"report\", \"republican\", \"round\", \"rule\", \"said\", \"said\", \"said\", \"said\", \"said\", \"said\", \"saturday\", \"saturday\", \"saturday\", \"say\", \"say\", \"say\", \"say\", \"say\", \"school\", \"school\", \"score\", \"search\", \"search\", \"secur\", \"senat\", \"set\", \"sever\", \"shoot\", \"shoot\", \"show\", \"show\", \"show\", \"shutdown\", \"shutdown\", \"south\", \"state\", \"state\", \"state\", \"stock\", \"stock\", \"sunday\", \"sunday\", \"sunday\", \"support\", \"support\", \"suspect\", \"suspect\", \"talk\", \"target\", \"team\", \"tenni\", \"test\", \"test\", \"thousand\", \"thousand\", \"three\", \"thursday\", \"thursday\", \"thursday\", \"time\", \"time\", \"time\", \"time\", \"top\", \"top\", \"trade\", \"trump\", \"trump\", \"tuesday\", \"tuesday\", \"tuesday\", \"tuesday\", \"tuesday\", \"two\", \"two\", \"two\", \"two\", \"unit\", \"unit\", \"use\", \"use\", \"use\", \"wall\", \"want\", \"want\", \"warn\", \"warn\", \"warn\", \"way\", \"way\", \"way\", \"week\", \"week\", \"week\", \"week\", \"weekend\", \"weekend\", \"win\", \"work\", \"work\", \"world\", \"world\", \"world\", \"world\", \"world\", \"year\", \"year\", \"year\", \"year\", \"year\", \"year\", \"york\", \"york\", \"york\", \"young\", \"young\"]}, \"R\": 30, \"lambda.step\": 0.01, \"plot.opts\": {\"xlab\": \"PC1\", \"ylab\": \"PC2\"}, \"topic.order\": [2, 6, 3, 1, 5, 4]};\n",
       "\n",
       "function LDAvis_load_lib(url, callback){\n",
       "  var s = document.createElement('script');\n",
       "  s.src = url;\n",
       "  s.async = true;\n",
       "  s.onreadystatechange = s.onload = callback;\n",
       "  s.onerror = function(){console.warn(\"failed to load library \" + url);};\n",
       "  document.getElementsByTagName(\"head\")[0].appendChild(s);\n",
       "}\n",
       "\n",
       "if(typeof(LDAvis) !== \"undefined\"){\n",
       "   // already loaded: just create the visualization\n",
       "   !function(LDAvis){\n",
       "       new LDAvis(\"#\" + \"ldavis_el896591405847062967366292025055\", ldavis_el896591405847062967366292025055_data);\n",
       "   }(LDAvis);\n",
       "}else if(typeof define === \"function\" && define.amd){\n",
       "   // require.js is available: use it to load d3/LDAvis\n",
       "   require.config({paths: {d3: \"https://d3js.org/d3.v5\"}});\n",
       "   require([\"d3\"], function(d3){\n",
       "      window.d3 = d3;\n",
       "      LDAvis_load_lib(\"https://cdn.jsdelivr.net/gh/bmabey/pyLDAvis@3.4.0/pyLDAvis/js/ldavis.v3.0.0.js\", function(){\n",
       "        new LDAvis(\"#\" + \"ldavis_el896591405847062967366292025055\", ldavis_el896591405847062967366292025055_data);\n",
       "      });\n",
       "    });\n",
       "}else{\n",
       "    // require.js not available: dynamically load d3 & LDAvis\n",
       "    LDAvis_load_lib(\"https://d3js.org/d3.v5.js\", function(){\n",
       "         LDAvis_load_lib(\"https://cdn.jsdelivr.net/gh/bmabey/pyLDAvis@3.4.0/pyLDAvis/js/ldavis.v3.0.0.js\", function(){\n",
       "                 new LDAvis(\"#\" + \"ldavis_el896591405847062967366292025055\", ldavis_el896591405847062967366292025055_data);\n",
       "            })\n",
       "         });\n",
       "}\n",
       "</script>"
      ],
      "text/plain": [
       "<IPython.core.display.HTML object>"
      ]
     },
     "execution_count": 40,
     "metadata": {},
     "output_type": "execute_result"
    }
   ],
   "source": [
    "# =================================================-\n",
    "#### Slide 5/29: Visualize topics generated with LDA  ####\n",
    "\n",
    "# Prepare LDA vis object by providing:\n",
    "vis = pyLDAvis.gensim.prepare(chosen, corpus_tfidf, dictionary)\n",
    "# The function takes `vis` object that we prepared above as the main argument.\n",
    "pyLDAvis.display(vis)"
   ]
  },
  {
   "cell_type": "code",
   "execution_count": 41,
   "id": "db0a53a0",
   "metadata": {},
   "outputs": [
    {
     "name": "stdout",
     "output_type": "stream",
     "text": [
      "[(0, 0.31942373876087665), (1, 0.3549009519669791), (2, 0.6118718565633235), (3, 0.3549009519669791), (4, 0.3059359282816618), (5, 0.22829905152454918), (6, 0.3549009519669791)]\n",
      "[(0, 0.047575418), (1, 0.047402967), (2, 0.76214266), (3, 0.04768529), (4, 0.047728837), (5, 0.04746487)]\n"
     ]
    }
   ],
   "source": [
    "# =================================================-\n",
    "#### Slide 16/29: Get topic probabilities for a document  ####\n",
    "\n",
    "# Select the index of the document in corpus.\n",
    "doc_num = 0\n",
    "# Extract the vector of tf_idf weights for the document.\n",
    "doc_vec = corpus_tfidf[doc_num]\n",
    "print(doc_vec)\n",
    "# Extract topic probabilities for that document.\n",
    "doc_topics = chosen.get_document_topics(doc_vec)\n",
    "print(doc_topics)\n",
    "topic, prob = sorted(doc_topics, key=lambda x: x[1], reverse=True)[0]"
   ]
  },
  {
   "cell_type": "code",
   "execution_count": 42,
   "id": "e2aa171d-9133-493e-9e52-7f925ad3bd6e",
   "metadata": {},
   "outputs": [
    {
     "data": {
      "text/plain": [
       "(2, 0.76214266)"
      ]
     },
     "execution_count": 42,
     "metadata": {},
     "output_type": "execute_result"
    }
   ],
   "source": [
    "max(doc_topics, key=lambda x: x[1])"
   ]
  },
  {
   "cell_type": "code",
   "execution_count": 43,
   "id": "7c0a9569-f2e9-4bf4-b610-0fa6fe4036a9",
   "metadata": {},
   "outputs": [],
   "source": [
    "prob_df = pd.DataFrame([max(\n",
    "    chosen.get_document_topics(t),\n",
    "    key=lambda x: x[1],\n",
    ") for t in corpus_tfidf], columns=[\"topic\", \"prob\"])"
   ]
  },
  {
   "cell_type": "code",
   "execution_count": 44,
   "id": "ea6bb4b4",
   "metadata": {},
   "outputs": [],
   "source": [
    "# =================================================-\n",
    "#### Slide 17/29: Get topic probabilities for a document (cont'd)  ####\n",
    "\n",
    "# # Initialize maximum probability score.\n",
    "# max_prob = 0\n",
    "# # Initialize best topic.\n",
    "# best_topic = 0\n",
    "\n",
    "# # Loop over all topics for the document.\n",
    "# for topic in doc_topics:\n",
    "\n",
    "#     if max_prob <= topic[1]:  # <- if current topic's probability is as high as max\n",
    "#         max_prob = topic[1]  # <- make current topic's probability the new max\n",
    "#         best_topic = topic[0]  # <- make current topic best\n",
    "\n",
    "# # Create a tuple with information we just got.\n",
    "# doc_topic_pair = (doc_num, best_topic, max_prob)\n",
    "# print(doc_topic_pair)"
   ]
  },
  {
   "cell_type": "code",
   "execution_count": 45,
   "id": "d790550b",
   "metadata": {},
   "outputs": [],
   "source": [
    "# =================================================-\n",
    "#### Slide 18/29: Get topic probabilities for a document (cont'd)  ####\n",
    "\n",
    "\n",
    "# Put it all together into a function that returns a tuple\n",
    "# with the index of the document, the best fit topic, and its probability.\n",
    "# def GetDocTopicPair(doc_num, corpus, lda_model_tfidf):\n",
    "#     # Extract the vector of tf_idf weights for the document.\n",
    "#     doc_vec = corpus[doc_num]\n",
    "#     # Extract topic probabilities for that document.\n",
    "#     doc_topics = lda_model_tfidf.get_document_topics(doc_vec)\n",
    "#     max_prob = 0\n",
    "#     best_topic = 0\n",
    "#     for topic in doc_topics:\n",
    "#         if max_prob <= topic[1]:\n",
    "#             max_prob = topic[1]\n",
    "#             best_topic = topic[0]\n",
    "#     doc_topic_pair = (doc_num, best_topic, max_prob)\n",
    "#     return doc_topic_pair"
   ]
  },
  {
   "cell_type": "code",
   "execution_count": 46,
   "id": "0fbff4f4",
   "metadata": {},
   "outputs": [],
   "source": [
    "# =================================================-\n",
    "#### Slide 19/29: Get topic probabilities for all documents  ####\n",
    "\n",
    "# Create an empty list of the same length as the number of documents.\n",
    "# doc_topic_pairs = [None] * dictionary.num_docs\n",
    "\n",
    "# # Loop through a range of document indices.\n",
    "# for i in range(dictionary.num_docs):\n",
    "#     # For each document index, get the document-topic tuple.\n",
    "#     doc_topic_pairs[i] = GetDocTopicPair(i, corpus_tfidf, lda_model_tfidf)\n",
    "\n",
    "# print(doc_topic_pairs[:10])"
   ]
  },
  {
   "cell_type": "code",
   "execution_count": 47,
   "id": "c379eff3",
   "metadata": {},
   "outputs": [],
   "source": [
    "# =================================================-\n",
    "#### Slide 20/29: Create a data frame with doc-topic assignments  ####\n",
    "\n",
    "# Make a dataframe out of a list of tuples.\n",
    "# doc_topic_pairs_df = pd.DataFrame(doc_topic_pairs)\n",
    "\n",
    "# # Assign column names to the dataframe.\n",
    "# doc_topic_pairs_df.columns = [\"doc_id\", \"best_topic\", \"best_probability\"]\n",
    "# print(doc_topic_pairs_df.head())"
   ]
  },
  {
   "cell_type": "code",
   "execution_count": 48,
   "id": "013b248e-6866-44c9-ad3c-f0ce40e7882a",
   "metadata": {},
   "outputs": [
    {
     "data": {
      "text/plain": [
       "(231, 2)"
      ]
     },
     "execution_count": 48,
     "metadata": {},
     "output_type": "execute_result"
    }
   ],
   "source": [
    "prob_df.shape"
   ]
  },
  {
   "cell_type": "code",
   "execution_count": 49,
   "id": "dd895d7f",
   "metadata": {},
   "outputs": [],
   "source": [
    "# =================================================-\n",
    "#### Slide 21/29: Matching document ids to original data  ####\n",
    "\n",
    "# Find indices of documents that we kept.\n",
    "\n",
    "# Not necessary; already been done earlier"
   ]
  },
  {
   "cell_type": "code",
   "execution_count": 50,
   "id": "9e17af51-442e-46c3-85b2-82ab188361b2",
   "metadata": {},
   "outputs": [],
   "source": [
    "top_docs = [prob_df.query(f\"topic=={i}\").sort_values(by=\"prob\", ascending=False).head(10) for i in range(6)]"
   ]
  },
  {
   "cell_type": "code",
   "execution_count": 51,
   "id": "49d4dd00-f024-429c-9b36-a689c5f7392d",
   "metadata": {},
   "outputs": [
    {
     "data": {
      "text/plain": [
       "Index([123, 218, 122, 79, 54, 164, 167, 201, 96, 142], dtype='int64')"
      ]
     },
     "execution_count": 51,
     "metadata": {},
     "output_type": "execute_result"
    }
   ],
   "source": [
    "top_docs[1].index"
   ]
  },
  {
   "cell_type": "code",
   "execution_count": 52,
   "id": "4e63a820-2fc6-4270-b02d-fd608af24a02",
   "metadata": {},
   "outputs": [
    {
     "data": {
      "text/html": [
       "<div>\n",
       "<style scoped>\n",
       "    .dataframe tbody tr th:only-of-type {\n",
       "        vertical-align: middle;\n",
       "    }\n",
       "\n",
       "    .dataframe tbody tr th {\n",
       "        vertical-align: top;\n",
       "    }\n",
       "\n",
       "    .dataframe thead th {\n",
       "        text-align: right;\n",
       "    }\n",
       "</style>\n",
       "<table border=\"1\" class=\"dataframe\">\n",
       "  <thead>\n",
       "    <tr style=\"text-align: right;\">\n",
       "      <th></th>\n",
       "      <th>headline</th>\n",
       "      <th>snippet</th>\n",
       "    </tr>\n",
       "  </thead>\n",
       "  <tbody>\n",
       "    <tr>\n",
       "      <th>160</th>\n",
       "      <td>South Korean 'Forced Labor' Plaintiffs Seek Ni...</td>\n",
       "      <td>South Korean plaintiffs in a World War Two for...</td>\n",
       "    </tr>\n",
       "    <tr>\n",
       "      <th>64</th>\n",
       "      <td>Trump Cancels Planned Davos Trip as Shutdown D...</td>\n",
       "      <td>U.S. President Donald Trump on Thursday cancel...</td>\n",
       "    </tr>\n",
       "    <tr>\n",
       "      <th>197</th>\n",
       "      <td>Man Arrested After Abuse of British Pro-EU Law...</td>\n",
       "      <td>A man was arrested on Saturday after a video o...</td>\n",
       "    </tr>\n",
       "    <tr>\n",
       "      <th>61</th>\n",
       "      <td>Somalia and Ousted UN Envoy Face Off at Securi...</td>\n",
       "      <td>A United Nations envoy who was recently ordere...</td>\n",
       "    </tr>\n",
       "    <tr>\n",
       "      <th>67</th>\n",
       "      <td>U.S. Government Shutdown May Depress January J...</td>\n",
       "      <td>A partial shutdown of the U.S. government coul...</td>\n",
       "    </tr>\n",
       "    <tr>\n",
       "      <th>219</th>\n",
       "      <td>Washington’s New Power Structure</td>\n",
       "      <td>Only Senate Republicans can make government work.</td>\n",
       "    </tr>\n",
       "    <tr>\n",
       "      <th>162</th>\n",
       "      <td>Congress Leaders Invited to White House for Bo...</td>\n",
       "      <td>President Donald Trump on Tuesday invited cong...</td>\n",
       "    </tr>\n",
       "    <tr>\n",
       "      <th>132</th>\n",
       "      <td>Aiming at Trump, Democrats Lay Out Agenda for ...</td>\n",
       "      <td>House Democrats detailed an ambitious bill — i...</td>\n",
       "    </tr>\n",
       "    <tr>\n",
       "      <th>140</th>\n",
       "      <td>Pakistan's Ex-Prime Minister Appeals Sentence ...</td>\n",
       "      <td>Pakistan's former Prime Minister Nawaz Sharif ...</td>\n",
       "    </tr>\n",
       "    <tr>\n",
       "      <th>63</th>\n",
       "      <td>Air Traffic Controllers' Union Sues Over Unpai...</td>\n",
       "      <td>A union that represents thousands of U.S. air ...</td>\n",
       "    </tr>\n",
       "  </tbody>\n",
       "</table>\n",
       "</div>"
      ],
      "text/plain": [
       "                                              headline  \\\n",
       "160  South Korean 'Forced Labor' Plaintiffs Seek Ni...   \n",
       "64   Trump Cancels Planned Davos Trip as Shutdown D...   \n",
       "197  Man Arrested After Abuse of British Pro-EU Law...   \n",
       "61   Somalia and Ousted UN Envoy Face Off at Securi...   \n",
       "67   U.S. Government Shutdown May Depress January J...   \n",
       "219                   Washington’s New Power Structure   \n",
       "162  Congress Leaders Invited to White House for Bo...   \n",
       "132  Aiming at Trump, Democrats Lay Out Agenda for ...   \n",
       "140  Pakistan's Ex-Prime Minister Appeals Sentence ...   \n",
       "63   Air Traffic Controllers' Union Sues Over Unpai...   \n",
       "\n",
       "                                               snippet  \n",
       "160  South Korean plaintiffs in a World War Two for...  \n",
       "64   U.S. President Donald Trump on Thursday cancel...  \n",
       "197  A man was arrested on Saturday after a video o...  \n",
       "61   A United Nations envoy who was recently ordere...  \n",
       "67   A partial shutdown of the U.S. government coul...  \n",
       "219  Only Senate Republicans can make government work.  \n",
       "162  President Donald Trump on Tuesday invited cong...  \n",
       "132  House Democrats detailed an ambitious bill — i...  \n",
       "140  Pakistan's former Prime Minister Nawaz Sharif ...  \n",
       "63   A union that represents thousands of U.S. air ...  "
      ]
     },
     "execution_count": 52,
     "metadata": {},
     "output_type": "execute_result"
    }
   ],
   "source": [
    "df.loc[top_docs[0].index, [\"headline\", \"snippet\"]]"
   ]
  },
  {
   "cell_type": "code",
   "execution_count": 53,
   "id": "3ae21e37-51b6-47e7-b29f-8e7c1a0ffe02",
   "metadata": {},
   "outputs": [
    {
     "data": {
      "text/html": [
       "<div>\n",
       "<style scoped>\n",
       "    .dataframe tbody tr th:only-of-type {\n",
       "        vertical-align: middle;\n",
       "    }\n",
       "\n",
       "    .dataframe tbody tr th {\n",
       "        vertical-align: top;\n",
       "    }\n",
       "\n",
       "    .dataframe thead th {\n",
       "        text-align: right;\n",
       "    }\n",
       "</style>\n",
       "<table border=\"1\" class=\"dataframe\">\n",
       "  <thead>\n",
       "    <tr style=\"text-align: right;\">\n",
       "      <th></th>\n",
       "      <th>headline</th>\n",
       "      <th>snippet</th>\n",
       "    </tr>\n",
       "  </thead>\n",
       "  <tbody>\n",
       "    <tr>\n",
       "      <th>123</th>\n",
       "      <td>GOP Candidate: Board Change Limits Chance of N...</td>\n",
       "      <td>The Republican in the nation's last undecided ...</td>\n",
       "    </tr>\n",
       "    <tr>\n",
       "      <th>218</th>\n",
       "      <td>It’s 2019. Want Some Self-Improvement? Invest ...</td>\n",
       "      <td>In a world where things often feel static, the...</td>\n",
       "    </tr>\n",
       "    <tr>\n",
       "      <th>122</th>\n",
       "      <td>Sydney Set to Host Finals in Inaugural ATP Cup...</td>\n",
       "      <td>Sydney is set to host the finals of the inaugu...</td>\n",
       "    </tr>\n",
       "    <tr>\n",
       "      <th>79</th>\n",
       "      <td>Huawei Canada Exec Leaves Post as Scrutiny of ...</td>\n",
       "      <td>One of Huawei Canada's top executives on Frida...</td>\n",
       "    </tr>\n",
       "    <tr>\n",
       "      <th>54</th>\n",
       "      <td>U.S. Issues China Travel Advisory Amid Increas...</td>\n",
       "      <td>The U.S. State Department on Thursday renewed ...</td>\n",
       "    </tr>\n",
       "    <tr>\n",
       "      <th>164</th>\n",
       "      <td>Britain Testing 'No-Deal' Scenario as Brexit V...</td>\n",
       "      <td>Britain is testing how its motorway and ferry ...</td>\n",
       "    </tr>\n",
       "    <tr>\n",
       "      <th>167</th>\n",
       "      <td>U.S. Judge: Defense Lawyer's Conduct in Russia...</td>\n",
       "      <td>A U.S. judge said on Monday that a lawyer defe...</td>\n",
       "    </tr>\n",
       "    <tr>\n",
       "      <th>201</th>\n",
       "      <td>Anti-Govt Protests for 6th Week Against Serbia...</td>\n",
       "      <td>Several thousand people have turned out in Bel...</td>\n",
       "    </tr>\n",
       "    <tr>\n",
       "      <th>96</th>\n",
       "      <td>Speaker Again, Pelosi Sees 'New Dawn' for 116t...</td>\n",
       "      <td>Cheering Democrats returned Nancy Pelosi to th...</td>\n",
       "    </tr>\n",
       "    <tr>\n",
       "      <th>142</th>\n",
       "      <td>Thousands March in Hong Kong Against China 'Re...</td>\n",
       "      <td>Thousands of demonstrators marched in Hong Kon...</td>\n",
       "    </tr>\n",
       "  </tbody>\n",
       "</table>\n",
       "</div>"
      ],
      "text/plain": [
       "                                              headline  \\\n",
       "123  GOP Candidate: Board Change Limits Chance of N...   \n",
       "218  It’s 2019. Want Some Self-Improvement? Invest ...   \n",
       "122  Sydney Set to Host Finals in Inaugural ATP Cup...   \n",
       "79   Huawei Canada Exec Leaves Post as Scrutiny of ...   \n",
       "54   U.S. Issues China Travel Advisory Amid Increas...   \n",
       "164  Britain Testing 'No-Deal' Scenario as Brexit V...   \n",
       "167  U.S. Judge: Defense Lawyer's Conduct in Russia...   \n",
       "201  Anti-Govt Protests for 6th Week Against Serbia...   \n",
       "96   Speaker Again, Pelosi Sees 'New Dawn' for 116t...   \n",
       "142  Thousands March in Hong Kong Against China 'Re...   \n",
       "\n",
       "                                               snippet  \n",
       "123  The Republican in the nation's last undecided ...  \n",
       "218  In a world where things often feel static, the...  \n",
       "122  Sydney is set to host the finals of the inaugu...  \n",
       "79   One of Huawei Canada's top executives on Frida...  \n",
       "54   The U.S. State Department on Thursday renewed ...  \n",
       "164  Britain is testing how its motorway and ferry ...  \n",
       "167  A U.S. judge said on Monday that a lawyer defe...  \n",
       "201  Several thousand people have turned out in Bel...  \n",
       "96   Cheering Democrats returned Nancy Pelosi to th...  \n",
       "142  Thousands of demonstrators marched in Hong Kon...  "
      ]
     },
     "execution_count": 53,
     "metadata": {},
     "output_type": "execute_result"
    }
   ],
   "source": [
    "df.loc[top_docs[1].index, [\"headline\", \"snippet\"]]"
   ]
  },
  {
   "cell_type": "code",
   "execution_count": 54,
   "id": "32623ad2-b732-4610-be09-f8efd6101232",
   "metadata": {},
   "outputs": [
    {
     "data": {
      "text/html": [
       "<div>\n",
       "<style scoped>\n",
       "    .dataframe tbody tr th:only-of-type {\n",
       "        vertical-align: middle;\n",
       "    }\n",
       "\n",
       "    .dataframe tbody tr th {\n",
       "        vertical-align: top;\n",
       "    }\n",
       "\n",
       "    .dataframe thead th {\n",
       "        text-align: right;\n",
       "    }\n",
       "</style>\n",
       "<table border=\"1\" class=\"dataframe\">\n",
       "  <thead>\n",
       "    <tr style=\"text-align: right;\">\n",
       "      <th></th>\n",
       "      <th>headline</th>\n",
       "      <th>snippet</th>\n",
       "    </tr>\n",
       "  </thead>\n",
       "  <tbody>\n",
       "    <tr>\n",
       "      <th>76</th>\n",
       "      <td>Government Shutdown Won't Delay Nevada Plutoni...</td>\n",
       "      <td>A federal court hearing will go forward as sch...</td>\n",
       "    </tr>\n",
       "    <tr>\n",
       "      <th>172</th>\n",
       "      <td>Head of Brazil's Environmental Protection Agen...</td>\n",
       "      <td>The head of Brazil's environmental protection ...</td>\n",
       "    </tr>\n",
       "    <tr>\n",
       "      <th>171</th>\n",
       "      <td>What to Expect at Gavin Newsom’s Inauguration</td>\n",
       "      <td>Monday: A new governor takes the reins; what y...</td>\n",
       "    </tr>\n",
       "    <tr>\n",
       "      <th>121</th>\n",
       "      <td>Capitals Rally in Third to Edge Red Wings 3-2</td>\n",
       "      <td>On another fruitless night for their power pla...</td>\n",
       "    </tr>\n",
       "    <tr>\n",
       "      <th>189</th>\n",
       "      <td>Trump Has 'Made No Decision' Whether to Declar...</td>\n",
       "      <td>U.S. President Donald Trump has not made a dec...</td>\n",
       "    </tr>\n",
       "    <tr>\n",
       "      <th>80</th>\n",
       "      <td>TV Station Backs Off Accusation That CNN Playe...</td>\n",
       "      <td>An executive at a San Diego television station...</td>\n",
       "    </tr>\n",
       "    <tr>\n",
       "      <th>69</th>\n",
       "      <td>Avalanches, Accidents Bring Europe's Winter De...</td>\n",
       "      <td>Heavy snow paralyzed much of Europe for yet an...</td>\n",
       "    </tr>\n",
       "    <tr>\n",
       "      <th>62</th>\n",
       "      <td>Brazil's Bolsonaro Targets Minorities on 1st D...</td>\n",
       "      <td>Newly installed President Jair Bolsonaro targe...</td>\n",
       "    </tr>\n",
       "    <tr>\n",
       "      <th>58</th>\n",
       "      <td>Harrington to Be Named European Ryder Cup Captain</td>\n",
       "      <td>Padraig Harrington will be announced next week...</td>\n",
       "    </tr>\n",
       "    <tr>\n",
       "      <th>175</th>\n",
       "      <td>As Men’s Team Tennis Events Rise, the Coed Hop...</td>\n",
       "      <td>The future of the Hopman Cup, the only coed te...</td>\n",
       "    </tr>\n",
       "  </tbody>\n",
       "</table>\n",
       "</div>"
      ],
      "text/plain": [
       "                                              headline  \\\n",
       "76   Government Shutdown Won't Delay Nevada Plutoni...   \n",
       "172  Head of Brazil's Environmental Protection Agen...   \n",
       "171      What to Expect at Gavin Newsom’s Inauguration   \n",
       "121      Capitals Rally in Third to Edge Red Wings 3-2   \n",
       "189  Trump Has 'Made No Decision' Whether to Declar...   \n",
       "80   TV Station Backs Off Accusation That CNN Playe...   \n",
       "69   Avalanches, Accidents Bring Europe's Winter De...   \n",
       "62   Brazil's Bolsonaro Targets Minorities on 1st D...   \n",
       "58   Harrington to Be Named European Ryder Cup Captain   \n",
       "175  As Men’s Team Tennis Events Rise, the Coed Hop...   \n",
       "\n",
       "                                               snippet  \n",
       "76   A federal court hearing will go forward as sch...  \n",
       "172  The head of Brazil's environmental protection ...  \n",
       "171  Monday: A new governor takes the reins; what y...  \n",
       "121  On another fruitless night for their power pla...  \n",
       "189  U.S. President Donald Trump has not made a dec...  \n",
       "80   An executive at a San Diego television station...  \n",
       "69   Heavy snow paralyzed much of Europe for yet an...  \n",
       "62   Newly installed President Jair Bolsonaro targe...  \n",
       "58   Padraig Harrington will be announced next week...  \n",
       "175  The future of the Hopman Cup, the only coed te...  "
      ]
     },
     "execution_count": 54,
     "metadata": {},
     "output_type": "execute_result"
    }
   ],
   "source": [
    "df.loc[top_docs[2].index, [\"headline\", \"snippet\"]]"
   ]
  },
  {
   "cell_type": "code",
   "execution_count": 55,
   "id": "89206260-6c7b-4dce-8341-63f77ae54bc5",
   "metadata": {},
   "outputs": [
    {
     "data": {
      "text/html": [
       "<div>\n",
       "<style scoped>\n",
       "    .dataframe tbody tr th:only-of-type {\n",
       "        vertical-align: middle;\n",
       "    }\n",
       "\n",
       "    .dataframe tbody tr th {\n",
       "        vertical-align: top;\n",
       "    }\n",
       "\n",
       "    .dataframe thead th {\n",
       "        text-align: right;\n",
       "    }\n",
       "</style>\n",
       "<table border=\"1\" class=\"dataframe\">\n",
       "  <thead>\n",
       "    <tr style=\"text-align: right;\">\n",
       "      <th></th>\n",
       "      <th>headline</th>\n",
       "      <th>snippet</th>\n",
       "    </tr>\n",
       "  </thead>\n",
       "  <tbody>\n",
       "    <tr>\n",
       "      <th>110</th>\n",
       "      <td>EU Open but Wary on British Interest in Brexit...</td>\n",
       "      <td>The European Union is looking at how Brexit mi...</td>\n",
       "    </tr>\n",
       "    <tr>\n",
       "      <th>118</th>\n",
       "      <td>Pegi Young, 66, Musician Who Started a School ...</td>\n",
       "      <td>The mother of a child with cerebral palsy, she...</td>\n",
       "    </tr>\n",
       "    <tr>\n",
       "      <th>75</th>\n",
       "      <td>Fed Officials Feared Adverse Market Reaction i...</td>\n",
       "      <td>Federal Reserve officials were worried about a...</td>\n",
       "    </tr>\n",
       "    <tr>\n",
       "      <th>2</th>\n",
       "      <td>Former NFL Player Wiley Talks Playoffs on Podc...</td>\n",
       "      <td>Marcellus Wiley is still on the fence about le...</td>\n",
       "    </tr>\n",
       "    <tr>\n",
       "      <th>124</th>\n",
       "      <td>Trump Says He Could Use Emergency Powers to Bu...</td>\n",
       "      <td>President Donald Trump said on Friday he could...</td>\n",
       "    </tr>\n",
       "    <tr>\n",
       "      <th>59</th>\n",
       "      <td>Candidate in Undecided House Race Meets With I...</td>\n",
       "      <td>The Latest on a North Carolina congressional r...</td>\n",
       "    </tr>\n",
       "    <tr>\n",
       "      <th>104</th>\n",
       "      <td>Italy PM Surprised by EU Decision on Fincantieri</td>\n",
       "      <td>Italian Prime Minister Giuseppe Conte said on ...</td>\n",
       "    </tr>\n",
       "    <tr>\n",
       "      <th>207</th>\n",
       "      <td>Irving Scores 17 in Return as Celtics Top Slop...</td>\n",
       "      <td>The Boston Celtics shared the ball extremely w...</td>\n",
       "    </tr>\n",
       "    <tr>\n",
       "      <th>199</th>\n",
       "      <td>Democrat Julian Castro Launches 2020 U.S. Pres...</td>\n",
       "      <td>Texas Democrat Julian Castro, a former San Ant...</td>\n",
       "    </tr>\n",
       "    <tr>\n",
       "      <th>211</th>\n",
       "      <td>Fed Nominee Nellie Liang Withdraws From Consid...</td>\n",
       "      <td>The White House said Monday that Ms. Liang, an...</td>\n",
       "    </tr>\n",
       "  </tbody>\n",
       "</table>\n",
       "</div>"
      ],
      "text/plain": [
       "                                              headline  \\\n",
       "110  EU Open but Wary on British Interest in Brexit...   \n",
       "118  Pegi Young, 66, Musician Who Started a School ...   \n",
       "75   Fed Officials Feared Adverse Market Reaction i...   \n",
       "2    Former NFL Player Wiley Talks Playoffs on Podc...   \n",
       "124  Trump Says He Could Use Emergency Powers to Bu...   \n",
       "59   Candidate in Undecided House Race Meets With I...   \n",
       "104   Italy PM Surprised by EU Decision on Fincantieri   \n",
       "207  Irving Scores 17 in Return as Celtics Top Slop...   \n",
       "199  Democrat Julian Castro Launches 2020 U.S. Pres...   \n",
       "211  Fed Nominee Nellie Liang Withdraws From Consid...   \n",
       "\n",
       "                                               snippet  \n",
       "110  The European Union is looking at how Brexit mi...  \n",
       "118  The mother of a child with cerebral palsy, she...  \n",
       "75   Federal Reserve officials were worried about a...  \n",
       "2    Marcellus Wiley is still on the fence about le...  \n",
       "124  President Donald Trump said on Friday he could...  \n",
       "59   The Latest on a North Carolina congressional r...  \n",
       "104  Italian Prime Minister Giuseppe Conte said on ...  \n",
       "207  The Boston Celtics shared the ball extremely w...  \n",
       "199  Texas Democrat Julian Castro, a former San Ant...  \n",
       "211  The White House said Monday that Ms. Liang, an...  "
      ]
     },
     "execution_count": 55,
     "metadata": {},
     "output_type": "execute_result"
    }
   ],
   "source": [
    "df.loc[top_docs[3].index, [\"headline\", \"snippet\"]]"
   ]
  },
  {
   "cell_type": "code",
   "execution_count": 56,
   "id": "5b2056d5-3272-43cc-a78f-59130f295f22",
   "metadata": {},
   "outputs": [
    {
     "data": {
      "text/html": [
       "<div>\n",
       "<style scoped>\n",
       "    .dataframe tbody tr th:only-of-type {\n",
       "        vertical-align: middle;\n",
       "    }\n",
       "\n",
       "    .dataframe tbody tr th {\n",
       "        vertical-align: top;\n",
       "    }\n",
       "\n",
       "    .dataframe thead th {\n",
       "        text-align: right;\n",
       "    }\n",
       "</style>\n",
       "<table border=\"1\" class=\"dataframe\">\n",
       "  <thead>\n",
       "    <tr style=\"text-align: right;\">\n",
       "      <th></th>\n",
       "      <th>headline</th>\n",
       "      <th>snippet</th>\n",
       "    </tr>\n",
       "  </thead>\n",
       "  <tbody>\n",
       "    <tr>\n",
       "      <th>113</th>\n",
       "      <td>Mayor Says NYC Will Expand Health Coverage to ...</td>\n",
       "      <td>New York City will spend up to $100 million pe...</td>\n",
       "    </tr>\n",
       "    <tr>\n",
       "      <th>50</th>\n",
       "      <td>Thousands Rally in Belgrade Against Serbian Pr...</td>\n",
       "      <td>Thousands marched through Belgrade's frozen ci...</td>\n",
       "    </tr>\n",
       "    <tr>\n",
       "      <th>47</th>\n",
       "      <td>Thousands Rally Against Hungary's Overtime Wor...</td>\n",
       "      <td>Thousands marched through Budapest's city cent...</td>\n",
       "    </tr>\n",
       "    <tr>\n",
       "      <th>55</th>\n",
       "      <td>Hindu Hardliners Clash With Police Over Women ...</td>\n",
       "      <td>Hindu hardliners vandalized shops, shut busine...</td>\n",
       "    </tr>\n",
       "    <tr>\n",
       "      <th>194</th>\n",
       "      <td>Turkey's Military Reinforces on Border With Sy...</td>\n",
       "      <td>Turkish troops and tanks carried out military ...</td>\n",
       "    </tr>\n",
       "    <tr>\n",
       "      <th>155</th>\n",
       "      <td>Departure of Trump's GOP Critics in Senate Lea...</td>\n",
       "      <td>President Donald Trump's most prominent GOP cr...</td>\n",
       "    </tr>\n",
       "    <tr>\n",
       "      <th>196</th>\n",
       "      <td>South Africa's ANC Says Central Bank Should Br...</td>\n",
       "      <td>South Africa's ruling party said on Saturday t...</td>\n",
       "    </tr>\n",
       "    <tr>\n",
       "      <th>120</th>\n",
       "      <td>Gore, Graft and More of What We’ve Learned So ...</td>\n",
       "      <td>The trial of Joaquín Guzmán Loera, the Mexican...</td>\n",
       "    </tr>\n",
       "    <tr>\n",
       "      <th>174</th>\n",
       "      <td>India Force Rare Australia Follow-On in Sydney...</td>\n",
       "      <td>Australia were forced to follow-on on home soi...</td>\n",
       "    </tr>\n",
       "    <tr>\n",
       "      <th>9</th>\n",
       "      <td>Reaction to Andy Murray's Impending Retirement...</td>\n",
       "      <td>Following is reaction to Andy Murray's announc...</td>\n",
       "    </tr>\n",
       "  </tbody>\n",
       "</table>\n",
       "</div>"
      ],
      "text/plain": [
       "                                              headline  \\\n",
       "113  Mayor Says NYC Will Expand Health Coverage to ...   \n",
       "50   Thousands Rally in Belgrade Against Serbian Pr...   \n",
       "47   Thousands Rally Against Hungary's Overtime Wor...   \n",
       "55   Hindu Hardliners Clash With Police Over Women ...   \n",
       "194  Turkey's Military Reinforces on Border With Sy...   \n",
       "155  Departure of Trump's GOP Critics in Senate Lea...   \n",
       "196  South Africa's ANC Says Central Bank Should Br...   \n",
       "120  Gore, Graft and More of What We’ve Learned So ...   \n",
       "174  India Force Rare Australia Follow-On in Sydney...   \n",
       "9    Reaction to Andy Murray's Impending Retirement...   \n",
       "\n",
       "                                               snippet  \n",
       "113  New York City will spend up to $100 million pe...  \n",
       "50   Thousands marched through Belgrade's frozen ci...  \n",
       "47   Thousands marched through Budapest's city cent...  \n",
       "55   Hindu hardliners vandalized shops, shut busine...  \n",
       "194  Turkish troops and tanks carried out military ...  \n",
       "155  President Donald Trump's most prominent GOP cr...  \n",
       "196  South Africa's ruling party said on Saturday t...  \n",
       "120  The trial of Joaquín Guzmán Loera, the Mexican...  \n",
       "174  Australia were forced to follow-on on home soi...  \n",
       "9    Following is reaction to Andy Murray's announc...  "
      ]
     },
     "execution_count": 56,
     "metadata": {},
     "output_type": "execute_result"
    }
   ],
   "source": [
    "df.loc[top_docs[4].index, [\"headline\", \"snippet\"]]"
   ]
  },
  {
   "cell_type": "code",
   "execution_count": 57,
   "id": "618dc6bd-61c7-419d-a47c-84ed1618330f",
   "metadata": {},
   "outputs": [
    {
     "data": {
      "text/html": [
       "<div>\n",
       "<style scoped>\n",
       "    .dataframe tbody tr th:only-of-type {\n",
       "        vertical-align: middle;\n",
       "    }\n",
       "\n",
       "    .dataframe tbody tr th {\n",
       "        vertical-align: top;\n",
       "    }\n",
       "\n",
       "    .dataframe thead th {\n",
       "        text-align: right;\n",
       "    }\n",
       "</style>\n",
       "<table border=\"1\" class=\"dataframe\">\n",
       "  <thead>\n",
       "    <tr style=\"text-align: right;\">\n",
       "      <th></th>\n",
       "      <th>headline</th>\n",
       "      <th>snippet</th>\n",
       "    </tr>\n",
       "  </thead>\n",
       "  <tbody>\n",
       "    <tr>\n",
       "      <th>68</th>\n",
       "      <td>Greek Minister Criticizes Police Over Clashes ...</td>\n",
       "      <td>Greece's public order minister strongly critic...</td>\n",
       "    </tr>\n",
       "    <tr>\n",
       "      <th>143</th>\n",
       "      <td>How Much Do You Know About Senegal?</td>\n",
       "      <td>Can you find Senegal on a map? What else do yo...</td>\n",
       "    </tr>\n",
       "    <tr>\n",
       "      <th>224</th>\n",
       "      <td>Is Kratom Nature’s Answer to Opioids?</td>\n",
       "      <td>A leaf from Southeast Asia is touted as a pain...</td>\n",
       "    </tr>\n",
       "    <tr>\n",
       "      <th>41</th>\n",
       "      <td>China's Population Set to Peak at 1.44 Billion...</td>\n",
       "      <td>China's population is set to reach a peak of 1...</td>\n",
       "    </tr>\n",
       "    <tr>\n",
       "      <th>147</th>\n",
       "      <td>Pope: Vatican Meeting Aims to 'Shed Full Light...</td>\n",
       "      <td>Pope Francis says next month's meeting of bish...</td>\n",
       "    </tr>\n",
       "    <tr>\n",
       "      <th>94</th>\n",
       "      <td>Chinese Phone Maker Huawei Punishes Employees ...</td>\n",
       "      <td>China's Huawei Technologies [HWT.UL] has punis...</td>\n",
       "    </tr>\n",
       "    <tr>\n",
       "      <th>102</th>\n",
       "      <td>Kim's Vision of a Coal-Fueled North Korean Fut...</td>\n",
       "      <td>When North Korean leader Kim Jong Un used his ...</td>\n",
       "    </tr>\n",
       "    <tr>\n",
       "      <th>228</th>\n",
       "      <td>Is Stunning an Animal Before Slaughter More Hu...</td>\n",
       "      <td>Two regions of Belgium are banning kosher and ...</td>\n",
       "    </tr>\n",
       "    <tr>\n",
       "      <th>1</th>\n",
       "      <td>UK Police Treating Manchester Stabbing Attack ...</td>\n",
       "      <td>British police confirmed on Tuesday they were ...</td>\n",
       "    </tr>\n",
       "    <tr>\n",
       "      <th>125</th>\n",
       "      <td>Stocks Swing to Huge Gains After Jobs Report, ...</td>\n",
       "      <td>Global stocks soared Friday and reversed the b...</td>\n",
       "    </tr>\n",
       "  </tbody>\n",
       "</table>\n",
       "</div>"
      ],
      "text/plain": [
       "                                              headline  \\\n",
       "68   Greek Minister Criticizes Police Over Clashes ...   \n",
       "143                How Much Do You Know About Senegal?   \n",
       "224             Is Kratom Nature’s Answer to Opioids?    \n",
       "41   China's Population Set to Peak at 1.44 Billion...   \n",
       "147  Pope: Vatican Meeting Aims to 'Shed Full Light...   \n",
       "94   Chinese Phone Maker Huawei Punishes Employees ...   \n",
       "102  Kim's Vision of a Coal-Fueled North Korean Fut...   \n",
       "228  Is Stunning an Animal Before Slaughter More Hu...   \n",
       "1    UK Police Treating Manchester Stabbing Attack ...   \n",
       "125  Stocks Swing to Huge Gains After Jobs Report, ...   \n",
       "\n",
       "                                               snippet  \n",
       "68   Greece's public order minister strongly critic...  \n",
       "143  Can you find Senegal on a map? What else do yo...  \n",
       "224  A leaf from Southeast Asia is touted as a pain...  \n",
       "41   China's population is set to reach a peak of 1...  \n",
       "147  Pope Francis says next month's meeting of bish...  \n",
       "94   China's Huawei Technologies [HWT.UL] has punis...  \n",
       "102  When North Korean leader Kim Jong Un used his ...  \n",
       "228  Two regions of Belgium are banning kosher and ...  \n",
       "1    British police confirmed on Tuesday they were ...  \n",
       "125  Global stocks soared Friday and reversed the b...  "
      ]
     },
     "execution_count": 57,
     "metadata": {},
     "output_type": "execute_result"
    }
   ],
   "source": [
    "df.loc[top_docs[5].index, [\"headline\", \"snippet\"]]"
   ]
  },
  {
   "cell_type": "code",
   "execution_count": 58,
   "id": "dbe755f6",
   "metadata": {},
   "outputs": [
    {
     "name": "stdout",
     "output_type": "stream",
     "text": [
      "     topic      prob\n",
      "76       2  0.814458\n",
      "172      2  0.796401\n",
      "171      2  0.784431\n",
      "121      2  0.781861\n",
      "189      2  0.779126\n",
      "(38, 2)\n"
     ]
    }
   ],
   "source": [
    "# =================================================-\n",
    "#### Slide 22/29: Inspect documents for a given topic  ####\n",
    "\n",
    "# Filter and sort all documents assigned to topic 3 by probability in descending order.\n",
    "topic3_docs = prob_df.query(\"topic==2\")\n",
    "topic3_docs = topic3_docs.sort_values(by=\"prob\", ascending=False)\n",
    "print(topic3_docs.head())\n",
    "# Let's see how many documents were assigned to that topic.\n",
    "print(topic3_docs.shape)"
   ]
  },
  {
   "cell_type": "code",
   "execution_count": 59,
   "id": "ed2e1851",
   "metadata": {},
   "outputs": [
    {
     "name": "stdout",
     "output_type": "stream",
     "text": [
      "                                               snippet\n",
      "76   A federal court hearing will go forward as sch...\n",
      "172  The head of Brazil's environmental protection ...\n",
      "171  Monday: A new governor takes the reins; what y...\n",
      "121  On another fruitless night for their power pla...\n",
      "189  U.S. President Donald Trump has not made a dec...\n",
      "80   An executive at a San Diego television station...\n",
      "69   Heavy snow paralyzed much of Europe for yet an...\n",
      "62   Newly installed President Jair Bolsonaro targe...\n",
      "58   Padraig Harrington will be announced next week...\n",
      "175  The future of the Hopman Cup, the only coed te...\n"
     ]
    }
   ],
   "source": [
    "# =================================================-\n",
    "#### Slide 23/29: Inspect documents for a given topic (cont'd)  ####\n",
    "\n",
    "# Let's get the top 10 documents that were assigned to that topic.\n",
    "top_10 = topic3_docs.index[0:10,]\n",
    "# Inspect the top 10 documents in topic 3.\n",
    "df_topic3 = df.loc[top_10, :]\n",
    "print(df_topic3[[\"snippet\"]])"
   ]
  },
  {
   "cell_type": "code",
   "execution_count": 60,
   "id": "56e708ff",
   "metadata": {},
   "outputs": [],
   "source": [
    "# =================================================-\n",
    "#### Slide 24/29: Save LDA visualization to HTML file  ####\n",
    "\n",
    "# Save the plot as a self-contained HTML file.\n",
    "pyLDAvis.save_html(vis, \"plot/df_LDAvis.html\")"
   ]
  },
  {
   "cell_type": "code",
   "execution_count": 61,
   "id": "65282278",
   "metadata": {},
   "outputs": [],
   "source": [
    "# =================================================-\n",
    "#### Slide 26/29: Exercise  ####\n",
    "\n",
    "\n",
    "#######################################################\n",
    "####  CONGRATULATIONS ON COMPLETING THIS MODULE!   ####\n",
    "#######################################################"
   ]
  }
 ],
 "metadata": {
  "kernelspec": {
   "display_name": "Python 3 (ipykernel)",
   "language": "python",
   "name": "python3"
  },
  "language": "python",
  "language_info": {
   "codemirror_mode": {
    "name": "ipython",
    "version": 3
   },
   "file_extension": ".py",
   "mimetype": "text/x-python",
   "name": "python",
   "nbconvert_exporter": "python",
   "pygments_lexer": "ipython3",
   "version": "3.10.13"
  }
 },
 "nbformat": 4,
 "nbformat_minor": 5
}
