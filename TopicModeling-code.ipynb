{
 "cells": [
  {
   "cell_type": "code",
   "execution_count": 1,
   "id": "752a7203",
   "metadata": {},
   "outputs": [],
   "source": [
    "#######################################################\n",
    "#######################################################\n",
    "############    COPYRIGHT - DATA SOCIETY   ############\n",
    "#######################################################\n",
    "#######################################################\n",
    "\n",
    "## Topic Modeling In N L P: Topic Modeling - 2 ##\n",
    "\n",
    "## NOTE: To run individual pieces of code, select the line of code and\n",
    "##       press ctrl + enter for PCs or command + enter for Macs"
   ]
  },
  {
   "cell_type": "code",
   "execution_count": 2,
   "id": "74b7d530",
   "metadata": {},
   "outputs": [
    {
     "name": "stdout",
     "output_type": "stream",
     "text": [
      "Requirement already satisfied: pyLDAvis in /usr/local/python/3.10.13/lib/python3.10/site-packages (from -r requirements.txt (line 1)) (3.4.1)\n",
      "Requirement already satisfied: gensim in /usr/local/python/3.10.13/lib/python3.10/site-packages (from -r requirements.txt (line 2)) (4.3.2)\n",
      "Requirement already satisfied: scipy==1.12 in /usr/local/python/3.10.13/lib/python3.10/site-packages (from -r requirements.txt (line 3)) (1.12.0)\n",
      "Requirement already satisfied: wordcloud in /usr/local/python/3.10.13/lib/python3.10/site-packages (from -r requirements.txt (line 4)) (1.9.3)\n",
      "Requirement already satisfied: nltk in /usr/local/python/3.10.13/lib/python3.10/site-packages (from -r requirements.txt (line 5)) (3.8.1)\n",
      "Requirement already satisfied: numpy<1.29.0,>=1.22.4 in /home/codespace/.local/lib/python3.10/site-packages (from scipy==1.12->-r requirements.txt (line 3)) (1.26.4)\n",
      "Requirement already satisfied: pandas>=2.0.0 in /home/codespace/.local/lib/python3.10/site-packages (from pyLDAvis->-r requirements.txt (line 1)) (2.2.1)\n",
      "Requirement already satisfied: joblib>=1.2.0 in /home/codespace/.local/lib/python3.10/site-packages (from pyLDAvis->-r requirements.txt (line 1)) (1.3.2)\n",
      "Requirement already satisfied: jinja2 in /home/codespace/.local/lib/python3.10/site-packages (from pyLDAvis->-r requirements.txt (line 1)) (3.1.3)\n",
      "Requirement already satisfied: numexpr in /usr/local/python/3.10.13/lib/python3.10/site-packages (from pyLDAvis->-r requirements.txt (line 1)) (2.10.0)\n",
      "Requirement already satisfied: funcy in /usr/local/python/3.10.13/lib/python3.10/site-packages (from pyLDAvis->-r requirements.txt (line 1)) (2.0)\n",
      "Requirement already satisfied: scikit-learn>=1.0.0 in /home/codespace/.local/lib/python3.10/site-packages (from pyLDAvis->-r requirements.txt (line 1)) (1.4.1.post1)\n",
      "Requirement already satisfied: setuptools in /usr/local/python/3.10.13/lib/python3.10/site-packages (from pyLDAvis->-r requirements.txt (line 1)) (68.2.2)\n",
      "Requirement already satisfied: smart-open>=1.8.1 in /usr/local/python/3.10.13/lib/python3.10/site-packages (from gensim->-r requirements.txt (line 2)) (7.0.4)\n",
      "Requirement already satisfied: pillow in /home/codespace/.local/lib/python3.10/site-packages (from wordcloud->-r requirements.txt (line 4)) (10.3.0)\n",
      "Requirement already satisfied: matplotlib in /home/codespace/.local/lib/python3.10/site-packages (from wordcloud->-r requirements.txt (line 4)) (3.8.3)\n",
      "Requirement already satisfied: click in /usr/local/python/3.10.13/lib/python3.10/site-packages (from nltk->-r requirements.txt (line 5)) (8.1.7)\n",
      "Requirement already satisfied: regex>=2021.8.3 in /usr/local/python/3.10.13/lib/python3.10/site-packages (from nltk->-r requirements.txt (line 5)) (2024.4.16)\n",
      "Requirement already satisfied: tqdm in /usr/local/python/3.10.13/lib/python3.10/site-packages (from nltk->-r requirements.txt (line 5)) (4.66.2)\n",
      "Requirement already satisfied: python-dateutil>=2.8.2 in /home/codespace/.local/lib/python3.10/site-packages (from pandas>=2.0.0->pyLDAvis->-r requirements.txt (line 1)) (2.9.0.post0)\n",
      "Requirement already satisfied: pytz>=2020.1 in /home/codespace/.local/lib/python3.10/site-packages (from pandas>=2.0.0->pyLDAvis->-r requirements.txt (line 1)) (2024.1)\n",
      "Requirement already satisfied: tzdata>=2022.7 in /home/codespace/.local/lib/python3.10/site-packages (from pandas>=2.0.0->pyLDAvis->-r requirements.txt (line 1)) (2024.1)\n",
      "Requirement already satisfied: threadpoolctl>=2.0.0 in /home/codespace/.local/lib/python3.10/site-packages (from scikit-learn>=1.0.0->pyLDAvis->-r requirements.txt (line 1)) (3.4.0)\n",
      "Requirement already satisfied: wrapt in /usr/local/python/3.10.13/lib/python3.10/site-packages (from smart-open>=1.8.1->gensim->-r requirements.txt (line 2)) (1.16.0)\n",
      "Requirement already satisfied: MarkupSafe>=2.0 in /home/codespace/.local/lib/python3.10/site-packages (from jinja2->pyLDAvis->-r requirements.txt (line 1)) (2.1.5)\n",
      "Requirement already satisfied: contourpy>=1.0.1 in /home/codespace/.local/lib/python3.10/site-packages (from matplotlib->wordcloud->-r requirements.txt (line 4)) (1.2.1)\n",
      "Requirement already satisfied: cycler>=0.10 in /home/codespace/.local/lib/python3.10/site-packages (from matplotlib->wordcloud->-r requirements.txt (line 4)) (0.12.1)\n",
      "Requirement already satisfied: fonttools>=4.22.0 in /home/codespace/.local/lib/python3.10/site-packages (from matplotlib->wordcloud->-r requirements.txt (line 4)) (4.50.0)\n",
      "Requirement already satisfied: kiwisolver>=1.3.1 in /home/codespace/.local/lib/python3.10/site-packages (from matplotlib->wordcloud->-r requirements.txt (line 4)) (1.4.5)\n",
      "Requirement already satisfied: packaging>=20.0 in /home/codespace/.local/lib/python3.10/site-packages (from matplotlib->wordcloud->-r requirements.txt (line 4)) (24.0)\n",
      "Requirement already satisfied: pyparsing>=2.3.1 in /home/codespace/.local/lib/python3.10/site-packages (from matplotlib->wordcloud->-r requirements.txt (line 4)) (3.1.2)\n",
      "Requirement already satisfied: six>=1.5 in /home/codespace/.local/lib/python3.10/site-packages (from python-dateutil>=2.8.2->pandas>=2.0.0->pyLDAvis->-r requirements.txt (line 1)) (1.16.0)\n",
      "Note: you may need to restart the kernel to use updated packages.\n"
     ]
    }
   ],
   "source": [
    "%pip install -r requirements.txt"
   ]
  },
  {
   "cell_type": "code",
   "execution_count": 3,
   "id": "5de701d7",
   "metadata": {},
   "outputs": [
    {
     "name": "stderr",
     "output_type": "stream",
     "text": [
      "[nltk_data] Downloading package punkt to /home/codespace/nltk_data...\n",
      "[nltk_data]   Package punkt is already up-to-date!\n",
      "[nltk_data] Downloading package stopwords to\n",
      "[nltk_data]     /home/codespace/nltk_data...\n",
      "[nltk_data]   Package stopwords is already up-to-date!\n"
     ]
    },
    {
     "data": {
      "text/plain": [
       "True"
      ]
     },
     "execution_count": 3,
     "metadata": {},
     "output_type": "execute_result"
    }
   ],
   "source": [
    "# =================================================-\n",
    "#### Slide 2/21: Load packages  ####\n",
    "\n",
    "# Builtin packages.\n",
    "from pathlib import Path\n",
    "from pprint import pprint\n",
    "\n",
    "# 3rd party packages.\n",
    "import gensim\n",
    "import matplotlib.pyplot as plt\n",
    "import nltk\n",
    "import numpy as np\n",
    "import pandas as pd\n",
    "import pyLDAvis\n",
    "import pyLDAvis.gensim\n",
    "from gensim import models\n",
    "from gensim.models.coherencemodel import CoherenceModel\n",
    "from nltk.corpus import stopwords\n",
    "from nltk.stem.porter import PorterStemmer\n",
    "from nltk.tokenize import word_tokenize\n",
    "from sklearn.feature_extraction.text import CountVectorizer\n",
    "\n",
    "nltk.download([\"punkt\", \"stopwords\"])"
   ]
  },
  {
   "cell_type": "code",
   "execution_count": 4,
   "id": "1d6849cb",
   "metadata": {},
   "outputs": [],
   "source": [
    "# =================================================-\n",
    "#### Slide 3/21: Directory settings  ####\n",
    "\n",
    "# Set 'main_dir' to location of the project folder\n",
    "# Path(\"data\").mkdir(exist_ok=True)\n",
    "Path(\"plot\").mkdir(exist_ok=True)"
   ]
  },
  {
   "cell_type": "code",
   "execution_count": 5,
   "id": "9a8cf0b6",
   "metadata": {},
   "outputs": [
    {
     "data": {
      "text/html": [
       "<div>\n",
       "<style scoped>\n",
       "    .dataframe tbody tr th:only-of-type {\n",
       "        vertical-align: middle;\n",
       "    }\n",
       "\n",
       "    .dataframe tbody tr th {\n",
       "        vertical-align: top;\n",
       "    }\n",
       "\n",
       "    .dataframe thead th {\n",
       "        text-align: right;\n",
       "    }\n",
       "</style>\n",
       "<table border=\"1\" class=\"dataframe\">\n",
       "  <thead>\n",
       "    <tr style=\"text-align: right;\">\n",
       "      <th></th>\n",
       "      <th>web_url</th>\n",
       "      <th>headline</th>\n",
       "      <th>snippet</th>\n",
       "      <th>word_count</th>\n",
       "      <th>source</th>\n",
       "      <th>type_of_material</th>\n",
       "      <th>date</th>\n",
       "      <th>id</th>\n",
       "    </tr>\n",
       "  </thead>\n",
       "  <tbody>\n",
       "    <tr>\n",
       "      <th>0</th>\n",
       "      <td>https://www.nytimes.com/reuters/2019/01/01/spo...</td>\n",
       "      <td>Kyrgios, Murray Power Into Second Round in Bri...</td>\n",
       "      <td>Nick Kyrgios started his Brisbane Open title d...</td>\n",
       "      <td>435</td>\n",
       "      <td>Reuters</td>\n",
       "      <td>News</td>\n",
       "      <td>2019-01-01</td>\n",
       "      <td>8</td>\n",
       "    </tr>\n",
       "    <tr>\n",
       "      <th>1</th>\n",
       "      <td>https://www.nytimes.com/reuters/2019/01/01/wor...</td>\n",
       "      <td>UK Police Treating Manchester Stabbing Attack ...</td>\n",
       "      <td>British police confirmed on Tuesday they were ...</td>\n",
       "      <td>81</td>\n",
       "      <td>Reuters</td>\n",
       "      <td>News</td>\n",
       "      <td>2019-01-01</td>\n",
       "      <td>9</td>\n",
       "    </tr>\n",
       "    <tr>\n",
       "      <th>2</th>\n",
       "      <td>https://www.nytimes.com/aponline/2019/01/01/sp...</td>\n",
       "      <td>Former NFL Player Wiley Talks Playoffs on Podc...</td>\n",
       "      <td>Marcellus Wiley is still on the fence about le...</td>\n",
       "      <td>272</td>\n",
       "      <td>AP</td>\n",
       "      <td>News</td>\n",
       "      <td>2019-01-01</td>\n",
       "      <td>10</td>\n",
       "    </tr>\n",
       "    <tr>\n",
       "      <th>3</th>\n",
       "      <td>https://www.nytimes.com/2019/01/09/arts/design...</td>\n",
       "      <td>After the Quake, Dana Schutz Gets Back to Work</td>\n",
       "      <td>Still reckoning with the fallout from her Emme...</td>\n",
       "      <td>1540</td>\n",
       "      <td>The New York Times</td>\n",
       "      <td>News</td>\n",
       "      <td>2019-01-09</td>\n",
       "      <td>11</td>\n",
       "    </tr>\n",
       "    <tr>\n",
       "      <th>4</th>\n",
       "      <td>https://www.nytimes.com/aponline/2019/01/10/sp...</td>\n",
       "      <td>Ogunbowale Helps Irish Beat Cardinals in 1-2 S...</td>\n",
       "      <td>As far as Arike Ogunbowale and coach Muffet Mc...</td>\n",
       "      <td>1059</td>\n",
       "      <td>AP</td>\n",
       "      <td>News</td>\n",
       "      <td>2019-01-11</td>\n",
       "      <td>12</td>\n",
       "    </tr>\n",
       "  </tbody>\n",
       "</table>\n",
       "</div>"
      ],
      "text/plain": [
       "                                             web_url  \\\n",
       "0  https://www.nytimes.com/reuters/2019/01/01/spo...   \n",
       "1  https://www.nytimes.com/reuters/2019/01/01/wor...   \n",
       "2  https://www.nytimes.com/aponline/2019/01/01/sp...   \n",
       "3  https://www.nytimes.com/2019/01/09/arts/design...   \n",
       "4  https://www.nytimes.com/aponline/2019/01/10/sp...   \n",
       "\n",
       "                                            headline  \\\n",
       "0  Kyrgios, Murray Power Into Second Round in Bri...   \n",
       "1  UK Police Treating Manchester Stabbing Attack ...   \n",
       "2  Former NFL Player Wiley Talks Playoffs on Podc...   \n",
       "3    After the Quake, Dana Schutz Gets Back to Work    \n",
       "4  Ogunbowale Helps Irish Beat Cardinals in 1-2 S...   \n",
       "\n",
       "                                             snippet  word_count  \\\n",
       "0  Nick Kyrgios started his Brisbane Open title d...         435   \n",
       "1  British police confirmed on Tuesday they were ...          81   \n",
       "2  Marcellus Wiley is still on the fence about le...         272   \n",
       "3  Still reckoning with the fallout from her Emme...        1540   \n",
       "4  As far as Arike Ogunbowale and coach Muffet Mc...        1059   \n",
       "\n",
       "               source type_of_material        date  id  \n",
       "0             Reuters             News  2019-01-01   8  \n",
       "1             Reuters             News  2019-01-01   9  \n",
       "2                  AP             News  2019-01-01  10  \n",
       "3  The New York Times             News  2019-01-09  11  \n",
       "4                  AP             News  2019-01-11  12  "
      ]
     },
     "execution_count": 5,
     "metadata": {},
     "output_type": "execute_result"
    }
   ],
   "source": [
    "# =================================================-\n",
    "#### Slide 5/21: Load data  ####\n",
    "\n",
    "# Let's load and prepare the dataset for creating Document-Term Matrix\n",
    "df = pd.read_csv(\"data/NYT_article_data.csv\")\n",
    "df.head()"
   ]
  },
  {
   "cell_type": "code",
   "execution_count": 6,
   "id": "e8007064",
   "metadata": {
    "jupyter": {
     "source_hidden": true
    }
   },
   "outputs": [
    {
     "name": "stdout",
     "output_type": "stream",
     "text": [
      "0\n",
      "0\n"
     ]
    }
   ],
   "source": [
    "# =================================================-\n",
    "#### Slide 6/21: Check for NAs  ####\n",
    "\n",
    "# Print total number of NAs.\n",
    "print(df[\"snippet\"].isna().sum())\n",
    "# Drop NAs if any.\n",
    "df = df.dropna(subset=[\"snippet\"]).reset_index(drop=True)\n",
    "print(df[\"snippet\"].isna().sum())\n",
    "# Isolate the `snippet` column.\n",
    "df_text = df[\"snippet\"]"
   ]
  },
  {
   "cell_type": "code",
   "execution_count": 7,
   "id": "5de6d069",
   "metadata": {
    "jupyter": {
     "source_hidden": true
    }
   },
   "outputs": [],
   "source": [
    "# =================================================-\n",
    "#### Slide 7/21: Tokenization: split each document into words  ####\n",
    "\n",
    "# Tokenize each document into a large list of tokenized documents.\n",
    "df_tokenized = [word_tokenize(df_text[i]) for i in range(0, len(df_text))]"
   ]
  },
  {
   "cell_type": "code",
   "execution_count": 8,
   "id": "4d5a4436",
   "metadata": {
    "jupyter": {
     "source_hidden": true
    }
   },
   "outputs": [
    {
     "name": "stdout",
     "output_type": "stream",
     "text": [
      "['Nick', 'Kyrgios', 'started', 'his', 'Brisbane', 'Open', 'title', 'defense', 'with', 'a', 'battling', '7-6', '(', '5', ')', '5-7', '7-6', '(', '5', ')', 'victory', 'over', 'American', 'Ryan', 'Harrison', 'in', 'the', 'opening', 'round', 'on', 'Tuesday', '.']\n",
      "['nick', 'kyrgios', 'started', 'his', 'brisbane', 'open', 'title', 'defense', 'with', 'a']\n"
     ]
    }
   ],
   "source": [
    "# =================================================-\n",
    "#### Slide 9/21: Convert characters to lowercase  ####\n",
    "\n",
    "# Let's take a look at the first tokenized document\n",
    "document_words = df_tokenized[0]\n",
    "print(document_words)\n",
    "# 1. Convert to lowercase.\n",
    "document_words = [word.lower() for word in document_words]\n",
    "print(document_words[:10])"
   ]
  },
  {
   "cell_type": "code",
   "execution_count": 9,
   "id": "014c5ac9",
   "metadata": {
    "jupyter": {
     "source_hidden": true
    }
   },
   "outputs": [
    {
     "name": "stdout",
     "output_type": "stream",
     "text": [
      "['i', 'me', 'my', 'myself', 'we', 'our', 'ours', 'ourselves', 'you', \"you're\"]\n",
      "['nick', 'kyrgios', 'started', 'brisbane', 'open', 'title', 'defense', 'battling', '7-6', '(']\n"
     ]
    }
   ],
   "source": [
    "# =================================================-\n",
    "#### Slide 10/21: Remove stop words  ####\n",
    "\n",
    "# 2. Remove stop words.\n",
    "# Get common English stop words.\n",
    "stop_words = stopwords.words(\"english\")\n",
    "print(stop_words[:10])\n",
    "# Remove stop words.\n",
    "document_words = [word for word in document_words if not word in stop_words]\n",
    "print(document_words[:10])"
   ]
  },
  {
   "cell_type": "code",
   "execution_count": 10,
   "id": "1da90673",
   "metadata": {
    "jupyter": {
     "source_hidden": true
    }
   },
   "outputs": [
    {
     "name": "stdout",
     "output_type": "stream",
     "text": [
      "['nick', 'kyrgios', 'started', 'brisbane', 'open', 'title', 'defense', 'battling', 'victory', 'american']\n"
     ]
    }
   ],
   "source": [
    "# =================================================-\n",
    "#### Slide 11/21: Remove non-alphabetical characters  ####\n",
    "\n",
    "# 3. Remove punctuation and any non-alphabetical characters.\n",
    "document_words = [word for word in document_words if word.isalpha()]\n",
    "print(document_words[:10])"
   ]
  },
  {
   "cell_type": "code",
   "execution_count": 11,
   "id": "f06335e4",
   "metadata": {
    "jupyter": {
     "source_hidden": true
    }
   },
   "outputs": [
    {
     "name": "stdout",
     "output_type": "stream",
     "text": [
      "['nick', 'kyrgio', 'start', 'brisban', 'open', 'titl', 'defens', 'battl', 'victori', 'american']\n"
     ]
    }
   ],
   "source": [
    "# =================================================-\n",
    "#### Slide 14/21: Stem words  ####\n",
    "\n",
    "# 4. Stem words.\n",
    "document_words = [PorterStemmer().stem(word) for word in document_words]\n",
    "print(document_words[:10])"
   ]
  },
  {
   "cell_type": "code",
   "execution_count": 12,
   "id": "1bfd255a",
   "metadata": {
    "jupyter": {
     "source_hidden": true
    }
   },
   "outputs": [],
   "source": [
    "# =================================================-\n",
    "#### Slide 16/21: Clean the entire corpus  ####\n",
    "\n",
    "# Create a list for clean documents.\n",
    "df_clean = [None] * len(df_tokenized)\n",
    "# Create a list of word counts for each clean document.\n",
    "word_counts_per_document = [None] * len(df_tokenized)\n",
    "\n",
    "# Process words in all documents.\n",
    "for i in range(len(df_tokenized)):\n",
    "    # 1. Convert to lowercase.\n",
    "    df_clean[i] = [document.lower() for document in df_tokenized[i]]\n",
    "\n",
    "    # 2. Remove stop words.\n",
    "    df_clean[i] = [word for word in df_clean[i] if not word in stop_words]\n",
    "\n",
    "    # 3. Remove punctuation and any non-alphabetical characters.\n",
    "    df_clean[i] = [word for word in df_clean[i] if word.isalpha()]\n",
    "\n",
    "    # 4. Stem words.\n",
    "    df_clean[i] = [PorterStemmer().stem(word) for word in df_clean[i]]\n",
    "\n",
    "    # Record the word count per document.\n",
    "    word_counts_per_document[i] = len(df_clean[i])"
   ]
  },
  {
   "cell_type": "code",
   "execution_count": 13,
   "id": "4115e062",
   "metadata": {
    "jupyter": {
     "source_hidden": true
    }
   },
   "outputs": [
    {
     "name": "stdout",
     "output_type": "stream",
     "text": [
      "[['nick', 'kyrgio', 'start', 'brisban', 'open', 'titl', 'defens', 'battl', 'victori', 'american', 'ryan', 'harrison', 'open', 'round', 'tuesday'], ['british', 'polic', 'confirm', 'tuesday', 'treat', 'stab', 'attack', 'injur', 'three', 'peopl', 'manchest', 'victoria', 'train', 'station', 'terrorist', 'investig', 'search', 'address', 'cheetham', 'hill', 'area', 'citi']]\n"
     ]
    }
   ],
   "source": [
    "# =================================================-\n",
    "#### Slide 17/21: Clean the entire corpus (cont'd)  ####\n",
    "\n",
    "# Convert word counts list and documents list to NumPy arrays.\n",
    "word_counts_array = np.array(word_counts_per_document)\n",
    "df_array = np.array(df_clean, dtype=object)\n",
    "\n",
    "# Find indices of all documents where there are greater than or equal to 5 words.\n",
    "valid_documents = np.where(word_counts_array >= 5)[0]\n",
    "\n",
    "# Subset the df_array to keep only those where there are at least 5 words.\n",
    "df_array = df_array[valid_documents]\n",
    "\n",
    "# Convert the array back to a list.\n",
    "df_clean = df_array.tolist()  # <- the processed documents\n",
    "\n",
    "print(df_clean[0:2])\n",
    "\n",
    "# Convert word counts list and documents list to NumPy arrays.\n",
    "word_counts_array = np.array(word_counts_per_document)\n",
    "df_array = np.array(df_clean, dtype=object)"
   ]
  },
  {
   "cell_type": "code",
   "execution_count": 14,
   "id": "de4dbdea",
   "metadata": {
    "jupyter": {
     "source_hidden": true
    }
   },
   "outputs": [
    {
     "data": {
      "text/plain": [
       "array([list(['nick', 'kyrgio', 'start', 'brisban', 'open', 'titl', 'defens', 'battl', 'victori', 'american', 'ryan', 'harrison', 'open', 'round', 'tuesday']),\n",
       "       list(['british', 'polic', 'confirm', 'tuesday', 'treat', 'stab', 'attack', 'injur', 'three', 'peopl', 'manchest', 'victoria', 'train', 'station', 'terrorist', 'investig', 'search', 'address', 'cheetham', 'hill', 'area', 'citi']),\n",
       "       list(['marcellu', 'wiley', 'still', 'fenc', 'let', 'young', 'son', 'play', 'footbal', 'former', 'nfl', 'defens', 'end', 'fox', 'sport', 'person', 'tell', 'podcaston', 'sport', 'like', 'nfl', 'tri', 'make', 'footbal', 'safer', 'game', 'de']),\n",
       "       list(['still', 'reckon', 'fallout', 'emmett', 'till', 'paint', 'chasten', 'artist', 'reveal', 'controversi', 'chang', 'even', 'move', 'forward', 'new', 'galleri', 'show']),\n",
       "       list(['far', 'arik', 'ogunbowal', 'coach', 'muffet', 'mcgraw', 'concern', 'notr', 'dame', 'victori', 'louisvil', 'thursday', 'night', 'anoth', 'atlant', 'coast', 'confer', 'game', 'januari'])],\n",
       "      dtype=object)"
      ]
     },
     "execution_count": 14,
     "metadata": {},
     "output_type": "execute_result"
    }
   ],
   "source": [
    "# =================================================-\n",
    "#### Slide 18/21: Clean corpus  ####\n",
    "\n",
    "# Print the first 5 documents of clean corpus\n",
    "df_array[:5]\n",
    "\n",
    "\n",
    "#######################################################\n",
    "####  CONGRATULATIONS ON COMPLETING THIS MODULE!   ####\n",
    "#######################################################"
   ]
  },
  {
   "cell_type": "code",
   "execution_count": 15,
   "id": "21af0d19",
   "metadata": {},
   "outputs": [],
   "source": [
    "#######################################################\n",
    "#######################################################\n",
    "############    COPYRIGHT - DATA SOCIETY   ############\n",
    "#######################################################\n",
    "#######################################################\n",
    "\n",
    "## Topic Modeling In N L P: Topic Modeling - 3 ##\n",
    "\n",
    "## NOTE: To run individual pieces of code, select the line of code and\n",
    "##       press ctrl + enter for PCs or command + enter for Macs"
   ]
  },
  {
   "cell_type": "code",
   "execution_count": 16,
   "id": "ea8b4e94",
   "metadata": {
    "jupyter": {
     "source_hidden": true
    },
    "scrolled": true
   },
   "outputs": [
    {
     "name": "stdout",
     "output_type": "stream",
     "text": [
      "0 american\n",
      "1 battl\n",
      "2 brisban\n",
      "3 defens\n",
      "4 harrison\n",
      "5 kyrgio\n",
      "6 nick\n",
      "7 open\n",
      "8 round\n",
      "9 ryan\n",
      "10 start\n"
     ]
    }
   ],
   "source": [
    "# =================================================-\n",
    "#### Slide 2/24: Create a dictionary of counts   ####\n",
    "\n",
    "# Set the seed.\n",
    "np.random.seed(1)\n",
    "dictionary = gensim.corpora.Dictionary(df_clean)\n",
    "\n",
    "# The loop below iterates through the first 10 items of the dictionary and prints out the key and value.\n",
    "count = 0\n",
    "for k, v in dictionary.iteritems():\n",
    "    print(k, v)\n",
    "    count += 1\n",
    "    if count > 10:\n",
    "        break"
   ]
  },
  {
   "cell_type": "code",
   "execution_count": 17,
   "id": "30768927",
   "metadata": {
    "jupyter": {
     "source_hidden": true
    }
   },
   "outputs": [
    {
     "data": {
      "text/plain": [
       "200"
      ]
     },
     "execution_count": 17,
     "metadata": {},
     "output_type": "execute_result"
    }
   ],
   "source": [
    "# =================================================-\n",
    "#### Slide 3/24: Create a dictionary of counts   ####\n",
    "\n",
    "dictionary.filter_extremes(no_below=4, no_above=0.5, keep_n=200)\n",
    "\n",
    "# How many words are left in the dictionary?\n",
    "len(dictionary)"
   ]
  },
  {
   "cell_type": "code",
   "execution_count": 18,
   "id": "fd048080",
   "metadata": {
    "jupyter": {
     "source_hidden": true
    }
   },
   "outputs": [
    {
     "name": "stdout",
     "output_type": "stream",
     "text": [
      "[(0, 1), (1, 1), (2, 2), (3, 1), (4, 1), (5, 1), (6, 1)]\n"
     ]
    }
   ],
   "source": [
    "# =================================================-\n",
    "#### Slide 4/24: Document to bag-of-words  ####\n",
    "\n",
    "# We use a list comprehension to transform each doc within our df_clean object.\n",
    "bow_corpus = [dictionary.doc2bow(doc) for doc in df_clean]\n",
    "\n",
    "# Let's look at the first document.\n",
    "print(bow_corpus[0])"
   ]
  },
  {
   "cell_type": "code",
   "execution_count": 19,
   "id": "756ce2db",
   "metadata": {
    "jupyter": {
     "source_hidden": true
    }
   },
   "outputs": [
    {
     "name": "stdout",
     "output_type": "stream",
     "text": [
      "Word 0 (\"american\") appears 1 time.\n",
      "Word 1 (\"defens\") appears 1 time.\n",
      "Word 2 (\"open\") appears 2 time.\n",
      "Word 3 (\"round\") appears 1 time.\n",
      "Word 4 (\"start\") appears 1 time.\n",
      "Word 5 (\"tuesday\") appears 1 time.\n",
      "Word 6 (\"victori\") appears 1 time.\n"
     ]
    }
   ],
   "source": [
    "# =================================================-\n",
    "#### Slide 5/24: Document to bag-of-words (cont'd)  ####\n",
    "\n",
    "# Isolate the first document.\n",
    "bow_doc_1 = bow_corpus[0]\n",
    "\n",
    "# Iterate through each dictionary item using the index.\n",
    "# Print out each actual word and how many times it appears.\n",
    "for i in range(len(bow_doc_1)):\n",
    "    print(\n",
    "        'Word {} (\"{}\") appears {} time.'.format(\n",
    "            bow_doc_1[i][0], dictionary[bow_doc_1[i][0]], bow_doc_1[i][1]\n",
    "        )\n",
    "    )"
   ]
  },
  {
   "cell_type": "code",
   "execution_count": 20,
   "id": "47155750",
   "metadata": {
    "jupyter": {
     "source_hidden": true
    }
   },
   "outputs": [
    {
     "name": "stdout",
     "output_type": "stream",
     "text": [
      "[(0, 0.31942373876087665),\n",
      " (1, 0.3549009519669791),\n",
      " (2, 0.6118718565633235),\n",
      " (3, 0.3549009519669791),\n",
      " (4, 0.3059359282816618),\n",
      " (5, 0.22829905152454918),\n",
      " (6, 0.3549009519669791)]\n"
     ]
    }
   ],
   "source": [
    "# =================================================-\n",
    "#### Slide 7/24: Transform counts with TfidfModel (cont'd)  ####\n",
    "\n",
    "# This is the transformation.\n",
    "tfidf = models.TfidfModel(bow_corpus)\n",
    "\n",
    "# Apply the transformation to the entire corpus.\n",
    "corpus_tfidf = tfidf[bow_corpus]\n",
    "\n",
    "# Preview TF-IDF scores for the first document.\n",
    "for doc in corpus_tfidf:\n",
    "    pprint(doc)\n",
    "    break"
   ]
  },
  {
   "cell_type": "code",
   "execution_count": 21,
   "id": "81baf2a4",
   "metadata": {},
   "outputs": [
    {
     "data": {
      "text/plain": [
       "<gensim.models.ldamulticore.LdaMulticore at 0x7f2ab4363f10>"
      ]
     },
     "execution_count": 21,
     "metadata": {},
     "output_type": "execute_result"
    }
   ],
   "source": [
    "# =================================================-\n",
    "#### Slide 11/24: Running LdaMulticore  ####\n",
    "\n",
    "lda_model_tfidf = gensim.models.LdaMulticore(\n",
    "    corpus_tfidf, num_topics=5, id2word=dictionary, workers=4, passes=2\n",
    ")\n",
    "lda_model_tfidf"
   ]
  },
  {
   "cell_type": "code",
   "execution_count": 22,
   "id": "032c7257",
   "metadata": {},
   "outputs": [
    {
     "name": "stdout",
     "output_type": "stream",
     "text": [
      "Topic: 0 Word: 0.020*\"offici\" + 0.020*\"like\" + 0.017*\"say\" + 0.017*\"week\" + 0.017*\"warn\" + 0.015*\"show\" + 0.015*\"state\" + 0.014*\"thursday\" + 0.014*\"help\" + 0.014*\"new\"\n",
      "Topic: 1 Word: 0.023*\"time\" + 0.023*\"latest\" + 0.022*\"world\" + 0.021*\"local\" + 0.020*\"new\" + 0.016*\"year\" + 0.015*\"meet\" + 0.013*\"york\" + 0.013*\"tenni\" + 0.013*\"leader\"\n",
      "Topic: 2 Word: 0.021*\"said\" + 0.020*\"friday\" + 0.018*\"billion\" + 0.018*\"know\" + 0.015*\"set\" + 0.015*\"say\" + 0.013*\"accus\" + 0.012*\"want\" + 0.012*\"govern\" + 0.012*\"court\"\n",
      "Topic: 3 Word: 0.020*\"investig\" + 0.020*\"saturday\" + 0.019*\"presid\" + 0.017*\"polic\" + 0.014*\"said\" + 0.014*\"expect\" + 0.013*\"citi\" + 0.013*\"suspect\" + 0.013*\"year\" + 0.013*\"first\"\n",
      "Topic: 4 Word: 0.022*\"young\" + 0.020*\"tuesday\" + 0.018*\"look\" + 0.018*\"said\" + 0.016*\"talk\" + 0.016*\"close\" + 0.015*\"move\" + 0.015*\"new\" + 0.015*\"south\" + 0.014*\"year\"\n"
     ]
    }
   ],
   "source": [
    "# =================================================-\n",
    "#### Slide 12/24: LDA output  ####\n",
    "\n",
    "for idx, topic in lda_model_tfidf.print_topics(-1):\n",
    "    print(f\"Topic: {idx} Word: {topic}\")"
   ]
  },
  {
   "cell_type": "code",
   "execution_count": 23,
   "id": "c8859293",
   "metadata": {},
   "outputs": [
    {
     "name": "stdout",
     "output_type": "stream",
     "text": [
      "['nick', 'kyrgio', 'start', 'brisban', 'open', 'titl', 'defens', 'battl', 'victori', 'american', 'ryan', 'harrison', 'open', 'round', 'tuesday']\n",
      "\n",
      "Score: 0.7646151185035706\t \n",
      "Topic: 0.020*\"investig\" + 0.020*\"saturday\" + 0.019*\"presid\" + 0.017*\"polic\" + 0.014*\"said\" + 0.014*\"expect\" + 0.013*\"citi\" + 0.013*\"suspect\" + 0.013*\"year\" + 0.013*\"first\"\n",
      "\n",
      "Score: 0.06096296012401581\t \n",
      "Topic: 0.020*\"offici\" + 0.020*\"like\" + 0.017*\"say\" + 0.017*\"week\" + 0.017*\"warn\" + 0.015*\"show\" + 0.015*\"state\" + 0.014*\"thursday\" + 0.014*\"help\" + 0.014*\"new\"\n",
      "\n",
      "Score: 0.058861661702394485\t \n",
      "Topic: 0.022*\"young\" + 0.020*\"tuesday\" + 0.018*\"look\" + 0.018*\"said\" + 0.016*\"talk\" + 0.016*\"close\" + 0.015*\"move\" + 0.015*\"new\" + 0.015*\"south\" + 0.014*\"year\"\n",
      "\n",
      "Score: 0.05789513513445854\t \n",
      "Topic: 0.023*\"time\" + 0.023*\"latest\" + 0.022*\"world\" + 0.021*\"local\" + 0.020*\"new\" + 0.016*\"year\" + 0.015*\"meet\" + 0.013*\"york\" + 0.013*\"tenni\" + 0.013*\"leader\"\n",
      "\n",
      "Score: 0.05766509845852852\t \n",
      "Topic: 0.021*\"said\" + 0.020*\"friday\" + 0.018*\"billion\" + 0.018*\"know\" + 0.015*\"set\" + 0.015*\"say\" + 0.013*\"accus\" + 0.012*\"want\" + 0.012*\"govern\" + 0.012*\"court\"\n"
     ]
    }
   ],
   "source": [
    "# =================================================-\n",
    "#### Slide 13/24: Classify our documents within topics  ####\n",
    "\n",
    "# Let's look at our first document as an example:\n",
    "print(df_clean[0])\n",
    "for index, score in sorted(\n",
    "    lda_model_tfidf[corpus_tfidf[0]], key=lambda tup: -1 * tup[1]\n",
    "):\n",
    "    print(\n",
    "        f\"\\nScore: {score}\\t \"\n",
    "        f\"\\nTopic: {lda_model_tfidf.print_topic(index, 10)}\"\n",
    "    )"
   ]
  },
  {
   "cell_type": "code",
   "execution_count": 24,
   "id": "0e892019",
   "metadata": {},
   "outputs": [
    {
     "name": "stdout",
     "output_type": "stream",
     "text": [
      "Coherence Score:  0.5082391247655911\n"
     ]
    }
   ],
   "source": [
    "# =================================================-\n",
    "#### Slide 17/24: Calculate topic coherence  ####\n",
    "\n",
    "# Compute Coherence Score using c_v.\n",
    "coherence_model_lda = CoherenceModel(\n",
    "    model=lda_model_tfidf,\n",
    "    texts=df_clean,\n",
    "    dictionary=dictionary,\n",
    "    coherence=\"c_v\",\n",
    ")\n",
    "coherence_lda = coherence_model_lda.get_coherence()\n",
    "print(\"Coherence Score: \", coherence_lda)"
   ]
  },
  {
   "cell_type": "code",
   "execution_count": 25,
   "id": "567ad999-ba33-440b-b8ff-bc65930cf245",
   "metadata": {},
   "outputs": [],
   "source": [
    "start = 2\n",
    "stop = 40\n",
    "step = 1\n",
    "np.random.seed(1)\n",
    "model_list, coherence_scores = zip(*[\n",
    "    (\n",
    "        (model := gensim.models.LdaMulticore(\n",
    "            corpus=corpus_tfidf, id2word=dictionary, num_topics=num_topics)),\n",
    "        CoherenceModel(model=model, texts=df_clean, dictionary=dictionary, coherence=\"c_v\").get_coherence()\n",
    "    ) for num_topics in range(start, stop, step)\n",
    "])"
   ]
  },
  {
   "cell_type": "code",
   "execution_count": 26,
   "id": "d36aa59b",
   "metadata": {},
   "outputs": [],
   "source": [
    "# =================================================-\n",
    "#### Slide 19/24: Convenience function  ####\n",
    "\n",
    "\n",
    "# def compute_coherence_values(dictionary, corpus, texts, limit, start=2, step=3):\n",
    "#     coherence_values = []\n",
    "#     model_list = []\n",
    "#     for num_topics in range(start, limit, step):\n",
    "#         model = gensim.models.LdaMulticore(\n",
    "#             corpus=corpus, id2word=dictionary, num_topics=num_topics\n",
    "#         )\n",
    "#         model_list.append(model)\n",
    "#         coherencemodel = CoherenceModel(\n",
    "#             model=model, texts=texts, dictionary=dictionary, coherence=\"c_v\"\n",
    "#         )\n",
    "#         coherence_values.append(coherencemodel.get_coherence())\n",
    "\n",
    "#     return model_list, coherence_values"
   ]
  },
  {
   "cell_type": "code",
   "execution_count": 27,
   "id": "2f03c3b1",
   "metadata": {},
   "outputs": [
    {
     "data": {
      "image/png": "[encoded data removed]",
      "text/plain": [
       "<Figure size 640x480 with 1 Axes>"
      ]
     },
     "metadata": {},
     "output_type": "display_data"
    }
   ],
   "source": [
    "# =================================================-\n",
    "#### Slide 20/24: Run compute_coherence_values function  ####\n",
    "\n",
    "# np.random.seed(1)\n",
    "# model_list, coherence_values = compute_coherence_values(\n",
    "#     dictionary=dictionary,\n",
    "#     corpus=corpus_tfidf,\n",
    "#     texts=df_clean,\n",
    "#     start=2,\n",
    "#     limit=40,\n",
    "#     step=1,\n",
    "# )\n",
    "# Plot graph of topic list.\n",
    "# Show graph.\n",
    "\n",
    "x = range(start, stop, step)\n",
    "plt.plot(x, coherence_scores)\n",
    "plt.xlabel(\"Num Topics\")\n",
    "plt.ylabel(\"Coherence score\")\n",
    "plt.legend((\"coherence_values\"), loc=\"best\")\n",
    "plt.show()\n",
    "\n",
    "\n",
    "#######################################################\n",
    "####  CONGRATULATIONS ON COMPLETING THIS MODULE!   ####\n",
    "#######################################################"
   ]
  },
  {
   "cell_type": "code",
   "execution_count": 28,
   "id": "6cabf474-30f5-46ee-8c81-856d06695c83",
   "metadata": {},
   "outputs": [],
   "source": [
    "chosen_model = model_list[pd.Series(coherence_scores, index=range(start, stop, step)).head(11).idxmax()]"
   ]
  },
  {
   "cell_type": "code",
   "execution_count": 29,
   "id": "04eba082-fea0-4356-85de-0ac994b7d5f6",
   "metadata": {
    "scrolled": true
   },
   "outputs": [],
   "source": [
    "chosen_model = model_list[list(x)[np.argmax(coherence_scores[:11])]]"
   ]
  },
  {
   "cell_type": "code",
   "execution_count": 30,
   "id": "533e99ce",
   "metadata": {},
   "outputs": [],
   "source": [
    "#######################################################\n",
    "#######################################################\n",
    "############    COPYRIGHT - DATA SOCIETY   ############\n",
    "#######################################################\n",
    "#######################################################\n",
    "\n",
    "## Topic Modeling In N L P: Topic Modeling - 4 ##\n",
    "\n",
    "## NOTE: To run individual pieces of code, select the line of code and\n",
    "##       press ctrl + enter for PCs or command + enter for Macs"
   ]
  },
  {
   "cell_type": "code",
   "execution_count": 31,
   "id": "346ee593",
   "metadata": {},
   "outputs": [
    {
     "data": {
      "text/html": [
       "\n",
       "<link rel=\"stylesheet\" type=\"text/css\" href=\"https://cdn.jsdelivr.net/gh/bmabey/pyLDAvis@3.4.0/pyLDAvis/js/ldavis.v1.0.0.css\">\n",
       "\n",
       "\n",
       "<div id=\"ldavis_el445401398213862027203041049592\" style=\"background-color:white;\"></div>\n",
       "<script type=\"text/javascript\">\n",
       "\n",
       "var ldavis_el445401398213862027203041049592_data = {\"mdsDat\": {\"x\": [0.03187085940045331, -0.037742578929218916, -0.07901791933774034, 0.05204827236855902, 0.015593809491115664, -0.053197489982452044, 0.0062712168740955915, 0.06417383011518754], \"y\": [-0.004531649204054131, -0.05813605298342922, 0.027292551310079835, -0.037506026076825016, -0.07149069546370775, 0.032260619575488286, 0.03980243080305775, 0.07230882203939021], \"topics\": [1, 2, 3, 4, 5, 6, 7, 8], \"cluster\": [1, 1, 1, 1, 1, 1, 1, 1], \"Freq\": [17.610230644394832, 15.441221179135079, 13.87468238994331, 12.246110166864725, 11.089146806682905, 10.200309947730426, 9.812304116756923, 9.725994748491804]}, \"tinfo\": {\"Term\": [\"power\", \"like\", \"week\", \"bring\", \"senat\", \"republican\", \"polic\", \"coach\", \"say\", \"saturday\", \"play\", \"end\", \"close\", \"health\", \"talk\", \"start\", \"call\", \"lawyer\", \"show\", \"suspect\", \"court\", \"young\", \"thousand\", \"race\", \"feder\", \"presid\", \"million\", \"need\", \"chang\", \"american\", \"close\", \"rais\", \"support\", \"democrat\", \"stock\", \"open\", \"sunday\", \"warn\", \"bank\", \"leav\", \"friday\", \"decis\", \"rule\", \"much\", \"follow\", \"even\", \"global\", \"way\", \"critic\", \"final\", \"charg\", \"ralli\", \"build\", \"defend\", \"parti\", \"kill\", \"last\", \"latest\", \"one\", \"made\", \"local\", \"world\", \"said\", \"time\", \"head\", \"tuesday\", \"move\", \"presid\", \"new\", \"like\", \"govern\", \"thursday\", \"weekend\", \"compani\", \"union\", \"week\", \"long\", \"win\", \"top\", \"european\", \"america\", \"nation\", \"intern\", \"investig\", \"defens\", \"want\", \"young\", \"kill\", \"round\", \"offici\", \"expect\", \"health\", \"maker\", \"protest\", \"case\", \"secur\", \"countri\", \"sever\", \"border\", \"night\", \"chines\", \"help\", \"one\", \"tuesday\", \"state\", \"year\", \"said\", \"new\", \"time\", \"monday\", \"show\", \"latest\", \"polic\", \"leader\", \"say\", \"local\", \"friday\", \"back\", \"order\", \"team\", \"next\", \"carolina\", \"tenni\", \"lead\", \"search\", \"partial\", \"north\", \"price\", \"accord\", \"sever\", \"congression\", \"chines\", \"januari\", \"know\", \"fund\", \"white\", \"shutdown\", \"accus\", \"could\", \"help\", \"million\", \"work\", \"attack\", \"would\", \"maker\", \"men\", \"leagu\", \"polic\", \"new\", \"thursday\", \"govern\", \"first\", \"move\", \"latest\", \"local\", \"tuesday\", \"time\", \"said\", \"even\", \"india\", \"chang\", \"talk\", \"forc\", \"money\", \"young\", \"polic\", \"recent\", \"look\", \"season\", \"arrest\", \"make\", \"handl\", \"court\", \"call\", \"man\", \"test\", \"plan\", \"final\", \"day\", \"school\", \"former\", \"stock\", \"first\", \"compani\", \"coach\", \"show\", \"protest\", \"made\", \"build\", \"year\", \"help\", \"world\", \"new\", \"leader\", \"monday\", \"like\", \"call\", \"end\", \"forward\", \"week\", \"night\", \"south\", \"secur\", \"announc\", \"play\", \"premier\", \"billion\", \"score\", \"need\", \"man\", \"game\", \"head\", \"much\", \"former\", \"countri\", \"de\", \"month\", \"last\", \"one\", \"leagu\", \"full\", \"point\", \"monday\", \"decis\", \"state\", \"saturday\", \"say\", \"time\", \"govern\", \"latest\", \"offici\", \"coach\", \"job\", \"american\", \"suspect\", \"tenni\", \"shoot\", \"saturday\", \"feder\", \"york\", \"candid\", \"partial\", \"bring\", \"america\", \"trade\", \"cup\", \"nation\", \"million\", \"polit\", \"dollar\", \"north\", \"school\", \"set\", \"shutdown\", \"march\", \"januari\", \"year\", \"price\", \"minist\", \"victori\", \"hundr\", \"said\", \"anoth\", \"leagu\", \"end\", \"two\", \"new\", \"trump\", \"say\", \"offici\", \"time\", \"play\", \"face\", \"lawyer\", \"would\", \"start\", \"china\", \"unit\", \"key\", \"elect\", \"expect\", \"white\", \"provid\", \"offic\", \"arrest\", \"million\", \"wall\", \"case\", \"thousand\", \"show\", \"court\", \"shutdown\", \"law\", \"school\", \"march\", \"dollar\", \"trade\", \"say\", \"know\", \"peopl\", \"report\", \"talk\", \"friday\", \"said\", \"state\", \"govern\", \"power\", \"republican\", \"senat\", \"bring\", \"race\", \"health\", \"need\", \"candid\", \"parti\", \"tri\", \"thousand\", \"donald\", \"washington\", \"wall\", \"presid\", \"trump\", \"start\", \"world\", \"hundr\", \"full\", \"depart\", \"march\", \"way\", \"next\", \"lawyer\", \"rule\", \"appear\", \"border\", \"month\", \"suspect\", \"attack\", \"say\", \"leader\", \"monday\", \"set\", \"hous\"], \"Freq\": [2.0, 4.0, 3.0, 2.0, 2.0, 2.0, 3.0, 2.0, 4.0, 4.0, 2.0, 3.0, 3.0, 2.0, 2.0, 2.0, 2.0, 2.0, 3.0, 2.0, 2.0, 2.0, 2.0, 2.0, 3.0, 5.0, 2.0, 2.0, 2.0, 2.0, 2.0739486084118637, 1.3392681275902847, 1.3726309827141376, 1.337976524775756, 0.905995021277106, 1.3593297963742255, 1.4353860970461414, 1.22175541064785, 0.8371910634233565, 1.0066163116872964, 2.172110771586685, 0.8263073537953861, 0.7601224018109562, 0.871784399000315, 1.0545329249719384, 1.173751916292328, 0.6843316777994237, 0.9142105651936406, 0.9825250202500505, 0.9346461281941724, 0.8103788664085328, 0.6965626115908178, 0.733649084631394, 0.7728685097914876, 0.7239270927999284, 1.0490512096465396, 0.7843230149574901, 1.4428936693820784, 1.0964667942028308, 0.8123829813219363, 1.3717275942123046, 1.303476881047093, 1.7340721293886676, 1.3719792437060492, 0.9003969988296848, 1.1317928122579337, 0.9974179201990786, 1.1555558766143377, 1.244902186965791, 1.0376915314584019, 1.00971058757551, 0.8945230525792682, 1.1290949453405836, 0.8550545403065326, 1.0166149306999894, 1.5860608629199553, 0.8878791461154724, 0.8514213984249818, 0.7690948612355094, 0.9724766170994084, 0.9167788286231284, 1.1749520207075217, 0.7476855622588789, 1.105842776048295, 0.7558314778066334, 0.9046939787534102, 0.99421751023213, 1.1305859323171987, 0.6231667886471968, 1.4475583250401771, 0.7954376473135135, 0.8625074845527906, 0.6494844620761133, 0.7387451529319145, 0.8052903808067174, 0.5977274071512286, 0.7055757841387034, 0.6537241356834906, 0.7284118337730942, 0.7229648389356539, 0.6054303677255207, 0.8162852038927204, 0.9438776738771659, 1.1381011222454938, 0.9822756033985287, 1.3194277706112594, 1.5638422935138896, 1.3101025558748016, 1.0535939189849546, 0.9048284233015736, 0.8899182472836038, 0.9442378260152987, 0.8964401094397613, 0.8386822415458073, 0.8800046462415445, 0.8772701237573715, 0.8788181501351152, 1.2762911260747587, 0.9850036468873969, 0.9968215458812443, 0.8669244792330858, 0.7175617231959363, 0.8360139001022958, 0.7742318176900637, 0.730950498851767, 0.8961837597513862, 0.9795509148111593, 0.7560014204681292, 0.7320690450393464, 0.8523935605299463, 0.5941077687775547, 0.8006624332477449, 0.5879701086095808, 0.8107120812630969, 0.6258355009691768, 0.7175948138359649, 0.8331873678024687, 0.9690082781753391, 0.90418557183798, 0.8605317941117102, 0.7369486417266472, 0.8253397952479834, 0.7852563668693364, 0.5925129512782948, 0.5434295223691961, 0.5546074511367097, 0.7922040941606727, 1.043214485610384, 1.519060985020206, 0.8963119945809358, 1.0737938831588498, 0.9048304609432368, 0.8484742803585703, 0.918447568894816, 0.8972378445466437, 0.8584483221090752, 0.8255606976287152, 0.8327229293184076, 0.7611693391353885, 1.051357275249495, 1.1540725265318585, 1.2208005703893823, 0.841101255345845, 0.8514482681759569, 1.0713843471473308, 1.4399552374918407, 0.7136547343475941, 0.8540743682551188, 0.6403535769898868, 0.6909528038244204, 0.9852236241796639, 0.5728419960466153, 0.8331145083294422, 0.7489453564153588, 0.6636202687060659, 0.7665796770421951, 0.795121824860889, 0.7707352045946843, 0.9797603596296739, 0.6355019498441699, 0.6644110922495237, 0.4990308170094491, 0.9442107039903191, 0.4365628917327934, 0.5033295841764206, 0.903955939725699, 0.5386648054374183, 0.6010096806594967, 0.4824281677136262, 1.1423663464569096, 0.653796059216646, 0.7473904263400465, 0.7413668331921581, 0.5842117239368054, 0.5967392092366324, 1.9219654368061194, 0.8770037896038937, 1.198294349614679, 0.6805704540969764, 1.1945290553286945, 0.8573631172717101, 0.737944675618199, 0.6346738370694428, 0.7723639630713109, 0.5871482683988517, 0.7275867073328263, 0.7511885814209266, 0.6702950715595235, 0.5609309223686413, 0.5927411709904997, 0.5290920821429758, 0.7926381043793828, 0.5680098185843111, 0.6486981836883979, 0.5849465499541427, 0.5646040637162012, 0.5327350373549778, 0.5852375794905872, 0.8312891691313631, 0.7004180856536407, 0.4384022640594497, 0.4385579783324916, 0.8128950357413167, 0.41311362280636277, 0.7699369207950604, 0.7315358126409784, 0.7420751176751125, 0.7047871026507833, 0.6537906232457142, 0.6439379015899256, 0.6217150225469843, 1.0729068062549254, 0.7976063475840839, 0.9403904144802026, 0.914416046925356, 0.6879186555127981, 0.7274983551581414, 1.414416806036727, 1.1283618210203328, 0.9227648424036482, 0.5296880121032203, 0.5897291694463216, 0.5611294164567395, 0.6156077447490849, 0.6166308100474692, 0.5776670839175017, 0.7319819282072056, 0.6172142627507597, 0.5496944313152375, 0.39701574296792685, 0.5443344147939714, 0.5125620871535562, 0.5718389801243081, 0.5498860663960946, 0.3559896764118387, 0.3539937431805361, 1.0960877220320202, 0.3882370709074903, 0.529868570888826, 0.3540716565724761, 0.3970745889474933, 1.254244371743183, 0.49303847303044435, 0.5378095159337499, 0.5935060343969912, 0.6203289270908032, 0.9591775308341296, 0.6102530893570272, 0.6733945472600287, 0.6092668438894331, 0.6374992077981637, 0.8739851949596399, 0.8469888140890506, 0.8545811843535361, 0.7931994697989511, 0.8210801157193766, 0.9066216056314509, 0.7025552232050687, 0.6016490259734129, 0.6124339944535928, 0.6294082344487549, 0.58803465259787, 0.5883058434307606, 0.4772669174580227, 0.5240586722393036, 0.6687161147598355, 0.4998628451403052, 0.6339672471857504, 0.5898495488374319, 0.9310371488770826, 0.6195599301082968, 0.5883433061041238, 0.40634586831257974, 0.4999480362325893, 0.3602253765240135, 0.3727592193635557, 0.52562213069193, 0.9148068591915239, 0.49982358231250784, 0.6567702899336259, 0.5195595024740439, 0.5258383924881622, 0.739621181453071, 0.8036327756777436, 0.5832632216376237, 0.6132699959034599, 1.4421930159715295, 1.168373261480178, 1.168462863289809, 1.1207113679896752, 0.8903713497580311, 0.8727108234347895, 0.6962644611511001, 0.6802035055617929, 0.6777384430746575, 0.705025714522849, 0.7338172643606096, 0.9706576575791155, 0.5508231702670991, 0.5580165848697883, 1.4473453611496643, 0.9252192199738904, 0.6274676323079291, 1.07147686146792, 0.48272381772785344, 0.4577747291321692, 0.420125765530623, 0.388424881585046, 0.5497968485703464, 0.437960094287616, 0.4793757578594784, 0.3884434240478033, 0.4793354900925021, 0.5177568714469328, 0.4218064987218281, 0.49063708497444025, 0.5373538674503318, 0.7882502672616927, 0.6158691651223913, 0.6635961139633745, 0.48854803180360884, 0.5016057353495471], \"Total\": [2.0, 4.0, 3.0, 2.0, 2.0, 2.0, 3.0, 2.0, 4.0, 4.0, 2.0, 3.0, 3.0, 2.0, 2.0, 2.0, 2.0, 2.0, 3.0, 2.0, 2.0, 2.0, 2.0, 2.0, 3.0, 5.0, 2.0, 2.0, 2.0, 2.0, 3.272649506369404, 2.391629730391373, 2.5257918817067098, 2.7831325948473817, 1.9421625903982982, 2.9596002818997404, 3.2202168241275646, 2.7561144795726005, 1.947850212758767, 2.405297627462048, 5.243675508754356, 2.017663782513024, 1.9110371951854477, 2.2399245356431594, 2.7348340326108294, 3.167300680153511, 1.8858946196584625, 2.5540592620377156, 2.7913609507181363, 2.7179263242087752, 2.3802067569997347, 2.0523032664166867, 2.173560222062456, 2.326182246838651, 2.1826557363284245, 3.2682955584456743, 2.4435577956331325, 4.606897591988275, 3.5181697646862897, 2.618042490300967, 4.5555900320466645, 4.548460321738007, 7.031938750616427, 5.263216433199884, 2.999840531515787, 4.502342684680496, 3.6264223149421357, 5.513196189222488, 7.038026688879853, 4.4596793976396665, 4.8295814952355185, 3.700892399355314, 2.32772391411108, 1.844178511219757, 2.2519619890546876, 3.5855718972799373, 2.063074238757362, 1.9949139476884412, 1.9542556225005645, 2.5060999345964996, 2.447461145776968, 3.159110410711138, 2.0246746099858655, 3.009775538601578, 2.105311348908214, 2.5627640139233243, 2.8442026672839016, 3.2682955584456743, 1.803728275586984, 4.277629373627038, 2.3620740195004646, 2.57898664915672, 1.9993221440035414, 2.338485266335752, 2.592587963680005, 1.9751442048007197, 2.3361532548880293, 2.3062699891830243, 2.6070601550643464, 2.640341104322602, 2.2484089643368645, 3.037770251838778, 3.5181697646862897, 4.502342684680496, 3.8100201695366236, 5.56905602642504, 7.031938750616427, 7.038026688879853, 5.263216433199884, 3.964312660655521, 3.8500321351581106, 4.606897591988275, 3.9908391712003737, 3.453105409372282, 4.600293898394319, 4.5555900320466645, 5.243675508754356, 2.3841654379775106, 2.2158485075820935, 2.318222190595385, 2.036503988533243, 1.7654152432108594, 2.0714155808011165, 1.9361424336196051, 1.8344031928717808, 2.2898639268435943, 2.519153121948716, 1.9746774485003369, 1.9780495325274279, 2.3062699891830243, 1.6580205654878515, 2.2484089643368645, 1.788055500614181, 2.5211495767916783, 1.9532316580411115, 2.265557300498941, 2.6815924482579385, 3.185557676020566, 3.0832320200050853, 3.037770251838778, 2.6669501231939656, 3.00700337416192, 2.867011894278031, 2.165771655322426, 1.9993221440035414, 2.0696721468063726, 2.996139532847388, 3.9908391712003737, 7.038026688879853, 3.700892399355314, 4.8295814952355185, 3.773342251817407, 3.6264223149421357, 4.606897591988275, 4.5555900320466645, 4.502342684680496, 5.263216433199884, 7.031938750616427, 3.167300680153511, 1.8730609687216058, 2.440904292266665, 2.7076423329760497, 1.9745164555006145, 2.085587658046771, 2.8442026672839016, 3.9908391712003737, 2.0660342154389637, 2.4988055264079247, 1.9049756497421757, 2.0865895473070064, 3.0286675111177725, 1.8011117918028887, 2.7434341600096426, 2.4742822939801266, 2.214735381829525, 2.6557782749133416, 2.7558596762446848, 2.7179263242087752, 3.623014300555738, 2.4094250669354262, 2.5780163694530107, 1.9421625903982982, 3.773342251817407, 1.844178511219757, 2.135376083997977, 3.8500321351581106, 2.338485266335752, 2.618042490300967, 2.173560222062456, 5.56905602642504, 3.037770251838778, 4.548460321738007, 7.038026688879853, 3.453105409372282, 3.964312660655521, 4.4596793976396665, 2.4742822939801266, 3.3936073994763847, 1.929708904291008, 3.5855718972799373, 2.640341104322602, 2.2764367064786333, 1.9751442048007197, 2.450441537388038, 2.014323976843204, 2.5038145145105384, 2.613849236571135, 2.370936747559641, 2.073390208700549, 2.214735381829525, 2.0016863839639196, 2.999840531515787, 2.2399245356431594, 2.5780163694530107, 2.3361532548880293, 2.259785705485598, 2.149964839080904, 2.4435577956331325, 3.5181697646862897, 2.996139532847388, 1.9665889215044652, 2.0429385020638327, 3.964312660655521, 2.017663782513024, 3.8100201695366236, 4.3126401356950135, 4.600293898394319, 5.263216433199884, 4.8295814952355185, 4.606897591988275, 4.277629373627038, 2.135376083997977, 1.983623153415526, 2.5115119615066863, 2.5310237959773985, 2.0714155808011165, 2.2001315812795754, 4.3126401356950135, 3.7836018985877518, 3.2525108685212247, 2.045088631906091, 2.2898639268435943, 2.228289047915726, 2.447461145776968, 2.6267716889061545, 2.476779768436904, 3.159110410711138, 2.6669501231939656, 2.393781379507504, 1.8169228328121858, 2.519153121948716, 2.4094250669354262, 2.7625529600347822, 2.6815924482579385, 1.7527436150432152, 1.788055500614181, 5.56905602642504, 1.9746774485003369, 2.7084851637823615, 1.8409298657858457, 2.070075751459571, 7.031938750616427, 2.634003057059312, 2.996139532847388, 3.3936073994763847, 3.618984745413032, 7.038026688879853, 3.6375001100658255, 4.600293898394319, 4.277629373627038, 5.263216433199884, 2.014323976843204, 2.035713836424442, 2.2768499252234626, 2.165771655322426, 2.4923849514635585, 2.786664224408733, 2.367884751192382, 2.0532104430899816, 2.240454738263826, 2.3620740195004646, 2.265557300498941, 2.2930090096598503, 1.892489782395603, 2.0865895473070064, 2.6669501231939656, 2.001865621484157, 2.592587963680005, 2.414640124293776, 3.8500321351581106, 2.7434341600096426, 2.6815924482579385, 1.8940651249862706, 2.4094250669354262, 1.7527436150432152, 1.8169228328121858, 2.6267716889061545, 4.600293898394319, 2.5211495767916783, 3.336305358049305, 2.6449564818200946, 2.7076423329760497, 5.243675508754356, 7.031938750616427, 3.8100201695366236, 4.8295814952355185, 2.3378380757094392, 2.0044615901078195, 2.0903995264084605, 2.228289047915726, 2.247357800765608, 2.57898664915672, 2.073390208700549, 2.045088631906091, 2.1826557363284245, 2.3172982359302505, 2.414640124293776, 3.2042151711079976, 1.9176197069216208, 2.001865621484157, 5.513196189222488, 3.6375001100658255, 2.4923849514635585, 4.548460321738007, 2.070075751459571, 1.9665889215044652, 1.8833144444896572, 1.7527436150432152, 2.5540592620377156, 2.036503988533243, 2.2768499252234626, 1.9110371951854477, 2.3785797932947235, 2.6070601550643464, 2.149964839080904, 2.5310237959773985, 2.867011894278031, 4.600293898394319, 3.453105409372282, 3.964312660655521, 2.7625529600347822, 2.982678842325326], \"Category\": [\"Default\", \"Default\", \"Default\", \"Default\", \"Default\", \"Default\", \"Default\", \"Default\", \"Default\", \"Default\", \"Default\", \"Default\", \"Default\", \"Default\", \"Default\", \"Default\", \"Default\", \"Default\", \"Default\", \"Default\", \"Default\", \"Default\", \"Default\", \"Default\", \"Default\", \"Default\", \"Default\", \"Default\", \"Default\", \"Default\", \"Topic1\", \"Topic1\", \"Topic1\", \"Topic1\", \"Topic1\", \"Topic1\", \"Topic1\", \"Topic1\", \"Topic1\", \"Topic1\", \"Topic1\", \"Topic1\", \"Topic1\", \"Topic1\", \"Topic1\", \"Topic1\", \"Topic1\", \"Topic1\", \"Topic1\", \"Topic1\", \"Topic1\", \"Topic1\", \"Topic1\", \"Topic1\", \"Topic1\", \"Topic1\", \"Topic1\", \"Topic1\", \"Topic1\", \"Topic1\", \"Topic1\", \"Topic1\", \"Topic1\", \"Topic1\", \"Topic1\", \"Topic1\", \"Topic1\", \"Topic1\", \"Topic1\", \"Topic1\", \"Topic1\", \"Topic1\", \"Topic2\", \"Topic2\", \"Topic2\", \"Topic2\", \"Topic2\", \"Topic2\", \"Topic2\", \"Topic2\", \"Topic2\", \"Topic2\", \"Topic2\", \"Topic2\", \"Topic2\", \"Topic2\", \"Topic2\", \"Topic2\", \"Topic2\", \"Topic2\", \"Topic2\", \"Topic2\", \"Topic2\", \"Topic2\", \"Topic2\", \"Topic2\", \"Topic2\", \"Topic2\", \"Topic2\", \"Topic2\", \"Topic2\", \"Topic2\", \"Topic2\", \"Topic2\", \"Topic2\", \"Topic2\", \"Topic2\", \"Topic2\", \"Topic2\", \"Topic2\", \"Topic2\", \"Topic2\", \"Topic2\", \"Topic2\", \"Topic2\", \"Topic2\", \"Topic2\", \"Topic3\", \"Topic3\", \"Topic3\", \"Topic3\", \"Topic3\", \"Topic3\", \"Topic3\", \"Topic3\", \"Topic3\", \"Topic3\", \"Topic3\", \"Topic3\", \"Topic3\", \"Topic3\", \"Topic3\", \"Topic3\", \"Topic3\", \"Topic3\", \"Topic3\", \"Topic3\", \"Topic3\", \"Topic3\", \"Topic3\", \"Topic3\", \"Topic3\", \"Topic3\", \"Topic3\", \"Topic3\", \"Topic3\", \"Topic3\", \"Topic3\", \"Topic3\", \"Topic3\", \"Topic3\", \"Topic3\", \"Topic3\", \"Topic3\", \"Topic3\", \"Topic3\", \"Topic3\", \"Topic3\", \"Topic3\", \"Topic4\", \"Topic4\", \"Topic4\", \"Topic4\", \"Topic4\", \"Topic4\", \"Topic4\", \"Topic4\", \"Topic4\", \"Topic4\", \"Topic4\", \"Topic4\", \"Topic4\", \"Topic4\", \"Topic4\", \"Topic4\", \"Topic4\", \"Topic4\", \"Topic4\", \"Topic4\", \"Topic4\", \"Topic4\", \"Topic4\", \"Topic4\", \"Topic4\", \"Topic4\", \"Topic4\", \"Topic4\", \"Topic4\", \"Topic4\", \"Topic4\", \"Topic4\", \"Topic4\", \"Topic4\", \"Topic4\", \"Topic4\", \"Topic5\", \"Topic5\", \"Topic5\", \"Topic5\", \"Topic5\", \"Topic5\", \"Topic5\", \"Topic5\", \"Topic5\", \"Topic5\", \"Topic5\", \"Topic5\", \"Topic5\", \"Topic5\", \"Topic5\", \"Topic5\", \"Topic5\", \"Topic5\", \"Topic5\", \"Topic5\", \"Topic5\", \"Topic5\", \"Topic5\", \"Topic5\", \"Topic5\", \"Topic5\", \"Topic5\", \"Topic5\", \"Topic5\", \"Topic5\", \"Topic5\", \"Topic5\", \"Topic5\", \"Topic5\", \"Topic5\", \"Topic5\", \"Topic6\", \"Topic6\", \"Topic6\", \"Topic6\", \"Topic6\", \"Topic6\", \"Topic6\", \"Topic6\", \"Topic6\", \"Topic6\", \"Topic6\", \"Topic6\", \"Topic6\", \"Topic6\", \"Topic6\", \"Topic6\", \"Topic6\", \"Topic6\", \"Topic6\", \"Topic6\", \"Topic6\", \"Topic6\", \"Topic6\", \"Topic6\", \"Topic6\", \"Topic6\", \"Topic6\", \"Topic6\", \"Topic6\", \"Topic6\", \"Topic6\", \"Topic6\", \"Topic6\", \"Topic6\", \"Topic6\", \"Topic6\", \"Topic6\", \"Topic6\", \"Topic6\", \"Topic6\", \"Topic7\", \"Topic7\", \"Topic7\", \"Topic7\", \"Topic7\", \"Topic7\", \"Topic7\", \"Topic7\", \"Topic7\", \"Topic7\", \"Topic7\", \"Topic7\", \"Topic7\", \"Topic7\", \"Topic7\", \"Topic7\", \"Topic7\", \"Topic7\", \"Topic7\", \"Topic7\", \"Topic7\", \"Topic7\", \"Topic7\", \"Topic7\", \"Topic7\", \"Topic7\", \"Topic7\", \"Topic7\", \"Topic7\", \"Topic7\", \"Topic7\", \"Topic7\", \"Topic7\", \"Topic7\", \"Topic7\", \"Topic8\", \"Topic8\", \"Topic8\", \"Topic8\", \"Topic8\", \"Topic8\", \"Topic8\", \"Topic8\", \"Topic8\", \"Topic8\", \"Topic8\", \"Topic8\", \"Topic8\", \"Topic8\", \"Topic8\", \"Topic8\", \"Topic8\", \"Topic8\", \"Topic8\", \"Topic8\", \"Topic8\", \"Topic8\", \"Topic8\", \"Topic8\", \"Topic8\", \"Topic8\", \"Topic8\", \"Topic8\", \"Topic8\", \"Topic8\", \"Topic8\", \"Topic8\", \"Topic8\", \"Topic8\", \"Topic8\", \"Topic8\"], \"logprob\": [30.0, 29.0, 28.0, 27.0, 26.0, 25.0, 24.0, 23.0, 22.0, 21.0, 20.0, 19.0, 18.0, 17.0, 16.0, 15.0, 14.0, 13.0, 12.0, 11.0, 10.0, 9.0, 8.0, 7.0, 6.0, 5.0, 4.0, 3.0, 2.0, 1.0, -3.8112, -4.2486, -4.224, -4.2495, -4.6394, -4.2337, -4.1793, -4.3404, -4.7184, -4.5341, -3.765, -4.7315, -4.815, -4.6779, -4.4876, -4.3805, -4.92, -4.6304, -4.5583, -4.6083, -4.751, -4.9023, -4.8504, -4.7983, -4.8638, -4.4928, -4.7836, -4.1741, -4.4486, -4.7485, -4.2246, -4.2757, -3.9902, -4.2244, -4.6456, -4.4169, -4.5433, -4.3961, -4.3216, -4.5037, -4.531, -4.6522, -4.2878, -4.5659, -4.3928, -3.948, -4.5282, -4.5701, -4.6718, -4.4372, -4.4962, -4.248, -4.7, -4.3087, -4.6892, -4.5094, -4.4151, -4.2865, -4.8822, -4.0394, -4.6381, -4.5572, -4.8408, -4.7121, -4.6258, -4.9239, -4.758, -4.8343, -4.7262, -4.7337, -4.9111, -4.6123, -4.467, -4.2799, -4.4271, -4.1321, -3.9621, -4.1392, -4.3571, -4.5093, -4.5259, -4.4666, -4.5186, -4.5852, -4.5371, -4.5402, -4.5384, -4.0583, -4.3174, -4.3055, -4.4451, -4.6342, -4.4814, -4.5582, -4.6157, -4.4119, -4.3229, -4.582, -4.6142, -4.462, -4.823, -4.5246, -4.8334, -4.5121, -4.771, -4.6341, -4.4848, -4.3338, -4.403, -4.4525, -4.6075, -4.4942, -4.544, -4.8257, -4.9121, -4.8918, -4.5352, -4.26, -3.8842, -4.4118, -4.2311, -4.4023, -4.4666, -4.3874, -4.4107, -4.4549, -4.494, -4.4853, -4.5752, -4.1273, -4.0341, -3.9779, -4.3505, -4.3382, -4.1085, -3.8128, -4.5148, -4.3352, -4.6232, -4.5471, -4.1923, -4.7346, -4.36, -4.4665, -4.5875, -4.4432, -4.4067, -4.4378, -4.1979, -4.6308, -4.5863, -4.8725, -4.2348, -5.0063, -4.8639, -4.2784, -4.7961, -4.6866, -4.9064, -4.0443, -4.6024, -4.4686, -4.4767, -4.7149, -4.6937, -3.4248, -4.2094, -3.8973, -4.463, -3.9004, -4.2321, -4.3821, -4.5328, -4.3365, -4.6107, -4.3962, -4.3643, -4.4782, -4.6563, -4.6012, -4.7148, -4.3106, -4.6438, -4.511, -4.6144, -4.6498, -4.7079, -4.6139, -4.263, -4.4343, -4.9028, -4.9025, -4.2853, -4.9622, -4.3396, -4.3908, -4.3765, -4.428, -4.5032, -4.5183, -4.5535, -3.9243, -4.2208, -4.0561, -4.0841, -4.3687, -4.3128, -3.6479, -3.8739, -4.075, -4.6301, -4.5227, -4.5724, -4.4798, -4.4781, -4.5434, -4.3066, -4.4772, -4.593, -4.9184, -4.6028, -4.663, -4.5535, -4.5927, -5.0275, -5.0331, -3.9029, -4.9408, -4.6298, -5.0329, -4.9183, -3.7681, -4.7018, -4.6149, -4.5163, -4.4721, -4.0363, -4.4885, -4.3901, -4.4901, -4.4448, -4.0906, -4.1219, -4.113, -4.1875, -4.153, -4.0539, -4.3089, -4.4639, -4.4462, -4.4188, -4.4868, -4.4864, -4.6955, -4.602, -4.3583, -4.6493, -4.4116, -4.4837, -4.0273, -4.4346, -4.4863, -4.8564, -4.6491, -4.9769, -4.9427, -4.599, -4.0449, -4.6494, -4.3763, -4.6106, -4.5986, -4.2575, -4.1745, -4.495, -4.4448, -3.5809, -3.7914, -3.7913, -3.8331, -4.0631, -4.0832, -4.3091, -4.3324, -4.336, -4.2965, -4.2565, -3.9768, -4.5434, -4.5304, -3.5773, -4.0247, -4.4131, -3.878, -4.6753, -4.7284, -4.8142, -4.8927, -4.5452, -4.7727, -4.6823, -4.8926, -4.6824, -4.6053, -4.8102, -4.6591, -4.5681, -4.185, -4.4317, -4.3571, -4.6633, -4.637], \"loglift\": [30.0, 29.0, 28.0, 27.0, 26.0, 25.0, 24.0, 23.0, 22.0, 21.0, 20.0, 19.0, 18.0, 17.0, 16.0, 15.0, 14.0, 13.0, 12.0, 11.0, 10.0, 9.0, 8.0, 7.0, 6.0, 5.0, 4.0, 3.0, 2.0, 1.0, 1.2805, 1.1568, 1.1269, 1.0043, 0.9742, 0.9586, 0.9287, 0.9232, 0.8923, 0.8656, 0.8554, 0.844, 0.8148, 0.793, 0.7837, 0.744, 0.723, 0.7093, 0.6925, 0.6692, 0.6592, 0.6561, 0.6506, 0.6348, 0.6331, 0.6003, 0.6003, 0.5758, 0.5708, 0.5665, 0.5364, 0.4869, 0.3367, 0.3922, 0.5332, 0.3559, 0.4459, 0.1741, 0.0044, 0.2786, 0.1716, 0.3167, 1.1447, 1.0995, 1.0728, 1.0525, 1.025, 1.0167, 0.9356, 0.9215, 0.8862, 0.8791, 0.8719, 0.8669, 0.8437, 0.8269, 0.817, 0.8066, 0.8053, 0.7846, 0.7797, 0.7728, 0.7437, 0.7158, 0.6989, 0.6729, 0.6709, 0.6074, 0.593, 0.5728, 0.5561, 0.554, 0.5524, 0.4929, 0.5126, 0.4281, 0.3648, 0.1869, 0.2596, 0.3908, 0.4034, 0.2832, 0.3748, 0.4529, 0.2142, 0.2208, 0.0819, 1.3502, 1.1644, 1.1311, 1.1211, 1.0748, 1.0678, 1.0585, 1.055, 1.037, 1.0305, 1.015, 0.9811, 0.9798, 0.9488, 0.9426, 0.8629, 0.8405, 0.837, 0.8254, 0.8062, 0.785, 0.7484, 0.7138, 0.6889, 0.6822, 0.6801, 0.6789, 0.6724, 0.6582, 0.6448, 0.6334, 0.4419, 0.5571, 0.4715, 0.5471, 0.5225, 0.3625, 0.3503, 0.3179, 0.1227, -0.1584, 0.5493, 1.5225, 1.3509, 1.3034, 1.2466, 1.2041, 1.1236, 1.0806, 1.037, 1.0264, 1.0098, 0.9947, 0.977, 0.9544, 0.9082, 0.9049, 0.8948, 0.8574, 0.857, 0.8397, 0.7922, 0.7672, 0.7441, 0.7411, 0.7146, 0.6591, 0.6548, 0.6509, 0.6318, 0.6284, 0.5947, 0.5158, 0.5639, 0.294, -0.1506, 0.3232, 0.2064, 1.3575, 1.162, 1.1582, 1.157, 1.1, 1.0744, 1.0727, 1.0639, 1.0446, 0.9664, 0.9634, 0.9523, 0.9359, 0.8919, 0.8811, 0.8686, 0.8683, 0.8271, 0.8194, 0.8145, 0.8123, 0.804, 0.77, 0.7565, 0.7458, 0.6983, 0.6606, 0.6147, 0.6132, 0.6001, 0.425, 0.3748, 0.1886, 0.1995, 0.2315, 0.2705, 1.5945, 1.3717, 1.3004, 1.2647, 1.1804, 1.1761, 1.1679, 1.0728, 1.0229, 0.9318, 0.9262, 0.9037, 0.9026, 0.8335, 0.827, 0.8205, 0.8193, 0.8115, 0.7618, 0.7506, 0.735, 0.7077, 0.6983, 0.6887, 0.6631, 0.6573, 0.6562, 0.6512, 0.6342, 0.6315, 0.5588, 0.6071, 0.5652, 0.5392, 0.5191, 0.2897, 0.4976, 0.3612, 0.3339, 0.1718, 1.4866, 1.4446, 1.3416, 1.3171, 1.2112, 1.1987, 1.1065, 1.094, 1.0245, 0.999, 0.9727, 0.9612, 0.944, 0.9399, 0.9382, 0.934, 0.9131, 0.9121, 0.902, 0.8336, 0.8047, 0.7823, 0.7489, 0.7393, 0.7376, 0.7126, 0.7064, 0.7033, 0.6962, 0.6941, 0.6827, 0.3629, 0.1525, 0.4448, 0.2578, 1.8473, 1.7906, 1.7487, 1.6431, 1.4045, 1.2468, 1.2392, 1.2296, 1.1608, 1.1404, 1.1393, 1.1361, 1.0829, 1.0529, 0.993, 0.9613, 0.9511, 0.8846, 0.8745, 0.8727, 0.8301, 0.8235, 0.7945, 0.7935, 0.7723, 0.7371, 0.7285, 0.7139, 0.7017, 0.6897, 0.656, 0.5663, 0.6064, 0.543, 0.5979, 0.5476]}, \"token.table\": {\"Topic\": [3, 2, 3, 2, 6, 2, 6, 5, 3, 1, 4, 7, 2, 3, 8, 3, 1, 2, 5, 2, 8, 6, 8, 1, 4, 5, 6, 8, 3, 2, 7, 4, 1, 1, 7, 2, 3, 1, 4, 6, 2, 3, 1, 3, 2, 5, 4, 7, 1, 1, 3, 6, 1, 2, 4, 5, 1, 1, 1, 2, 1, 1, 8, 7, 3, 5, 6, 1, 2, 1, 3, 4, 2, 7, 7, 2, 3, 6, 1, 3, 4, 2, 3, 4, 1, 4, 4, 5, 5, 1, 2, 4, 7, 3, 5, 1, 1, 2, 3, 5, 7, 4, 1, 5, 2, 8, 2, 3, 4, 1, 3, 8, 4, 2, 2, 3, 5, 3, 6, 7, 1, 2, 3, 1, 5, 1, 2, 3, 5, 7, 3, 1, 2, 4, 8, 3, 5, 6, 1, 1, 5, 1, 2, 3, 2, 1, 4, 1, 4, 1, 4, 2, 3, 4, 5, 3, 3, 6, 7, 1, 6, 2, 4, 5, 8, 4, 5, 1, 3, 1, 5, 2, 6, 5, 8, 1, 2, 3, 4, 6, 3, 2, 5, 2, 3, 6, 2, 3, 5, 6, 1, 2, 5, 1, 2, 3, 1, 8, 3, 6, 2, 3, 7, 1, 4, 5, 7, 2, 3, 4, 1, 6, 8, 5, 1, 2, 3, 8, 3, 2, 4, 1, 2, 7, 8, 1, 1, 4, 3, 7, 8, 2, 1, 1, 2, 3, 6, 7, 1, 2, 5, 6, 2, 5, 6, 7, 8, 4, 6, 1, 5, 3, 4, 2, 5, 8, 3, 6, 2, 3, 1, 6, 1, 2, 4, 7, 3, 6, 7, 5, 7, 8, 1, 2, 5, 7, 1, 1, 4, 6, 1, 6, 4, 7, 3, 3, 6, 4, 7, 8, 1, 3, 1, 2, 3, 5, 6, 2, 1, 6, 7, 8, 1, 6, 8, 1, 2, 3, 1, 2, 4, 6, 2, 7, 8, 2, 1, 8, 1, 8, 2, 5, 2, 3, 7, 2, 3, 4, 1, 2, 4, 8, 3, 7, 1, 2, 4, 5, 6, 1, 3, 6, 2, 4], \"Freq\": [0.5055485130962634, 0.31391677743823215, 0.31391677743823215, 0.4085866702012715, 0.4085866702012715, 0.39816652889842813, 0.39816652889842813, 0.408089719645348, 0.3796502807086462, 0.4204189419329237, 0.4792509390697465, 0.4792509390697465, 0.34879520451093887, 0.34879520451093887, 0.34879520451093887, 0.419433980574897, 0.5133864983302213, 0.3825775358458725, 0.3825775358458725, 0.3835738113128879, 0.3835738113128879, 0.4487748126462183, 0.4487748126462183, 0.46007466913022366, 0.40415760256336863, 0.40415760256336863, 0.4889763623926493, 0.4889763623926493, 0.5664389745390689, 0.3857149743843472, 0.3857149743843472, 0.409684231851378, 0.42013156926774975, 0.3588519891420278, 0.3588519891420278, 0.44475894548611866, 0.44475894548611866, 0.6111256326433655, 0.4683015827955425, 0.4683015827955425, 0.5422468562105686, 0.6031288277210016, 0.32433498144533107, 0.32433498144533107, 0.42805410899634216, 0.42805410899634216, 0.3645066517639648, 0.3645066517639648, 0.3582481870510974, 0.40375006802930247, 0.40375006802930247, 0.40375006802930247, 0.276013263278207, 0.276013263278207, 0.276013263278207, 0.44251983609441997, 0.49562271408494446, 0.4298889312559362, 0.47498912715147174, 0.47498912715147174, 0.35930735095100164, 0.31208890370936176, 0.31208890370936176, 0.4463379611832375, 0.29467168186699927, 0.29467168186699927, 0.29467168186699927, 0.3990263860571096, 0.3990263860571096, 0.3157262606187211, 0.3157262606187211, 0.3157262606187211, 0.42335675840145, 0.42335675840145, 0.49122817859135587, 0.264298419020578, 0.264298419020578, 0.264298419020578, 0.3679275597329201, 0.3679275597329201, 0.3679275597329201, 0.2650170414619443, 0.2650170414619443, 0.2650170414619443, 0.36565290181259835, 0.5064531101851274, 0.3878951320282635, 0.3878951320282635, 0.5182128754115941, 0.38141185446372206, 0.19070592723186103, 0.19070592723186103, 0.19070592723186103, 0.51197204176124, 0.4995787591958886, 0.5302523214054776, 0.20705727835559262, 0.20705727835559262, 0.20705727835559262, 0.20705727835559262, 0.20705727835559262, 0.5552126217545961, 0.3333510529957107, 0.3333510529957107, 0.3877491961142882, 0.3877491961142882, 0.3291888184745686, 0.3291888184745686, 0.3291888184745686, 0.3352690828826848, 0.3352690828826848, 0.3352690828826848, 0.5338854509805498, 0.49390652456840023, 0.33225069018423437, 0.33225069018423437, 0.33225069018423437, 0.5592667563487314, 0.5041280135685741, 0.48704213606816105, 0.30596988005441494, 0.30596988005441494, 0.3966444550555239, 0.4092393483743638, 0.4092393483743638, 0.2170658192487438, 0.2170658192487438, 0.2170658192487438, 0.2170658192487438, 0.43920329966493266, 0.5164909268222105, 0.289594403138068, 0.289594403138068, 0.289594403138068, 0.289594403138068, 0.3337628268098875, 0.3337628268098875, 0.3337628268098875, 0.415748965359913, 0.22423136527017185, 0.4484627305403437, 0.2195105338639824, 0.2195105338639824, 0.2195105338639824, 0.48471353149284796, 0.4001912071314797, 0.4001912071314797, 0.3819647708945477, 0.3819647708945477, 0.33017820421989336, 0.33017820421989336, 0.500169521454682, 0.500169521454682, 0.45152121025579617, 0.45152121025579617, 0.48316831317610354, 0.3749601431624789, 0.3749601431624789, 0.3749601431624789, 0.3692100711393649, 0.3692100711393649, 0.2522505376340938, 0.2522505376340938, 0.2522505376340938, 0.2522505376340938, 0.4794811650048488, 0.46512388566665747, 0.2757538734194438, 0.2757538734194438, 0.4464436118660871, 0.4464436118660871, 0.31654480850350936, 0.31654480850350936, 0.4823018821077233, 0.4823018821077233, 0.1420852810319701, 0.1420852810319701, 0.2841705620639402, 0.1420852810319701, 0.1420852810319701, 0.49103758481722043, 0.3787389433747262, 0.3787389433747262, 0.3969587998789212, 0.3969587998789212, 0.3969587998789212, 0.23377434383757553, 0.23377434383757553, 0.23377434383757553, 0.23377434383757553, 0.28423869991650863, 0.28423869991650863, 0.28423869991650863, 0.33788346558681537, 0.33788346558681537, 0.4512943897465209, 0.45815745623822457, 0.45815745623822457, 0.4367071721062592, 0.4367071721062592, 0.2997327560522479, 0.2997327560522479, 0.2997327560522479, 0.3628631779113897, 0.3628631779113897, 0.496444470450664, 0.496444470450664, 0.25057386607218696, 0.25057386607218696, 0.25057386607218696, 0.41774909294588125, 0.41774909294588125, 0.42774562121738924, 0.3993906074929382, 0.18138298832079608, 0.18138298832079608, 0.18138298832079608, 0.18138298832079608, 0.5064118196920956, 0.42762723990428736, 0.42762723990428736, 0.43610818613762975, 0.43610818613762975, 0.43610818613762975, 0.4449669739546278, 0.41812492431107096, 0.48725742260596605, 0.48401908958101797, 0.3780780541658902, 0.3780780541658902, 0.49888708515797014, 0.5544072316960114, 0.5232760526688544, 0.2844165842349918, 0.2844165842349918, 0.1422082921174959, 0.1422082921174959, 0.1422082921174959, 0.23187652308922424, 0.23187652308922424, 0.23187652308922424, 0.23187652308922424, 0.2173774158970667, 0.2173774158970667, 0.2173774158970667, 0.2173774158970667, 0.2173774158970667, 0.4150367711048639, 0.4150367711048639, 0.42177422110871604, 0.42177422110871604, 0.5451364257791591, 0.5249410931501106, 0.5062921469578947, 0.5062921469578947, 0.478377452428011, 0.3619840106114778, 0.3619840106114778, 0.43360057785525846, 0.43360057785525846, 0.4545182699565676, 0.4545182699565676, 0.2597380917598322, 0.2597380917598322, 0.2597380917598322, 0.2597380917598322, 0.37291274468259966, 0.37291274468259966, 0.37291274468259966, 0.43928302383898765, 0.4012221303987524, 0.4012221303987524, 0.2624658021486591, 0.2624658021486591, 0.2624658021486591, 0.2624658021486591, 0.514889950482941, 0.31053809560507606, 0.31053809560507606, 0.31053809560507606, 0.3959154383393961, 0.39509703606474106, 0.3693249982913624, 0.3693249982913624, 0.43136503655983544, 0.4827616482508313, 0.4827616482508313, 0.37653745775619396, 0.41414038884675447, 0.41414038884675447, 0.2702050997684227, 0.2702050997684227, 0.18999788678498802, 0.18999788678498802, 0.18999788678498802, 0.18999788678498802, 0.18999788678498802, 0.5117037855674437, 0.38069543851998117, 0.38069543851998117, 0.38069543851998117, 0.4315370307087652, 0.27491408102855114, 0.27491408102855114, 0.27491408102855114, 0.22210659428536234, 0.22210659428536234, 0.22210659428536234, 0.2763205899852089, 0.2763205899852089, 0.2763205899852089, 0.2763205899852089, 0.4440572287011704, 0.42231785119458864, 0.4995340292914432, 0.3902036998206106, 0.3628296311389334, 0.521479830641349, 0.391533593156396, 0.391533593156396, 0.5577910741427962, 0.2788955370713981, 0.4296042129128032, 0.4413924996643303, 0.4413924996643303, 0.5012747548127207, 0.3325569929826598, 0.3325569929826598, 0.2198546165656978, 0.2198546165656978, 0.2198546165656978, 0.2198546165656978, 0.4617291936305845, 0.4617291936305845, 0.17956364512316333, 0.17956364512316333, 0.17956364512316333, 0.17956364512316333, 0.17956364512316333, 0.3074547758405052, 0.3074547758405052, 0.3074547758405052, 0.35159238527645414, 0.35159238527645414], \"Term\": [\"accord\", \"accus\", \"accus\", \"america\", \"america\", \"american\", \"american\", \"announc\", \"anoth\", \"appear\", \"arrest\", \"arrest\", \"attack\", \"attack\", \"attack\", \"back\", \"bank\", \"billion\", \"billion\", \"border\", \"border\", \"bring\", \"bring\", \"build\", \"call\", \"call\", \"candid\", \"candid\", \"carolina\", \"case\", \"case\", \"chang\", \"charg\", \"china\", \"china\", \"chines\", \"chines\", \"close\", \"coach\", \"coach\", \"compani\", \"congression\", \"could\", \"could\", \"countri\", \"countri\", \"court\", \"court\", \"critic\", \"cup\", \"cup\", \"cup\", \"day\", \"day\", \"day\", \"de\", \"decis\", \"defend\", \"defens\", \"defens\", \"democrat\", \"donald\", \"donald\", \"elect\", \"end\", \"end\", \"end\", \"european\", \"european\", \"even\", \"even\", \"even\", \"expect\", \"expect\", \"face\", \"feder\", \"feder\", \"feder\", \"final\", \"final\", \"final\", \"first\", \"first\", \"first\", \"follow\", \"forc\", \"former\", \"former\", \"forward\", \"friday\", \"friday\", \"friday\", \"friday\", \"fund\", \"game\", \"global\", \"govern\", \"govern\", \"govern\", \"govern\", \"govern\", \"handl\", \"head\", \"head\", \"health\", \"health\", \"help\", \"help\", \"help\", \"hous\", \"hous\", \"hous\", \"india\", \"intern\", \"investig\", \"investig\", \"investig\", \"januari\", \"job\", \"key\", \"kill\", \"kill\", \"know\", \"last\", \"last\", \"latest\", \"latest\", \"latest\", \"latest\", \"lawyer\", \"lead\", \"leader\", \"leader\", \"leader\", \"leader\", \"leagu\", \"leagu\", \"leagu\", \"leav\", \"like\", \"like\", \"local\", \"local\", \"local\", \"long\", \"look\", \"look\", \"made\", \"made\", \"make\", \"make\", \"maker\", \"maker\", \"man\", \"man\", \"men\", \"million\", \"million\", \"million\", \"minist\", \"minist\", \"monday\", \"monday\", \"monday\", \"monday\", \"money\", \"month\", \"move\", \"move\", \"much\", \"much\", \"nation\", \"nation\", \"need\", \"need\", \"new\", \"new\", \"new\", \"new\", \"new\", \"next\", \"night\", \"night\", \"north\", \"north\", \"north\", \"offici\", \"offici\", \"offici\", \"offici\", \"one\", \"one\", \"one\", \"open\", \"open\", \"order\", \"parti\", \"parti\", \"partial\", \"partial\", \"peopl\", \"peopl\", \"peopl\", \"plan\", \"plan\", \"play\", \"play\", \"polic\", \"polic\", \"polic\", \"polit\", \"polit\", \"power\", \"premier\", \"presid\", \"presid\", \"presid\", \"presid\", \"price\", \"protest\", \"protest\", \"provid\", \"provid\", \"provid\", \"race\", \"rais\", \"ralli\", \"recent\", \"report\", \"report\", \"republican\", \"round\", \"rule\", \"said\", \"said\", \"said\", \"said\", \"said\", \"saturday\", \"saturday\", \"saturday\", \"saturday\", \"say\", \"say\", \"say\", \"say\", \"say\", \"school\", \"school\", \"score\", \"score\", \"search\", \"season\", \"secur\", \"secur\", \"senat\", \"set\", \"set\", \"sever\", \"sever\", \"shoot\", \"shoot\", \"show\", \"show\", \"show\", \"show\", \"shutdown\", \"shutdown\", \"shutdown\", \"south\", \"start\", \"start\", \"state\", \"state\", \"state\", \"state\", \"stock\", \"sunday\", \"sunday\", \"sunday\", \"support\", \"suspect\", \"talk\", \"talk\", \"team\", \"tenni\", \"tenni\", \"test\", \"thousand\", \"thousand\", \"thursday\", \"thursday\", \"time\", \"time\", \"time\", \"time\", \"time\", \"top\", \"trade\", \"trade\", \"trade\", \"tri\", \"trump\", \"trump\", \"trump\", \"tuesday\", \"tuesday\", \"tuesday\", \"two\", \"two\", \"two\", \"two\", \"union\", \"unit\", \"wall\", \"want\", \"warn\", \"washington\", \"way\", \"way\", \"week\", \"week\", \"weekend\", \"white\", \"white\", \"win\", \"work\", \"work\", \"world\", \"world\", \"world\", \"world\", \"would\", \"would\", \"year\", \"year\", \"year\", \"year\", \"year\", \"york\", \"york\", \"york\", \"young\", \"young\"]}, \"R\": 30, \"lambda.step\": 0.01, \"plot.opts\": {\"xlab\": \"PC1\", \"ylab\": \"PC2\"}, \"topic.order\": [8, 4, 5, 6, 1, 2, 3, 7]};\n",
       "\n",
       "function LDAvis_load_lib(url, callback){\n",
       "  var s = document.createElement('script');\n",
       "  s.src = url;\n",
       "  s.async = true;\n",
       "  s.onreadystatechange = s.onload = callback;\n",
       "  s.onerror = function(){console.warn(\"failed to load library \" + url);};\n",
       "  document.getElementsByTagName(\"head\")[0].appendChild(s);\n",
       "}\n",
       "\n",
       "if(typeof(LDAvis) !== \"undefined\"){\n",
       "   // already loaded: just create the visualization\n",
       "   !function(LDAvis){\n",
       "       new LDAvis(\"#\" + \"ldavis_el445401398213862027203041049592\", ldavis_el445401398213862027203041049592_data);\n",
       "   }(LDAvis);\n",
       "}else if(typeof define === \"function\" && define.amd){\n",
       "   // require.js is available: use it to load d3/LDAvis\n",
       "   require.config({paths: {d3: \"https://d3js.org/d3.v5\"}});\n",
       "   require([\"d3\"], function(d3){\n",
       "      window.d3 = d3;\n",
       "      LDAvis_load_lib(\"https://cdn.jsdelivr.net/gh/bmabey/pyLDAvis@3.4.0/pyLDAvis/js/ldavis.v3.0.0.js\", function(){\n",
       "        new LDAvis(\"#\" + \"ldavis_el445401398213862027203041049592\", ldavis_el445401398213862027203041049592_data);\n",
       "      });\n",
       "    });\n",
       "}else{\n",
       "    // require.js not available: dynamically load d3 & LDAvis\n",
       "    LDAvis_load_lib(\"https://d3js.org/d3.v5.js\", function(){\n",
       "         LDAvis_load_lib(\"https://cdn.jsdelivr.net/gh/bmabey/pyLDAvis@3.4.0/pyLDAvis/js/ldavis.v3.0.0.js\", function(){\n",
       "                 new LDAvis(\"#\" + \"ldavis_el445401398213862027203041049592\", ldavis_el445401398213862027203041049592_data);\n",
       "            })\n",
       "         });\n",
       "}\n",
       "</script>"
      ],
      "text/plain": [
       "<IPython.core.display.HTML object>"
      ]
     },
     "execution_count": 31,
     "metadata": {},
     "output_type": "execute_result"
    }
   ],
   "source": [
    "# =================================================-\n",
    "#### Slide 5/29: Visualize topics generated with LDA  ####\n",
    "\n",
    "# Prepare LDA vis object by providing:\n",
    "vis = pyLDAvis.gensim.prepare(\n",
    "    chosen_model, corpus_tfidf, dictionary\n",
    ")\n",
    "# The function takes `vis` object that we prepared above as the main argument.\n",
    "pyLDAvis.display(vis)"
   ]
  },
  {
   "cell_type": "code",
   "execution_count": 32,
   "id": "db0a53a0",
   "metadata": {},
   "outputs": [
    {
     "name": "stdout",
     "output_type": "stream",
     "text": [
      "[(0, 0.31942373876087665), (1, 0.3549009519669791), (2, 0.6118718565633235), (3, 0.3549009519669791), (4, 0.3059359282816618), (5, 0.22829905152454918), (6, 0.3549009519669791)]\n",
      "[(0, 0.06096654), (1, 0.0578951), (2, 0.05766507), (3, 0.76461583), (4, 0.058857445)]\n"
     ]
    }
   ],
   "source": [
    "# =================================================-\n",
    "#### Slide 16/29: Get topic probabilities for a document  ####\n",
    "\n",
    "# Select the index of the document in corpus.\n",
    "doc_num = 0\n",
    "# Extract the vector of tf_idf weights for the document.\n",
    "doc_vec = corpus_tfidf[doc_num]\n",
    "print(doc_vec)\n",
    "# Extract topic probabilities for that document.\n",
    "doc_topics = lda_model_tfidf.get_document_topics(doc_vec)\n",
    "print(doc_topics)\n",
    "topic, prob = sorted(doc_topics, key=lambda x: x[1], reverse=True)[0]"
   ]
  },
  {
   "cell_type": "code",
   "execution_count": 33,
   "id": "ea6bb4b4",
   "metadata": {},
   "outputs": [
    {
     "name": "stdout",
     "output_type": "stream",
     "text": [
      "(0, 3, 0.76461583)\n"
     ]
    }
   ],
   "source": [
    "# =================================================-\n",
    "#### Slide 17/29: Get topic probabilities for a document (cont'd)  ####\n",
    "\n",
    "# Initialize maximum probability score.\n",
    "max_prob = 0\n",
    "# Initialize best topic.\n",
    "best_topic = 0\n",
    "\n",
    "# Loop over all topics for the document.\n",
    "for topic in doc_topics:\n",
    "\n",
    "    if max_prob <= topic[1]:  # <- if current topic's probability is as high as max\n",
    "        max_prob = topic[1]  # <- make current topic's probability the new max\n",
    "        best_topic = topic[0]  # <- make current topic best\n",
    "\n",
    "# Create a tuple with information we just got.\n",
    "doc_topic_pair = (doc_num, best_topic, max_prob)\n",
    "print(doc_topic_pair)"
   ]
  },
  {
   "cell_type": "code",
   "execution_count": 34,
   "id": "d790550b",
   "metadata": {},
   "outputs": [],
   "source": [
    "# =================================================-\n",
    "#### Slide 18/29: Get topic probabilities for a document (cont'd)  ####\n",
    "\n",
    "\n",
    "# Put it all together into a function that returns a tuple\n",
    "# with the index of the document, the best fit topic, and its probability.\n",
    "def GetDocTopicPair(doc_num, corpus, lda_model_tfidf):\n",
    "    # Extract the vector of tf_idf weights for the document.\n",
    "    doc_vec = corpus[doc_num]\n",
    "    # Extract topic probabilities for that document.\n",
    "    doc_topics = lda_model_tfidf.get_document_topics(doc_vec)\n",
    "    max_prob = 0\n",
    "    best_topic = 0\n",
    "    for topic in doc_topics:\n",
    "        if max_prob <= topic[1]:\n",
    "            max_prob = topic[1]\n",
    "            best_topic = topic[0]\n",
    "    doc_topic_pair = (doc_num, best_topic, max_prob)\n",
    "    return doc_topic_pair"
   ]
  },
  {
   "cell_type": "code",
   "execution_count": 35,
   "id": "0fbff4f4",
   "metadata": {},
   "outputs": [
    {
     "name": "stdout",
     "output_type": "stream",
     "text": [
      "[(0, 3, 0.7645485), (1, 3, 0.78746754), (2, 4, 0.79786205), (3, 4, 0.7597613), (4, 4, 0.6015693), (5, 0, 0.6989494), (6, 0, 0.597932), (7, 1, 0.72207123), (8, 0, 0.7621833), (9, 1, 0.7705078)]\n"
     ]
    }
   ],
   "source": [
    "# =================================================-\n",
    "#### Slide 19/29: Get topic probabilities for all documents  ####\n",
    "\n",
    "# Create an empty list of the same length as the number of documents.\n",
    "doc_topic_pairs = [None] * dictionary.num_docs\n",
    "\n",
    "# Loop through a range of document indices.\n",
    "for i in range(dictionary.num_docs):\n",
    "    # For each document index, get the document-topic tuple.\n",
    "    doc_topic_pairs[i] = GetDocTopicPair(i, corpus_tfidf, lda_model_tfidf)\n",
    "\n",
    "print(doc_topic_pairs[:10])"
   ]
  },
  {
   "cell_type": "code",
   "execution_count": 36,
   "id": "c379eff3",
   "metadata": {},
   "outputs": [
    {
     "name": "stdout",
     "output_type": "stream",
     "text": [
      "   doc_id  best_topic  best_probability\n",
      "0       0           3          0.764548\n",
      "1       1           3          0.787468\n",
      "2       2           4          0.797862\n",
      "3       3           4          0.759761\n",
      "4       4           4          0.601569\n"
     ]
    }
   ],
   "source": [
    "# =================================================-\n",
    "#### Slide 20/29: Create a data frame with doc-topic assignments  ####\n",
    "\n",
    "# Make a dataframe out of a list of tuples.\n",
    "doc_topic_pairs_df = pd.DataFrame(doc_topic_pairs)\n",
    "\n",
    "# Assign column names to the dataframe.\n",
    "doc_topic_pairs_df.columns = [\"doc_id\", \"best_topic\", \"best_probability\"]\n",
    "print(doc_topic_pairs_df.head())"
   ]
  },
  {
   "cell_type": "code",
   "execution_count": 37,
   "id": "dd895d7f",
   "metadata": {},
   "outputs": [
    {
     "name": "stdout",
     "output_type": "stream",
     "text": [
      "   doc_id  best_topic  best_probability\n",
      "0       0           3          0.764548\n",
      "1       1           3          0.787468\n",
      "2       2           4          0.797862\n",
      "3       3           4          0.759761\n",
      "4       4           4          0.601569\n",
      "5       5           0          0.698949\n",
      "6       6           0          0.597932\n",
      "7       7           1          0.722071\n",
      "8       8           0          0.762183\n",
      "9       9           1          0.770508\n"
     ]
    }
   ],
   "source": [
    "# =================================================-\n",
    "#### Slide 21/29: Matching document ids to original data  ####\n",
    "\n",
    "# Find indices of documents that we kept.\n",
    "valid_documents = np.where(word_counts_array >= 5)[0]\n",
    "# Now assign the index of the original document to be the index of the dataframe.\n",
    "doc_topic_pairs_df.index = valid_documents\n",
    "print(doc_topic_pairs_df.iloc[0:10,])"
   ]
  },
  {
   "cell_type": "code",
   "execution_count": 38,
   "id": "dbe755f6",
   "metadata": {},
   "outputs": [
    {
     "name": "stdout",
     "output_type": "stream",
     "text": [
      "     doc_id  best_topic  best_probability\n",
      "221     219           2          0.806268\n",
      "145     143           2          0.804149\n",
      "68       68           2          0.802440\n",
      "164     162           2          0.799955\n",
      "97       97           2          0.798230\n",
      "(39, 3)\n"
     ]
    }
   ],
   "source": [
    "# =================================================-\n",
    "#### Slide 22/29: Inspect documents for a given topic  ####\n",
    "\n",
    "# Filter and sort all documents assigned to topic 3 by probability in descending order.\n",
    "topic3_docs = doc_topic_pairs_df.query(\"best_topic==2\")\n",
    "topic3_docs = topic3_docs.sort_values(by=\"best_probability\", ascending=False)\n",
    "print(topic3_docs.head())\n",
    "# Let's see how many documents were assigned to that topic.\n",
    "print(topic3_docs.shape)"
   ]
  },
  {
   "cell_type": "code",
   "execution_count": 39,
   "id": "ed2e1851",
   "metadata": {},
   "outputs": [
    {
     "name": "stdout",
     "output_type": "stream",
     "text": [
      "                                               snippet\n",
      "221  Job openings are outnumbering unemployed worke...\n",
      "145  India's central bank, having changed leadershi...\n",
      "68   Greece's public order minister strongly critic...\n",
      "164  Britain is testing how its motorway and ferry ...\n",
      "97   India's Supreme Court is likely to name a pane...\n",
      "125  Global stocks soared Friday and reversed the b...\n",
      "203  SoftBank Group Corp will inject another $2 bil...\n",
      "41   China's population is set to reach a peak of 1...\n",
      "142  Thousands of demonstrators marched in Hong Kon...\n",
      "80   An executive at a San Diego television station...\n"
     ]
    }
   ],
   "source": [
    "# =================================================-\n",
    "#### Slide 23/29: Inspect documents for a given topic (cont'd)  ####\n",
    "\n",
    "# Let's get the top 10 documents that were assigned to that topic.\n",
    "top_10 = topic3_docs.index[0:10,]\n",
    "# Inspect the top 10 documents in topic 3.\n",
    "df_topic3 = df.loc[top_10, :]\n",
    "print(df_topic3[[\"snippet\"]])"
   ]
  },
  {
   "cell_type": "code",
   "execution_count": 40,
   "id": "56e708ff",
   "metadata": {},
   "outputs": [],
   "source": [
    "# =================================================-\n",
    "#### Slide 24/29: Save LDA visualization to HTML file  ####\n",
    "\n",
    "# Save the plot as a self-contained HTML file.\n",
    "pyLDAvis.save_html(vis, \"plot/df_LDAvis.html\")"
   ]
  },
  {
   "cell_type": "code",
   "execution_count": 41,
   "id": "65282278",
   "metadata": {},
   "outputs": [],
   "source": [
    "# =================================================-\n",
    "#### Slide 26/29: Exercise  ####\n",
    "\n",
    "\n",
    "#######################################################\n",
    "####  CONGRATULATIONS ON COMPLETING THIS MODULE!   ####\n",
    "#######################################################"
   ]
  }
 ],
 "metadata": {
  "kernelspec": {
   "display_name": "Python 3 (ipykernel)",
   "language": "python",
   "name": "python3"
  },
  "language": "python",
  "language_info": {
   "codemirror_mode": {
    "name": "ipython",
    "version": 3
   },
   "file_extension": ".py",
   "mimetype": "text/x-python",
   "name": "python",
   "nbconvert_exporter": "python",
   "pygments_lexer": "ipython3",
   "version": "3.10.13"
  }
 },
 "nbformat": 4,
 "nbformat_minor": 5
}
